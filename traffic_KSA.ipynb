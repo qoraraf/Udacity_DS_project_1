{
 "cells": [
  {
   "cell_type": "markdown",
   "id": "263a743b",
   "metadata": {},
   "source": [
    "# Traffic accidents in Saudi Arabia during 1939 Hijri"
   ]
  },
  {
   "cell_type": "markdown",
   "id": "bc810f60",
   "metadata": {},
   "source": [
    "## Business Understanding"
   ]
  },
  {
   "cell_type": "markdown",
   "id": "7f86c9d0",
   "metadata": {},
   "source": [
    "Traffic accidents in Saudi Arabia have become one of the main problems the kingdom is dealing with. With this project I try to look at the number of children involved in those accidents and find out when and where their percentage is lower.\n",
    "\n",
    "- What is the total number of accidents per month?\n",
    "- What is the percentage of children that are involved in these accidents per month?\n",
    "- What is the the percentage of children involved for each region during the whole year?\n",
    "- Comparing the largest regions in the kingdom of Saudi Arabia, where is the highest percentage of children involvement into traffic accidents?\n",
    "\n"
   ]
  },
  {
   "cell_type": "markdown",
   "id": "66c3d1f6",
   "metadata": {},
   "source": [
    "## Data Understanding\n"
   ]
  },
  {
   "cell_type": "code",
   "execution_count": 233,
   "id": "36ccd25f",
   "metadata": {},
   "outputs": [],
   "source": [
    "#importing libraries\n",
    "\n",
    "import pandas as pd\n",
    "import numpy as np\n",
    "import seaborn as sns\n",
    "from matplotlib import pyplot as plt\n",
    "import plotly.express as px\n",
    "%matplotlib inline"
   ]
  },
  {
   "cell_type": "code",
   "execution_count": 234,
   "id": "63567575",
   "metadata": {},
   "outputs": [],
   "source": [
    "# importing data, data received from my mentor, and is to be found in Saudi open data portal. \n",
    "# read all excel sheets and combine them in one dataframe\n",
    "# add a column with sheet's name, which is the region name\n",
    "workbook = pd.ExcelFile('traffic-accident-statistics-as-of-1439-h.xls')\n",
    "sheets = workbook.sheet_names\n",
    "df = pd.concat([pd.read_excel(workbook, sheet_name=s)\n",
    "                .assign(region=s) for s in sheets])\n"
   ]
  },
  {
   "cell_type": "code",
   "execution_count": 235,
   "id": "639f0bb3",
   "metadata": {},
   "outputs": [],
   "source": [
    "# resetting the index\n",
    "df.reset_index(drop=True,inplace=True)"
   ]
  },
  {
   "cell_type": "code",
   "execution_count": 236,
   "id": "fcc3440f",
   "metadata": {},
   "outputs": [
    {
     "data": {
      "text/html": [
       "<div><div id=9f4406f9-b06f-4fc7-a055-f2efd2eb4dbf style=\"display:none; background-color:#9D6CFF; color:white; width:200px; height:30px; padding-left:5px; border-radius:4px; flex-direction:row; justify-content:space-around; align-items:center;\" onmouseover=\"this.style.backgroundColor='#BA9BF8'\" onmouseout=\"this.style.backgroundColor='#9D6CFF'\" onclick=\"window.commands?.execute('create-mitosheet-from-dataframe-output');\">See Full Dataframe in Mito</div> <script> if (window.commands.hasCommand('create-mitosheet-from-dataframe-output')) document.getElementById('9f4406f9-b06f-4fc7-a055-f2efd2eb4dbf').style.display = 'flex' </script> <table border=\"1\" class=\"dataframe\">\n",
       "  <thead>\n",
       "    <tr style=\"text-align: right;\">\n",
       "      <th></th>\n",
       "      <th>الشهر</th>\n",
       "      <th>حادث تلفيات</th>\n",
       "      <th>حادث اصابات</th>\n",
       "      <th>حادث وفيات</th>\n",
       "      <th>مجموع عدد الحوادث</th>\n",
       "      <th>السبت</th>\n",
       "      <th>الا حد</th>\n",
       "      <th>الاثنين</th>\n",
       "      <th>الثلاثاء</th>\n",
       "      <th>الا ربعاء</th>\n",
       "      <th>...</th>\n",
       "      <th>عدم التقيد بالاشارة</th>\n",
       "      <th>السرعة الزائدة</th>\n",
       "      <th>السائق تحت تأثير مخدر</th>\n",
       "      <th>اخرى.1</th>\n",
       "      <th>مجموع الحوادث حسب سبب الحادث</th>\n",
       "      <th>عدد المصابين</th>\n",
       "      <th>عدد المتوفين (القتلى)</th>\n",
       "      <th>سليم</th>\n",
       "      <th>مجموع الأشخاص المشمولين بالحوادث</th>\n",
       "      <th>region</th>\n",
       "    </tr>\n",
       "  </thead>\n",
       "  <tbody>\n",
       "    <tr>\n",
       "      <th>0</th>\n",
       "      <td>محرم</td>\n",
       "      <td>5047</td>\n",
       "      <td>277</td>\n",
       "      <td>75</td>\n",
       "      <td>5399</td>\n",
       "      <td>919</td>\n",
       "      <td>781</td>\n",
       "      <td>625</td>\n",
       "      <td>814</td>\n",
       "      <td>702</td>\n",
       "      <td>...</td>\n",
       "      <td>1208</td>\n",
       "      <td>1304</td>\n",
       "      <td>0</td>\n",
       "      <td>0</td>\n",
       "      <td>5399</td>\n",
       "      <td>393</td>\n",
       "      <td>100</td>\n",
       "      <td>12435</td>\n",
       "      <td>12928</td>\n",
       "      <td>الرياض</td>\n",
       "    </tr>\n",
       "    <tr>\n",
       "      <th>1</th>\n",
       "      <td>صفر</td>\n",
       "      <td>5941</td>\n",
       "      <td>255</td>\n",
       "      <td>78</td>\n",
       "      <td>6274</td>\n",
       "      <td>1427</td>\n",
       "      <td>1407</td>\n",
       "      <td>1434</td>\n",
       "      <td>857</td>\n",
       "      <td>421</td>\n",
       "      <td>...</td>\n",
       "      <td>739</td>\n",
       "      <td>997</td>\n",
       "      <td>0</td>\n",
       "      <td>0</td>\n",
       "      <td>6274</td>\n",
       "      <td>433</td>\n",
       "      <td>98</td>\n",
       "      <td>9110</td>\n",
       "      <td>9641</td>\n",
       "      <td>الرياض</td>\n",
       "    </tr>\n",
       "    <tr>\n",
       "      <th>2</th>\n",
       "      <td>ربيع أول</td>\n",
       "      <td>7808</td>\n",
       "      <td>271</td>\n",
       "      <td>87</td>\n",
       "      <td>8166</td>\n",
       "      <td>1209</td>\n",
       "      <td>1435</td>\n",
       "      <td>1121</td>\n",
       "      <td>1122</td>\n",
       "      <td>1140</td>\n",
       "      <td>...</td>\n",
       "      <td>1380</td>\n",
       "      <td>2444</td>\n",
       "      <td>0</td>\n",
       "      <td>0</td>\n",
       "      <td>8166</td>\n",
       "      <td>455</td>\n",
       "      <td>105</td>\n",
       "      <td>15385</td>\n",
       "      <td>15945</td>\n",
       "      <td>الرياض</td>\n",
       "    </tr>\n",
       "    <tr>\n",
       "      <th>3</th>\n",
       "      <td>ربيع ثانى</td>\n",
       "      <td>7821</td>\n",
       "      <td>266</td>\n",
       "      <td>79</td>\n",
       "      <td>8166</td>\n",
       "      <td>1368</td>\n",
       "      <td>1436</td>\n",
       "      <td>1094</td>\n",
       "      <td>1054</td>\n",
       "      <td>1085</td>\n",
       "      <td>...</td>\n",
       "      <td>1366</td>\n",
       "      <td>1992</td>\n",
       "      <td>0</td>\n",
       "      <td>0</td>\n",
       "      <td>8166</td>\n",
       "      <td>427</td>\n",
       "      <td>91</td>\n",
       "      <td>15181</td>\n",
       "      <td>15699</td>\n",
       "      <td>الرياض</td>\n",
       "    </tr>\n",
       "    <tr>\n",
       "      <th>4</th>\n",
       "      <td>جمادى أول</td>\n",
       "      <td>7923</td>\n",
       "      <td>237</td>\n",
       "      <td>81</td>\n",
       "      <td>8241</td>\n",
       "      <td>1410</td>\n",
       "      <td>1298</td>\n",
       "      <td>1014</td>\n",
       "      <td>1088</td>\n",
       "      <td>1110</td>\n",
       "      <td>...</td>\n",
       "      <td>1426</td>\n",
       "      <td>2228</td>\n",
       "      <td>0</td>\n",
       "      <td>0</td>\n",
       "      <td>8241</td>\n",
       "      <td>358</td>\n",
       "      <td>96</td>\n",
       "      <td>15437</td>\n",
       "      <td>15891</td>\n",
       "      <td>الرياض</td>\n",
       "    </tr>\n",
       "  </tbody>\n",
       "</table></div>"
      ],
      "text/plain": [
       "       الشهر حادث تلفيات حادث اصابات حادث وفيات  مجموع عدد الحوادث السبت  \\\n",
       "0       محرم        5047         277         75               5399   919   \n",
       "1        صفر        5941         255         78               6274  1427   \n",
       "2   ربيع أول        7808         271         87               8166  1209   \n",
       "3  ربيع ثانى        7821         266         79               8166  1368   \n",
       "4  جمادى أول        7923         237         81               8241  1410   \n",
       "\n",
       "  الا حد الاثنين الثلاثاء الا ربعاء  ... عدم التقيد بالاشارة السرعة الزائدة  \\\n",
       "0    781     625      814       702  ...                1208           1304   \n",
       "1   1407    1434      857       421  ...                 739            997   \n",
       "2   1435    1121     1122      1140  ...                1380           2444   \n",
       "3   1436    1094     1054      1085  ...                1366           1992   \n",
       "4   1298    1014     1088      1110  ...                1426           2228   \n",
       "\n",
       "  السائق تحت تأثير مخدر اخرى.1 مجموع الحوادث حسب سبب الحادث عدد المصابين  \\\n",
       "0                     0      0                         5399          393   \n",
       "1                     0      0                         6274          433   \n",
       "2                     0      0                         8166          455   \n",
       "3                     0      0                         8166          427   \n",
       "4                     0      0                         8241          358   \n",
       "\n",
       "  عدد المتوفين (القتلى)   سليم مجموع الأشخاص المشمولين بالحوادث  region  \n",
       "0                   100  12435                            12928  الرياض  \n",
       "1                    98   9110                             9641  الرياض  \n",
       "2                   105  15385                            15945  الرياض  \n",
       "3                    91  15181                            15699  الرياض  \n",
       "4                    96  15437                            15891  الرياض  \n",
       "\n",
       "[5 rows x 75 columns]"
      ]
     },
     "execution_count": 236,
     "metadata": {},
     "output_type": "execute_result"
    }
   ],
   "source": [
    "# data's headers are in arabic, I am going to use the data concerning the age groups only\n",
    "df.head()"
   ]
  },
  {
   "cell_type": "code",
   "execution_count": 237,
   "id": "011a4e62",
   "metadata": {},
   "outputs": [
    {
     "data": {
      "text/plain": [
       "(226, 75)"
      ]
     },
     "execution_count": 237,
     "metadata": {},
     "output_type": "execute_result"
    }
   ],
   "source": [
    "df.shape"
   ]
  },
  {
   "cell_type": "code",
   "execution_count": 238,
   "id": "506b7d87",
   "metadata": {},
   "outputs": [
    {
     "name": "stdout",
     "output_type": "stream",
     "text": [
      "<class 'pandas.core.frame.DataFrame'>\n",
      "RangeIndex: 226 entries, 0 to 225\n",
      "Data columns (total 75 columns):\n",
      " #   Column                                             Non-Null Count  Dtype  \n",
      "---  ------                                             --------------  -----  \n",
      " 0   الشهر                                              222 non-null    object \n",
      " 1   حادث تلفيات                                        223 non-null    object \n",
      " 2   حادث اصابات                                        222 non-null    object \n",
      " 3   حادث وفيات                                         222 non-null    object \n",
      " 4    مجموع عدد الحوادث                                 222 non-null    object \n",
      " 5   السبت                                              222 non-null    object \n",
      " 6   الا حد                                             222 non-null    object \n",
      " 7   الاثنين                                            222 non-null    object \n",
      " 8   الثلاثاء                                           222 non-null    object \n",
      " 9   الا ربعاء                                          222 non-null    object \n",
      " 10  الخميس                                             222 non-null    object \n",
      " 11  الجمعة                                             222 non-null    object \n",
      " 12  مجموع عدد الحوادث لجميع الأيام                     222 non-null    object \n",
      " 13  نهارا                                              222 non-null    object \n",
      " 14  ليلا                                               222 non-null    object \n",
      " 15  مجموع عدد الحوادث حسب الوقت                        222 non-null    object \n",
      " 16  داخل المدينة                                       222 non-null    object \n",
      " 17  خارج المدينة                                       222 non-null    object \n",
      " 18  مجموع عدد الحوادث حسب مكان الحادث                  222 non-null    object \n",
      " 19  صغيرة                                              222 non-null    object \n",
      " 20  جيب                                                222 non-null    object \n",
      " 21  حافلة                                              222 non-null    object \n",
      " 22  ونيت                                               222 non-null    object \n",
      " 23  نقل                                                222 non-null    object \n",
      " 24  وايت                                               222 non-null    object \n",
      " 25  اخرى                                               222 non-null    object \n",
      " 26  مجموع عدد السيارات المشتركة في الحوادث حسب الطراز  222 non-null    object \n",
      " 27  الشهر.1                                            13 non-null     object \n",
      " 28  -18                                                222 non-null    float64\n",
      " 29  18+                                                222 non-null    object \n",
      " 30  30+                                                222 non-null    object \n",
      " 31  40+                                                222 non-null    object \n",
      " 32  50+                                                222 non-null    object \n",
      " 33  المجموع حسب العمر                                  222 non-null    object \n",
      " 34  سعودي                                              222 non-null    object \n",
      " 35  اجنبي                                              222 non-null    object \n",
      " 36  المجموع حسب الجنسية                                222 non-null    object \n",
      " 37  متزوج                                              222 non-null    object \n",
      " 38  اعزب                                               222 non-null    object \n",
      " 39  المجموع حسب الحالة الاجتماعية                      222 non-null    object \n",
      " 40  متعلم                                              222 non-null    object \n",
      " 41  امى                                                222 non-null    object \n",
      " 42  المجموع حسب الحالة التعليمية                       222 non-null    object \n",
      " 43  نوع الرخصة خصوصى                                   222 non-null    object \n",
      " 44  نوع الرخصة عمومى                                   222 non-null    object \n",
      " 45  نوع الرخصة اليات                                   222 non-null    object \n",
      " 46  نوع الرخصة دراجة                                   222 non-null    object \n",
      " 47  السائق لا يحمل رخصة قيادة                          222 non-null    object \n",
      " 48  المجموع                                            222 non-null    object \n",
      " 49  السائق لا يحمل رخصة قيادة.1                        222 non-null    object \n",
      " 50  الرخصة سارية                                       222 non-null    object \n",
      " 51  الرخصة منتهية                                      222 non-null    object \n",
      " 52  المجموع.1                                          222 non-null    object \n",
      " 53  تصادم مع سيارة                                     222 non-null    object \n",
      " 54  تصادم مع جسم ثابت                                  220 non-null    object \n",
      " 55  دهس مشاة                                           222 non-null    object \n",
      " 56  دهس حيوان                                          221 non-null    object \n",
      " 57  حريق                                               222 non-null    object \n",
      " 58  انقلاب                                             222 non-null    object \n",
      " 59  خروج عن الطريق                                     222 non-null    object \n",
      " 60  أخرى                                               222 non-null    object \n",
      " 61  المجموع.2                                          222 non-null    object \n",
      " 62  توقف غير نظامى                                     222 non-null    object \n",
      " 63  دوران غير نظامى                                    222 non-null    object \n",
      " 64  تجاوز غير نظامى                                    222 non-null    object \n",
      " 65  عدم التقيد بالاشارة                                222 non-null    object \n",
      " 66  السرعة الزائدة                                     222 non-null    object \n",
      " 67  السائق تحت تأثير مخدر                              222 non-null    object \n",
      " 68  اخرى.1                                             222 non-null    object \n",
      " 69  مجموع الحوادث حسب سبب الحادث                       222 non-null    object \n",
      " 70  عدد المصابين                                       222 non-null    object \n",
      " 71  عدد المتوفين (القتلى)                              222 non-null    object \n",
      " 72  سليم                                               222 non-null    object \n",
      " 73  مجموع الأشخاص المشمولين بالحوادث                   222 non-null    object \n",
      " 74  region                                             226 non-null    object \n",
      "dtypes: float64(1), object(74)\n",
      "memory usage: 132.5+ KB\n"
     ]
    }
   ],
   "source": [
    "# all columns naming is in arabic\n",
    "df.info()"
   ]
  },
  {
   "cell_type": "code",
   "execution_count": 239,
   "id": "5bd83792",
   "metadata": {},
   "outputs": [
    {
     "data": {
      "text/plain": [
       "الشهر                               4\n",
       "حادث تلفيات                         3\n",
       "حادث اصابات                         4\n",
       "حادث وفيات                          4\n",
       " مجموع عدد الحوادث                  4\n",
       "                                   ..\n",
       "عدد المصابين                        4\n",
       "عدد المتوفين (القتلى)               4\n",
       "سليم                                4\n",
       "مجموع الأشخاص المشمولين بالحوادث    4\n",
       "region                              0\n",
       "Length: 75, dtype: int64"
      ]
     },
     "execution_count": 239,
     "metadata": {},
     "output_type": "execute_result"
    }
   ],
   "source": [
    "# checking missing data\n",
    "df.isnull().sum()"
   ]
  },
  {
   "cell_type": "code",
   "execution_count": 240,
   "id": "d0e3ce01",
   "metadata": {},
   "outputs": [
    {
     "data": {
      "text/plain": [
       "Index([                                            'الشهر',\n",
       "                                             'حادث تلفيات',\n",
       "                                             'حادث اصابات',\n",
       "                                              'حادث وفيات',\n",
       "                                      ' مجموع عدد الحوادث',\n",
       "                                                   'السبت',\n",
       "                                                  'الا حد',\n",
       "                                                 'الاثنين',\n",
       "                                                'الثلاثاء',\n",
       "                                               'الا ربعاء',\n",
       "                                                  'الخميس',\n",
       "                                                  'الجمعة',\n",
       "                          'مجموع عدد الحوادث لجميع الأيام',\n",
       "                                                   'نهارا',\n",
       "                                                    'ليلا',\n",
       "                             'مجموع عدد الحوادث حسب الوقت',\n",
       "                                            'داخل المدينة',\n",
       "                                            'خارج المدينة',\n",
       "                       'مجموع عدد الحوادث حسب مكان الحادث',\n",
       "                                                   'صغيرة',\n",
       "                                                     'جيب',\n",
       "                                                   'حافلة',\n",
       "                                                    'ونيت',\n",
       "                                                     'نقل',\n",
       "                                                    'وايت',\n",
       "                                                    'اخرى',\n",
       "       'مجموع عدد السيارات المشتركة في الحوادث حسب الطراز',\n",
       "                                                 'الشهر.1',\n",
       "                                                       -18,\n",
       "                                                     '18+',\n",
       "                                                     '30+',\n",
       "                                                     '40+',\n",
       "                                                     '50+',\n",
       "                                       'المجموع حسب العمر',\n",
       "                                                  'سعودي ',\n",
       "                                                   'اجنبي',\n",
       "                                     'المجموع حسب الجنسية',\n",
       "                                                   'متزوج',\n",
       "                                                    'اعزب',\n",
       "                           'المجموع حسب الحالة الاجتماعية',\n",
       "                                                  'متعلم ',\n",
       "                                                     'امى',\n",
       "                            'المجموع حسب الحالة التعليمية',\n",
       "                                        'نوع الرخصة خصوصى',\n",
       "                                        'نوع الرخصة عمومى',\n",
       "                                       'نوع الرخصة اليات ',\n",
       "                                        'نوع الرخصة دراجة',\n",
       "                               'السائق لا يحمل رخصة قيادة',\n",
       "                                                 'المجموع',\n",
       "                             'السائق لا يحمل رخصة قيادة.1',\n",
       "                                           'الرخصة سارية ',\n",
       "                                           'الرخصة منتهية',\n",
       "                                               'المجموع.1',\n",
       "                                          'تصادم مع سيارة',\n",
       "                                       'تصادم مع جسم ثابت',\n",
       "                                                'دهس مشاة',\n",
       "                                               'دهس حيوان',\n",
       "                                                    'حريق',\n",
       "                                                  'انقلاب',\n",
       "                                          'خروج عن الطريق',\n",
       "                                                    'أخرى',\n",
       "                                               'المجموع.2',\n",
       "                                          'توقف غير نظامى',\n",
       "                                         'دوران غير نظامى',\n",
       "                                         'تجاوز غير نظامى',\n",
       "                                     'عدم التقيد بالاشارة',\n",
       "                                          'السرعة الزائدة',\n",
       "                                   'السائق تحت تأثير مخدر',\n",
       "                                                  'اخرى.1',\n",
       "                            'مجموع الحوادث حسب سبب الحادث',\n",
       "                                            'عدد المصابين',\n",
       "                                   'عدد المتوفين (القتلى)',\n",
       "                                                    'سليم',\n",
       "                        'مجموع الأشخاص المشمولين بالحوادث',\n",
       "                                                  'region'],\n",
       "      dtype='object')"
      ]
     },
     "execution_count": 240,
     "metadata": {},
     "output_type": "execute_result"
    }
   ],
   "source": [
    "#listing all columns\n",
    "df.columns"
   ]
  },
  {
   "cell_type": "markdown",
   "id": "d6dea10b",
   "metadata": {},
   "source": [
    "## Preparing Data"
   ]
  },
  {
   "cell_type": "code",
   "execution_count": 241,
   "id": "f0af422d",
   "metadata": {},
   "outputs": [
    {
     "data": {
      "text/html": [
       "<div><div id=b810b501-cf7d-46a6-99bf-c5b59eb01c29 style=\"display:none; background-color:#9D6CFF; color:white; width:200px; height:30px; padding-left:5px; border-radius:4px; flex-direction:row; justify-content:space-around; align-items:center;\" onmouseover=\"this.style.backgroundColor='#BA9BF8'\" onmouseout=\"this.style.backgroundColor='#9D6CFF'\" onclick=\"window.commands?.execute('create-mitosheet-from-dataframe-output');\">See Full Dataframe in Mito</div> <script> if (window.commands.hasCommand('create-mitosheet-from-dataframe-output')) document.getElementById('b810b501-cf7d-46a6-99bf-c5b59eb01c29').style.display = 'flex' </script> <table border=\"1\" class=\"dataframe\">\n",
       "  <thead>\n",
       "    <tr style=\"text-align: right;\">\n",
       "      <th></th>\n",
       "      <th>الشهر</th>\n",
       "      <th>region</th>\n",
       "      <th>-18</th>\n",
       "      <th>18+</th>\n",
       "      <th>30+</th>\n",
       "      <th>40+</th>\n",
       "      <th>50+</th>\n",
       "    </tr>\n",
       "  </thead>\n",
       "  <tbody>\n",
       "    <tr>\n",
       "      <th>0</th>\n",
       "      <td>محرم</td>\n",
       "      <td>الرياض</td>\n",
       "      <td>2417.0</td>\n",
       "      <td>4583</td>\n",
       "      <td>4390</td>\n",
       "      <td>1264</td>\n",
       "      <td>274</td>\n",
       "    </tr>\n",
       "    <tr>\n",
       "      <th>1</th>\n",
       "      <td>صفر</td>\n",
       "      <td>الرياض</td>\n",
       "      <td>1843.0</td>\n",
       "      <td>2281</td>\n",
       "      <td>2452</td>\n",
       "      <td>2053</td>\n",
       "      <td>1012</td>\n",
       "    </tr>\n",
       "    <tr>\n",
       "      <th>2</th>\n",
       "      <td>ربيع أول</td>\n",
       "      <td>الرياض</td>\n",
       "      <td>2722.0</td>\n",
       "      <td>3833</td>\n",
       "      <td>3697</td>\n",
       "      <td>3841</td>\n",
       "      <td>1852</td>\n",
       "    </tr>\n",
       "    <tr>\n",
       "      <th>3</th>\n",
       "      <td>ربيع ثانى</td>\n",
       "      <td>الرياض</td>\n",
       "      <td>2855.0</td>\n",
       "      <td>3796</td>\n",
       "      <td>3541</td>\n",
       "      <td>3280</td>\n",
       "      <td>1709</td>\n",
       "    </tr>\n",
       "    <tr>\n",
       "      <th>4</th>\n",
       "      <td>جمادى أول</td>\n",
       "      <td>الرياض</td>\n",
       "      <td>2844.0</td>\n",
       "      <td>3862</td>\n",
       "      <td>3623</td>\n",
       "      <td>3841</td>\n",
       "      <td>1721</td>\n",
       "    </tr>\n",
       "  </tbody>\n",
       "</table></div>"
      ],
      "text/plain": [
       "       الشهر  region     -18   18+   30+   40+   50+\n",
       "0       محرم  الرياض  2417.0  4583  4390  1264   274\n",
       "1        صفر  الرياض  1843.0  2281  2452  2053  1012\n",
       "2   ربيع أول  الرياض  2722.0  3833  3697  3841  1852\n",
       "3  ربيع ثانى  الرياض  2855.0  3796  3541  3280  1709\n",
       "4  جمادى أول  الرياض  2844.0  3862  3623  3841  1721"
      ]
     },
     "execution_count": 241,
     "metadata": {},
     "output_type": "execute_result"
    }
   ],
   "source": [
    "#copying the columns needed for my analysis\n",
    "df= df[['الشهر',\"region\",-18,'18+','30+','40+','50+']].copy()\n",
    "df.head()"
   ]
  },
  {
   "cell_type": "code",
   "execution_count": 242,
   "id": "cfa19c2c",
   "metadata": {},
   "outputs": [],
   "source": [
    "# rename some columns\n",
    "df.rename(columns={-18:\"18-\",\"الشهر\" :\"month\"},inplace=True)"
   ]
  },
  {
   "cell_type": "code",
   "execution_count": 243,
   "id": "93391dc4",
   "metadata": {},
   "outputs": [
    {
     "data": {
      "text/html": [
       "<div><div id=5a9a13b6-7bc4-4d26-b91a-6bb8d4dc7e86 style=\"display:none; background-color:#9D6CFF; color:white; width:200px; height:30px; padding-left:5px; border-radius:4px; flex-direction:row; justify-content:space-around; align-items:center;\" onmouseover=\"this.style.backgroundColor='#BA9BF8'\" onmouseout=\"this.style.backgroundColor='#9D6CFF'\" onclick=\"window.commands?.execute('create-mitosheet-from-dataframe-output');\">See Full Dataframe in Mito</div> <script> if (window.commands.hasCommand('create-mitosheet-from-dataframe-output')) document.getElementById('5a9a13b6-7bc4-4d26-b91a-6bb8d4dc7e86').style.display = 'flex' </script> <table border=\"1\" class=\"dataframe\">\n",
       "  <thead>\n",
       "    <tr style=\"text-align: right;\">\n",
       "      <th></th>\n",
       "      <th>month</th>\n",
       "      <th>region</th>\n",
       "      <th>18-</th>\n",
       "      <th>18+</th>\n",
       "      <th>30+</th>\n",
       "      <th>40+</th>\n",
       "      <th>50+</th>\n",
       "    </tr>\n",
       "  </thead>\n",
       "  <tbody>\n",
       "    <tr>\n",
       "      <th>0</th>\n",
       "      <td>محرم</td>\n",
       "      <td>الرياض</td>\n",
       "      <td>2417.0</td>\n",
       "      <td>4583</td>\n",
       "      <td>4390</td>\n",
       "      <td>1264</td>\n",
       "      <td>274</td>\n",
       "    </tr>\n",
       "    <tr>\n",
       "      <th>1</th>\n",
       "      <td>صفر</td>\n",
       "      <td>الرياض</td>\n",
       "      <td>1843.0</td>\n",
       "      <td>2281</td>\n",
       "      <td>2452</td>\n",
       "      <td>2053</td>\n",
       "      <td>1012</td>\n",
       "    </tr>\n",
       "    <tr>\n",
       "      <th>2</th>\n",
       "      <td>ربيع أول</td>\n",
       "      <td>الرياض</td>\n",
       "      <td>2722.0</td>\n",
       "      <td>3833</td>\n",
       "      <td>3697</td>\n",
       "      <td>3841</td>\n",
       "      <td>1852</td>\n",
       "    </tr>\n",
       "    <tr>\n",
       "      <th>3</th>\n",
       "      <td>ربيع ثانى</td>\n",
       "      <td>الرياض</td>\n",
       "      <td>2855.0</td>\n",
       "      <td>3796</td>\n",
       "      <td>3541</td>\n",
       "      <td>3280</td>\n",
       "      <td>1709</td>\n",
       "    </tr>\n",
       "    <tr>\n",
       "      <th>4</th>\n",
       "      <td>جمادى أول</td>\n",
       "      <td>الرياض</td>\n",
       "      <td>2844.0</td>\n",
       "      <td>3862</td>\n",
       "      <td>3623</td>\n",
       "      <td>3841</td>\n",
       "      <td>1721</td>\n",
       "    </tr>\n",
       "  </tbody>\n",
       "</table></div>"
      ],
      "text/plain": [
       "       month  region     18-   18+   30+   40+   50+\n",
       "0       محرم  الرياض  2417.0  4583  4390  1264   274\n",
       "1        صفر  الرياض  1843.0  2281  2452  2053  1012\n",
       "2   ربيع أول  الرياض  2722.0  3833  3697  3841  1852\n",
       "3  ربيع ثانى  الرياض  2855.0  3796  3541  3280  1709\n",
       "4  جمادى أول  الرياض  2844.0  3862  3623  3841  1721"
      ]
     },
     "execution_count": 243,
     "metadata": {},
     "output_type": "execute_result"
    }
   ],
   "source": [
    "df.head()"
   ]
  },
  {
   "cell_type": "code",
   "execution_count": 244,
   "id": "06aa2c19",
   "metadata": {},
   "outputs": [
    {
     "data": {
      "text/plain": [
       "array(['محرم', 'صفر', 'ربيع أول', 'ربيع ثانى', 'جمادى أول', 'جمادى ثانى',\n",
       "       'رجب', 'شعبان', 'رمضان', 'شوال', 'ذى القعدة', 'ذى الحجة',\n",
       "       'المجموع', nan, 'الشهر', 'صـفـر'], dtype=object)"
      ]
     },
     "execution_count": 244,
     "metadata": {},
     "output_type": "execute_result"
    }
   ],
   "source": [
    "# display all unique months:\n",
    "df[\"month\"].unique()"
   ]
  },
  {
   "cell_type": "code",
   "execution_count": 245,
   "id": "2786a62a",
   "metadata": {},
   "outputs": [],
   "source": [
    "# unify month names, rename Safar month name\n",
    "df[\"month\"].replace({\"صـفـر\": \"صفر\"}, inplace=True)"
   ]
  },
  {
   "cell_type": "code",
   "execution_count": 246,
   "id": "a2edc7e3",
   "metadata": {},
   "outputs": [],
   "source": [
    "#values to delete, these are sums of rows in individual sheets in the original workbook\n",
    "values = [\"المجموع\", \"الشهر\"]\n",
    "\n",
    "#drop rows that contain any value in the list\n",
    "df = df[df.month.isin(values) == False]"
   ]
  },
  {
   "cell_type": "code",
   "execution_count": 247,
   "id": "92ed61d3",
   "metadata": {},
   "outputs": [],
   "source": [
    "#drop rows that contain this value for column region as this is only a summation row in individual original sheets\n",
    "df = df[df.region!='المجموع الكلي لعام 1439']"
   ]
  },
  {
   "cell_type": "code",
   "execution_count": 248,
   "id": "76068b96",
   "metadata": {},
   "outputs": [
    {
     "data": {
      "text/plain": [
       "array(['محرم', 'صفر', 'ربيع أول', 'ربيع ثانى', 'جمادى أول', 'جمادى ثانى',\n",
       "       'رجب', 'شعبان', 'رمضان', 'شوال', 'ذى القعدة', 'ذى الحجة', nan],\n",
       "      dtype=object)"
      ]
     },
     "execution_count": 248,
     "metadata": {},
     "output_type": "execute_result"
    }
   ],
   "source": [
    "df.month.unique()"
   ]
  },
  {
   "cell_type": "code",
   "execution_count": 249,
   "id": "874c94a9",
   "metadata": {},
   "outputs": [
    {
     "data": {
      "text/plain": [
       "(196, 7)"
      ]
     },
     "execution_count": 249,
     "metadata": {},
     "output_type": "execute_result"
    }
   ],
   "source": [
    "df.shape"
   ]
  },
  {
   "cell_type": "code",
   "execution_count": 250,
   "id": "3f809ee8",
   "metadata": {},
   "outputs": [],
   "source": [
    "# renaming month names (in Hijri, islamic calender) to english spelled names\n",
    "\n",
    "df[\"month\"].replace({'محرم': 'Muharram',\n",
    " 'صفر': 'Safar',\n",
    " 'ربيع أول': 'Rabi al-awwal',\n",
    " 'ربيع ثانى': 'Rabi al-thani',\n",
    " 'جمادى أول': 'Jumada al-awwal',\n",
    " 'جمادى ثانى': 'Jumada al-thani',\n",
    " 'رجب': 'Rajab',\n",
    " 'شعبان': 'Shaban',\n",
    " 'رمضان': 'Ramadan',\n",
    " 'شوال': 'Shawwal',\n",
    " 'ذى القعدة': 'Dhul Qadah',\n",
    "'ذى الحجة': 'Dhul Hijjah'}, inplace=True)"
   ]
  },
  {
   "cell_type": "code",
   "execution_count": 251,
   "id": "d91e5980",
   "metadata": {},
   "outputs": [],
   "source": [
    "# replacing region names with english words\n",
    "\n",
    "df[\"region\"].replace({'الرياض': 'Riyadh',\n",
    " 'المدينه المنوره': 'Madinah',\n",
    " 'الشرقيه': 'Eastern',\n",
    " 'الحدود الشماليه': 'North',\n",
    " 'تبوك': 'Tabuk',\n",
    " 'الجوف': 'Jouf',\n",
    " 'حائل': 'Hail',\n",
    " 'نجران': 'Najran',\n",
    " 'القصيم': 'Qassim',\n",
    " 'الـــبـا حــه': 'Baha',\n",
    " 'عسير': 'Asseer',\n",
    "'جازان': 'Jazan',\n",
    " 'جده': 'Jedda',\n",
    " 'الطائف': 'Taif',\n",
    " 'العاصمه': 'Assema',\n",
    " 'القريات': 'Quraiat'\n",
    "                     }, inplace=True)"
   ]
  },
  {
   "cell_type": "code",
   "execution_count": 252,
   "id": "6cfe9fa7",
   "metadata": {},
   "outputs": [
    {
     "data": {
      "text/plain": [
       "(196, 7)"
      ]
     },
     "execution_count": 252,
     "metadata": {},
     "output_type": "execute_result"
    }
   ],
   "source": [
    "# print df number of rows and columns\n",
    "df.shape"
   ]
  },
  {
   "cell_type": "code",
   "execution_count": 253,
   "id": "730bdbd2",
   "metadata": {},
   "outputs": [],
   "source": [
    "#copy the df here to age_df\n",
    "age_df = df"
   ]
  },
  {
   "cell_type": "code",
   "execution_count": 254,
   "id": "293c8691",
   "metadata": {},
   "outputs": [
    {
     "data": {
      "text/plain": [
       "month     4\n",
       "region    0\n",
       "18-       4\n",
       "18+       4\n",
       "30+       4\n",
       "40+       4\n",
       "50+       4\n",
       "dtype: int64"
      ]
     },
     "execution_count": 254,
     "metadata": {},
     "output_type": "execute_result"
    }
   ],
   "source": [
    "# checking nan values\n",
    "age_df.isna().sum()"
   ]
  },
  {
   "cell_type": "code",
   "execution_count": 255,
   "id": "e39a43d8",
   "metadata": {},
   "outputs": [
    {
     "data": {
      "text/html": [
       "<div><div id=f42df711-2f4a-4b39-bd57-6b472dfa7ef6 style=\"display:none; background-color:#9D6CFF; color:white; width:200px; height:30px; padding-left:5px; border-radius:4px; flex-direction:row; justify-content:space-around; align-items:center;\" onmouseover=\"this.style.backgroundColor='#BA9BF8'\" onmouseout=\"this.style.backgroundColor='#9D6CFF'\" onclick=\"window.commands?.execute('create-mitosheet-from-dataframe-output');\">See Full Dataframe in Mito</div> <script> if (window.commands.hasCommand('create-mitosheet-from-dataframe-output')) document.getElementById('f42df711-2f4a-4b39-bd57-6b472dfa7ef6').style.display = 'flex' </script> <table border=\"1\" class=\"dataframe\">\n",
       "  <thead>\n",
       "    <tr style=\"text-align: right;\">\n",
       "      <th></th>\n",
       "      <th>month</th>\n",
       "      <th>region</th>\n",
       "      <th>18-</th>\n",
       "      <th>18+</th>\n",
       "      <th>30+</th>\n",
       "      <th>40+</th>\n",
       "      <th>50+</th>\n",
       "    </tr>\n",
       "  </thead>\n",
       "  <tbody>\n",
       "    <tr>\n",
       "      <th>39</th>\n",
       "      <td>NaN</td>\n",
       "      <td>Eastern</td>\n",
       "      <td>NaN</td>\n",
       "      <td>NaN</td>\n",
       "      <td>NaN</td>\n",
       "      <td>NaN</td>\n",
       "      <td>NaN</td>\n",
       "    </tr>\n",
       "    <tr>\n",
       "      <th>92</th>\n",
       "      <td>NaN</td>\n",
       "      <td>Hail</td>\n",
       "      <td>NaN</td>\n",
       "      <td>NaN</td>\n",
       "      <td>NaN</td>\n",
       "      <td>NaN</td>\n",
       "      <td>NaN</td>\n",
       "    </tr>\n",
       "    <tr>\n",
       "      <th>93</th>\n",
       "      <td>NaN</td>\n",
       "      <td>Hail</td>\n",
       "      <td>NaN</td>\n",
       "      <td>NaN</td>\n",
       "      <td>NaN</td>\n",
       "      <td>NaN</td>\n",
       "      <td>NaN</td>\n",
       "    </tr>\n",
       "    <tr>\n",
       "      <th>94</th>\n",
       "      <td>NaN</td>\n",
       "      <td>Hail</td>\n",
       "      <td>NaN</td>\n",
       "      <td>NaN</td>\n",
       "      <td>NaN</td>\n",
       "      <td>NaN</td>\n",
       "      <td>NaN</td>\n",
       "    </tr>\n",
       "  </tbody>\n",
       "</table></div>"
      ],
      "text/plain": [
       "   month   region  18-  18+  30+  40+  50+\n",
       "39   NaN  Eastern  NaN  NaN  NaN  NaN  NaN\n",
       "92   NaN     Hail  NaN  NaN  NaN  NaN  NaN\n",
       "93   NaN     Hail  NaN  NaN  NaN  NaN  NaN\n",
       "94   NaN     Hail  NaN  NaN  NaN  NaN  NaN"
      ]
     },
     "execution_count": 255,
     "metadata": {},
     "output_type": "execute_result"
    }
   ],
   "source": [
    "#display rows with one or more nans\n",
    "age_df[df.isna().any(axis=1)]"
   ]
  },
  {
   "cell_type": "code",
   "execution_count": 256,
   "id": "1fe1c6db",
   "metadata": {},
   "outputs": [
    {
     "data": {
      "text/plain": [
       "(192, 7)"
      ]
     },
     "execution_count": 256,
     "metadata": {},
     "output_type": "execute_result"
    }
   ],
   "source": [
    "#drop the rows with nan values, because all age categoriy values are unavailable, along with the month name\n",
    "age_df.dropna(inplace=True)\n",
    "#check remaining rows\n",
    "age_df.shape"
   ]
  },
  {
   "cell_type": "code",
   "execution_count": 257,
   "id": "b8e5cecf",
   "metadata": {},
   "outputs": [
    {
     "name": "stdout",
     "output_type": "stream",
     "text": [
      "<class 'pandas.core.frame.DataFrame'>\n",
      "Int64Index: 192 entries, 0 to 211\n",
      "Data columns (total 7 columns):\n",
      " #   Column  Non-Null Count  Dtype  \n",
      "---  ------  --------------  -----  \n",
      " 0   month   192 non-null    object \n",
      " 1   region  192 non-null    object \n",
      " 2   18-     192 non-null    float64\n",
      " 3   18+     192 non-null    object \n",
      " 4   30+     192 non-null    object \n",
      " 5   40+     192 non-null    object \n",
      " 6   50+     192 non-null    object \n",
      "dtypes: float64(1), object(6)\n",
      "memory usage: 12.0+ KB\n"
     ]
    }
   ],
   "source": [
    "age_df.info()"
   ]
  },
  {
   "cell_type": "code",
   "execution_count": 258,
   "id": "f1ceae94",
   "metadata": {},
   "outputs": [
    {
     "name": "stdout",
     "output_type": "stream",
     "text": [
      "<class 'pandas.core.frame.DataFrame'>\n",
      "Int64Index: 192 entries, 0 to 211\n",
      "Data columns (total 7 columns):\n",
      " #   Column  Non-Null Count  Dtype  \n",
      "---  ------  --------------  -----  \n",
      " 0   month   192 non-null    object \n",
      " 1   region  192 non-null    object \n",
      " 2   18-     192 non-null    float64\n",
      " 3   18+     192 non-null    float64\n",
      " 4   30+     192 non-null    float64\n",
      " 5   40+     192 non-null    float64\n",
      " 6   50+     192 non-null    float64\n",
      "dtypes: float64(5), object(2)\n",
      "memory usage: 12.0+ KB\n"
     ]
    }
   ],
   "source": [
    "# convert number columns to float dtype\n",
    "age_df[[\"18-\",\"18+\",\"30+\",\"40+\",\"50+\"]]= age_df[[\"18-\",\"18+\",\"30+\",\"40+\",\"50+\"]].astype('float')\n",
    "#age_df[[\"month\",\"region\"]]=age_df[[\"month\",\"region\"]].astype('str')\n",
    "age_df.info()"
   ]
  },
  {
   "cell_type": "code",
   "execution_count": 259,
   "id": "44bbb96e",
   "metadata": {},
   "outputs": [
    {
     "data": {
      "text/plain": [
       "array(['Muharram', 'Safar', 'Rabi al-awwal', 'Rabi al-thani',\n",
       "       'Jumada al-awwal', 'Jumada al-thani', 'Rajab', 'Shaban', 'Ramadan',\n",
       "       'Shawwal', 'Dhul Qadah', 'Dhul Hijjah'], dtype=object)"
      ]
     },
     "execution_count": 259,
     "metadata": {},
     "output_type": "execute_result"
    }
   ],
   "source": [
    "# all months in month column\n",
    "age_df.month.unique()"
   ]
  },
  {
   "cell_type": "code",
   "execution_count": 260,
   "id": "b2cc5bdb",
   "metadata": {},
   "outputs": [
    {
     "data": {
      "text/plain": [
       "array(['Riyadh', 'Madinah', 'Eastern', 'North', 'Tabuk', 'Jouf', 'Hail',\n",
       "       'Najran', 'Qassim', 'Baha', 'Asseer', 'Jazan', 'Jedda', 'Taif',\n",
       "       'Assema', 'Quraiat'], dtype=object)"
      ]
     },
     "execution_count": 260,
     "metadata": {},
     "output_type": "execute_result"
    }
   ],
   "source": [
    "# region column unique values\n",
    "age_df.region.unique()"
   ]
  },
  {
   "cell_type": "code",
   "execution_count": 261,
   "id": "6c0553ed",
   "metadata": {},
   "outputs": [
    {
     "data": {
      "text/plain": [
       "(192, 7)"
      ]
     },
     "execution_count": 261,
     "metadata": {},
     "output_type": "execute_result"
    }
   ],
   "source": [
    "age_df.shape"
   ]
  },
  {
   "cell_type": "code",
   "execution_count": 262,
   "id": "25ebf98e",
   "metadata": {},
   "outputs": [
    {
     "data": {
      "text/html": [
       "<div><div id=1663bd41-4936-42fb-a5af-ae8ad9b7165b style=\"display:none; background-color:#9D6CFF; color:white; width:200px; height:30px; padding-left:5px; border-radius:4px; flex-direction:row; justify-content:space-around; align-items:center;\" onmouseover=\"this.style.backgroundColor='#BA9BF8'\" onmouseout=\"this.style.backgroundColor='#9D6CFF'\" onclick=\"window.commands?.execute('create-mitosheet-from-dataframe-output');\">See Full Dataframe in Mito</div> <script> if (window.commands.hasCommand('create-mitosheet-from-dataframe-output')) document.getElementById('1663bd41-4936-42fb-a5af-ae8ad9b7165b').style.display = 'flex' </script> <table border=\"1\" class=\"dataframe\">\n",
       "  <thead>\n",
       "    <tr style=\"text-align: right;\">\n",
       "      <th></th>\n",
       "      <th>18-</th>\n",
       "      <th>18+</th>\n",
       "      <th>30+</th>\n",
       "      <th>40+</th>\n",
       "      <th>50+</th>\n",
       "    </tr>\n",
       "  </thead>\n",
       "  <tbody>\n",
       "    <tr>\n",
       "      <th>count</th>\n",
       "      <td>192.000000</td>\n",
       "      <td>192.000000</td>\n",
       "      <td>192.000000</td>\n",
       "      <td>192.000000</td>\n",
       "      <td>192.000000</td>\n",
       "    </tr>\n",
       "    <tr>\n",
       "      <th>mean</th>\n",
       "      <td>363.171875</td>\n",
       "      <td>1178.427083</td>\n",
       "      <td>929.578125</td>\n",
       "      <td>552.390625</td>\n",
       "      <td>280.432292</td>\n",
       "    </tr>\n",
       "    <tr>\n",
       "      <th>std</th>\n",
       "      <td>596.693644</td>\n",
       "      <td>1232.603432</td>\n",
       "      <td>1084.625949</td>\n",
       "      <td>718.911990</td>\n",
       "      <td>399.607564</td>\n",
       "    </tr>\n",
       "    <tr>\n",
       "      <th>min</th>\n",
       "      <td>2.000000</td>\n",
       "      <td>47.000000</td>\n",
       "      <td>11.000000</td>\n",
       "      <td>0.000000</td>\n",
       "      <td>4.000000</td>\n",
       "    </tr>\n",
       "    <tr>\n",
       "      <th>25%</th>\n",
       "      <td>61.000000</td>\n",
       "      <td>344.250000</td>\n",
       "      <td>161.500000</td>\n",
       "      <td>88.000000</td>\n",
       "      <td>51.000000</td>\n",
       "    </tr>\n",
       "    <tr>\n",
       "      <th>50%</th>\n",
       "      <td>152.500000</td>\n",
       "      <td>800.000000</td>\n",
       "      <td>513.000000</td>\n",
       "      <td>285.500000</td>\n",
       "      <td>96.000000</td>\n",
       "    </tr>\n",
       "    <tr>\n",
       "      <th>75%</th>\n",
       "      <td>389.250000</td>\n",
       "      <td>1526.250000</td>\n",
       "      <td>1132.500000</td>\n",
       "      <td>779.500000</td>\n",
       "      <td>294.250000</td>\n",
       "    </tr>\n",
       "    <tr>\n",
       "      <th>max</th>\n",
       "      <td>2916.000000</td>\n",
       "      <td>4880.000000</td>\n",
       "      <td>4920.000000</td>\n",
       "      <td>3841.000000</td>\n",
       "      <td>2015.000000</td>\n",
       "    </tr>\n",
       "  </tbody>\n",
       "</table></div>"
      ],
      "text/plain": [
       "               18-          18+          30+          40+          50+\n",
       "count   192.000000   192.000000   192.000000   192.000000   192.000000\n",
       "mean    363.171875  1178.427083   929.578125   552.390625   280.432292\n",
       "std     596.693644  1232.603432  1084.625949   718.911990   399.607564\n",
       "min       2.000000    47.000000    11.000000     0.000000     4.000000\n",
       "25%      61.000000   344.250000   161.500000    88.000000    51.000000\n",
       "50%     152.500000   800.000000   513.000000   285.500000    96.000000\n",
       "75%     389.250000  1526.250000  1132.500000   779.500000   294.250000\n",
       "max    2916.000000  4880.000000  4920.000000  3841.000000  2015.000000"
      ]
     },
     "execution_count": 262,
     "metadata": {},
     "output_type": "execute_result"
    }
   ],
   "source": [
    "# display data statistics\n",
    "age_df.describe()"
   ]
  },
  {
   "cell_type": "markdown",
   "id": "404b19d2",
   "metadata": {},
   "source": [
    "### For this project I am not using predictivce analytics "
   ]
  },
  {
   "cell_type": "markdown",
   "id": "0289120a",
   "metadata": {},
   "source": [
    "## Results"
   ]
  },
  {
   "cell_type": "markdown",
   "id": "1494f49a",
   "metadata": {},
   "source": [
    "## Total accidents in 1439 H:"
   ]
  },
  {
   "cell_type": "code",
   "execution_count": 263,
   "id": "ac85639d",
   "metadata": {},
   "outputs": [],
   "source": [
    "# add a column for Total accidents of all age groups for each month\n",
    "\n",
    "age_df['Total']= age_df.iloc[:, -5:-1].sum(axis=1)"
   ]
  },
  {
   "cell_type": "code",
   "execution_count": 264,
   "id": "b73b7c12",
   "metadata": {
    "scrolled": true
   },
   "outputs": [
    {
     "data": {
      "image/png": "[encoded data removed]",
      "text/plain": [
       "<Figure size 1008x504 with 1 Axes>"
      ]
     },
     "metadata": {
      "needs_background": "light"
     },
     "output_type": "display_data"
    }
   ],
   "source": [
    "\n",
    "fig, ax = plt.subplots(figsize=(14,7))\n",
    "plt.xticks(fontsize=14, rotation=90)\n",
    "plt.yticks(fontsize=14)\n",
    "plt.ylabel('Total Accidents', fontsize=14)\n",
    "plt.xlabel('Hijri Month', fontsize=14)\n",
    "plt.title('Total accidents for all age groups per Hijri month', fontsize=18)\n",
    "ax = sns.barplot(x=age_df.drop([\"Total\"], axis=1)[\"month\"].unique(), y=age_df.groupby([\"month\"])['Total'].sum(),\n",
    "                 order=['Muharram', 'Safar', 'Rabi al-awwal', 'Rabi al-thani',\n",
    "       'Jumada al-awwal', 'Jumada al-thani', 'Rajab', 'Shaban', 'Ramadan',\n",
    "       'Shawwal', 'Dhul Qadah', 'Dhul Hijjah'])\n",
    "\n",
    "plt.show()"
   ]
  },
  {
   "cell_type": "markdown",
   "id": "44582059",
   "metadata": {},
   "source": [
    "The months 'Jumada al-awwal', 'Jumada al-thani' & 'Rajab' in 1439H are Januari, Februari and March, they are winter months. During these months the total number of accidents goes a little bit higher than in other months"
   ]
  },
  {
   "cell_type": "markdown",
   "id": "812b9d77",
   "metadata": {},
   "source": [
    "### What is the percentage of accidents where kids are involved per month in 1439 H"
   ]
  },
  {
   "cell_type": "code",
   "execution_count": 265,
   "id": "68fe7dfe",
   "metadata": {},
   "outputs": [
    {
     "data": {
      "text/html": [
       "<div><div id=c7b5fe06-ebc0-419b-8dbb-8e3cbacc8993 style=\"display:none; background-color:#9D6CFF; color:white; width:200px; height:30px; padding-left:5px; border-radius:4px; flex-direction:row; justify-content:space-around; align-items:center;\" onmouseover=\"this.style.backgroundColor='#BA9BF8'\" onmouseout=\"this.style.backgroundColor='#9D6CFF'\" onclick=\"window.commands?.execute('create-mitosheet-from-dataframe-output');\">See Full Dataframe in Mito</div> <script> if (window.commands.hasCommand('create-mitosheet-from-dataframe-output')) document.getElementById('c7b5fe06-ebc0-419b-8dbb-8e3cbacc8993').style.display = 'flex' </script> <table border=\"1\" class=\"dataframe\">\n",
       "  <thead>\n",
       "    <tr style=\"text-align: right;\">\n",
       "      <th></th>\n",
       "      <th>month</th>\n",
       "      <th>region</th>\n",
       "      <th>18-</th>\n",
       "      <th>18+</th>\n",
       "      <th>30+</th>\n",
       "      <th>40+</th>\n",
       "      <th>50+</th>\n",
       "      <th>Total</th>\n",
       "    </tr>\n",
       "  </thead>\n",
       "  <tbody>\n",
       "    <tr>\n",
       "      <th>0</th>\n",
       "      <td>Muharram</td>\n",
       "      <td>Riyadh</td>\n",
       "      <td>2417.0</td>\n",
       "      <td>4583.0</td>\n",
       "      <td>4390.0</td>\n",
       "      <td>1264.0</td>\n",
       "      <td>274.0</td>\n",
       "      <td>12654.0</td>\n",
       "    </tr>\n",
       "    <tr>\n",
       "      <th>1</th>\n",
       "      <td>Safar</td>\n",
       "      <td>Riyadh</td>\n",
       "      <td>1843.0</td>\n",
       "      <td>2281.0</td>\n",
       "      <td>2452.0</td>\n",
       "      <td>2053.0</td>\n",
       "      <td>1012.0</td>\n",
       "      <td>8629.0</td>\n",
       "    </tr>\n",
       "    <tr>\n",
       "      <th>2</th>\n",
       "      <td>Rabi al-awwal</td>\n",
       "      <td>Riyadh</td>\n",
       "      <td>2722.0</td>\n",
       "      <td>3833.0</td>\n",
       "      <td>3697.0</td>\n",
       "      <td>3841.0</td>\n",
       "      <td>1852.0</td>\n",
       "      <td>14093.0</td>\n",
       "    </tr>\n",
       "    <tr>\n",
       "      <th>3</th>\n",
       "      <td>Rabi al-thani</td>\n",
       "      <td>Riyadh</td>\n",
       "      <td>2855.0</td>\n",
       "      <td>3796.0</td>\n",
       "      <td>3541.0</td>\n",
       "      <td>3280.0</td>\n",
       "      <td>1709.0</td>\n",
       "      <td>13472.0</td>\n",
       "    </tr>\n",
       "    <tr>\n",
       "      <th>4</th>\n",
       "      <td>Jumada al-awwal</td>\n",
       "      <td>Riyadh</td>\n",
       "      <td>2844.0</td>\n",
       "      <td>3862.0</td>\n",
       "      <td>3623.0</td>\n",
       "      <td>3841.0</td>\n",
       "      <td>1721.0</td>\n",
       "      <td>14170.0</td>\n",
       "    </tr>\n",
       "  </tbody>\n",
       "</table></div>"
      ],
      "text/plain": [
       "             month  region     18-     18+     30+     40+     50+    Total\n",
       "0         Muharram  Riyadh  2417.0  4583.0  4390.0  1264.0   274.0  12654.0\n",
       "1            Safar  Riyadh  1843.0  2281.0  2452.0  2053.0  1012.0   8629.0\n",
       "2    Rabi al-awwal  Riyadh  2722.0  3833.0  3697.0  3841.0  1852.0  14093.0\n",
       "3    Rabi al-thani  Riyadh  2855.0  3796.0  3541.0  3280.0  1709.0  13472.0\n",
       "4  Jumada al-awwal  Riyadh  2844.0  3862.0  3623.0  3841.0  1721.0  14170.0"
      ]
     },
     "execution_count": 265,
     "metadata": {},
     "output_type": "execute_result"
    }
   ],
   "source": [
    "age_df.head()"
   ]
  },
  {
   "cell_type": "code",
   "execution_count": 266,
   "id": "da337a2f",
   "metadata": {
    "scrolled": false
   },
   "outputs": [
    {
     "data": {
      "image/png": "[encoded data removed]",
      "text/plain": [
       "<Figure size 1008x504 with 1 Axes>"
      ]
     },
     "metadata": {
      "needs_background": "light"
     },
     "output_type": "display_data"
    }
   ],
   "source": [
    "fig, ax = plt.subplots(figsize=(14,7))\n",
    "plt.xticks(fontsize=14, rotation=90)\n",
    "plt.yticks(fontsize=14)\n",
    "plt.ylabel('Percentage of Accidents %', fontsize=14)\n",
    "plt.xlabel('Hijri Month', fontsize=14)\n",
    "plt.title('Percentage of accidents for underage groups (18-) per Hijri month', fontsize=18)\n",
    "tot = age_df.groupby([\"month\"])['Total'].sum()\n",
    "ax = sns.lineplot(x=age_df[\"month\"].unique(), y=age_df.groupby([\"month\"])['18-'].sum()*100/(tot),\n",
    "                 )\n",
    "\n",
    "plt.show()"
   ]
  },
  {
   "cell_type": "markdown",
   "id": "252bbd28",
   "metadata": {},
   "source": [
    "As seen in this graph kids are less involved in traffic accidents during the winter months, while it is very high in september (Muharram)"
   ]
  },
  {
   "cell_type": "markdown",
   "id": "51e52ab1",
   "metadata": {},
   "source": [
    "### Percentage of accidents where kids are involved per region during 1439 H"
   ]
  },
  {
   "cell_type": "code",
   "execution_count": 267,
   "id": "af1e1547",
   "metadata": {
    "scrolled": true
   },
   "outputs": [
    {
     "data": {
      "text/plain": [
       "Text(0.5, 0, 'Region')"
      ]
     },
     "execution_count": 267,
     "metadata": {},
     "output_type": "execute_result"
    },
    {
     "data": {
      "image/png": "[encoded data removed]",
      "text/plain": [
       "<Figure size 1008x288 with 1 Axes>"
      ]
     },
     "metadata": {
      "needs_background": "light"
     },
     "output_type": "display_data"
    }
   ],
   "source": [
    "fig, axs = plt.subplots(figsize=(14, 4))\n",
    "underage = (age_df.drop([\"Total\"], axis=1).groupby(['region'])[\"18-\"].sum()*100/age_df.groupby(['region'])[\"Total\"].sum())\n",
    "underage.plot.bar(ax=axs,x=\"region\")\n",
    "axs.set_title(\"Percentage of accidents where kids are involved per region during 1439 H\")\n",
    "axs.set_ylabel(\"Percentage of accidents\")\n",
    "axs.set_xlabel(\"Region\")"
   ]
  },
  {
   "cell_type": "markdown",
   "id": "2723cd84",
   "metadata": {},
   "source": [
    "Najran, is a quite city in the south of KSA. Very strange to have the largest percentage of kids involved in traffic accidents as it is show in this chart. Let's drill down and see what is going in Najran during all months of the year"
   ]
  },
  {
   "cell_type": "code",
   "execution_count": 268,
   "id": "bdb630c9",
   "metadata": {},
   "outputs": [
    {
     "data": {
      "text/plain": [
       "Text(0.5, 0, 'Month in Hijri')"
      ]
     },
     "execution_count": 268,
     "metadata": {},
     "output_type": "execute_result"
    },
    {
     "data": {
      "image/png": "[encoded data removed]",
      "text/plain": [
       "<Figure size 1008x288 with 1 Axes>"
      ]
     },
     "metadata": {
      "needs_background": "light"
     },
     "output_type": "display_data"
    }
   ],
   "source": [
    "fig, axs = plt.subplots(figsize=(14, 4))\n",
    "age_df_najran = age_df.drop('Total', axis=1)\n",
    "age_df_najran.groupby(['region']).get_group(\"Najran\").plot.bar(ax=axs,x=\"month\")\n",
    "axs.set_title(\"Total number of accidents in Najran for age groups during 1439 H\")\n",
    "axs.set_ylabel(\"Number of accidents\")\n",
    "axs.set_xlabel(\"Month in Hijri\")"
   ]
  },
  {
   "cell_type": "markdown",
   "id": "f56a2b38",
   "metadata": {},
   "source": [
    "As the only month that has a peak for the number of accidents where kids are involved is Rajab, I think that the data might be incorrectly filled as the age group of \"40+\" is empty. So Najran has not the most of kids involvement in traffic accidents. Qassim region is where kids are most involved in such accidents"
   ]
  },
  {
   "cell_type": "markdown",
   "id": "4966aa30",
   "metadata": {},
   "source": [
    "### Comparing the largest regions in the kingdom of Saudi Arabia, in wich month is the highest percentage of children involvement into traffic accidents?"
   ]
  },
  {
   "cell_type": "code",
   "execution_count": 269,
   "id": "94615270",
   "metadata": {},
   "outputs": [
    {
     "data": {
      "text/html": [
       "<div><div id=a0378c82-11e6-44ff-aca0-34517addc569 style=\"display:none; background-color:#9D6CFF; color:white; width:200px; height:30px; padding-left:5px; border-radius:4px; flex-direction:row; justify-content:space-around; align-items:center;\" onmouseover=\"this.style.backgroundColor='#BA9BF8'\" onmouseout=\"this.style.backgroundColor='#9D6CFF'\" onclick=\"window.commands?.execute('create-mitosheet-from-dataframe-output');\">See Full Dataframe in Mito</div> <script> if (window.commands.hasCommand('create-mitosheet-from-dataframe-output')) document.getElementById('a0378c82-11e6-44ff-aca0-34517addc569').style.display = 'flex' </script> <table border=\"1\" class=\"dataframe\">\n",
       "  <thead>\n",
       "    <tr style=\"text-align: right;\">\n",
       "      <th></th>\n",
       "      <th>month</th>\n",
       "      <th>region</th>\n",
       "      <th>18-</th>\n",
       "      <th>18+</th>\n",
       "      <th>30+</th>\n",
       "      <th>40+</th>\n",
       "      <th>50+</th>\n",
       "      <th>Total</th>\n",
       "    </tr>\n",
       "  </thead>\n",
       "  <tbody>\n",
       "    <tr>\n",
       "      <th>0</th>\n",
       "      <td>Muharram</td>\n",
       "      <td>Riyadh</td>\n",
       "      <td>2417.0</td>\n",
       "      <td>4583.0</td>\n",
       "      <td>4390.0</td>\n",
       "      <td>1264.0</td>\n",
       "      <td>274.0</td>\n",
       "      <td>12654.0</td>\n",
       "    </tr>\n",
       "    <tr>\n",
       "      <th>1</th>\n",
       "      <td>Safar</td>\n",
       "      <td>Riyadh</td>\n",
       "      <td>1843.0</td>\n",
       "      <td>2281.0</td>\n",
       "      <td>2452.0</td>\n",
       "      <td>2053.0</td>\n",
       "      <td>1012.0</td>\n",
       "      <td>8629.0</td>\n",
       "    </tr>\n",
       "    <tr>\n",
       "      <th>2</th>\n",
       "      <td>Rabi al-awwal</td>\n",
       "      <td>Riyadh</td>\n",
       "      <td>2722.0</td>\n",
       "      <td>3833.0</td>\n",
       "      <td>3697.0</td>\n",
       "      <td>3841.0</td>\n",
       "      <td>1852.0</td>\n",
       "      <td>14093.0</td>\n",
       "    </tr>\n",
       "    <tr>\n",
       "      <th>3</th>\n",
       "      <td>Rabi al-thani</td>\n",
       "      <td>Riyadh</td>\n",
       "      <td>2855.0</td>\n",
       "      <td>3796.0</td>\n",
       "      <td>3541.0</td>\n",
       "      <td>3280.0</td>\n",
       "      <td>1709.0</td>\n",
       "      <td>13472.0</td>\n",
       "    </tr>\n",
       "    <tr>\n",
       "      <th>4</th>\n",
       "      <td>Jumada al-awwal</td>\n",
       "      <td>Riyadh</td>\n",
       "      <td>2844.0</td>\n",
       "      <td>3862.0</td>\n",
       "      <td>3623.0</td>\n",
       "      <td>3841.0</td>\n",
       "      <td>1721.0</td>\n",
       "      <td>14170.0</td>\n",
       "    </tr>\n",
       "  </tbody>\n",
       "</table></div>"
      ],
      "text/plain": [
       "             month  region     18-     18+     30+     40+     50+    Total\n",
       "0         Muharram  Riyadh  2417.0  4583.0  4390.0  1264.0   274.0  12654.0\n",
       "1            Safar  Riyadh  1843.0  2281.0  2452.0  2053.0  1012.0   8629.0\n",
       "2    Rabi al-awwal  Riyadh  2722.0  3833.0  3697.0  3841.0  1852.0  14093.0\n",
       "3    Rabi al-thani  Riyadh  2855.0  3796.0  3541.0  3280.0  1709.0  13472.0\n",
       "4  Jumada al-awwal  Riyadh  2844.0  3862.0  3623.0  3841.0  1721.0  14170.0"
      ]
     },
     "execution_count": 269,
     "metadata": {},
     "output_type": "execute_result"
    }
   ],
   "source": [
    "age_df.head()\n"
   ]
  },
  {
   "cell_type": "code",
   "execution_count": 270,
   "id": "f62f569d",
   "metadata": {
    "scrolled": true
   },
   "outputs": [
    {
     "data": {
      "text/plain": [
       "array(['Riyadh', 'Eastern', 'Jedda'], dtype=object)"
      ]
     },
     "execution_count": 270,
     "metadata": {},
     "output_type": "execute_result"
    }
   ],
   "source": [
    "#reshaping my dataframe to produce following plots\n",
    "#convert age columns to categorical values in one column, and put their values in another column \n",
    "reshape_df = pd.melt(age_df.drop([\"Total\"], axis=1),id_vars=['month','region'],var_name='age_category', value_name='number_of_accidents')\n",
    "#select the 3 largest regions only\n",
    "largest_regions_df = reshape_df.loc[reshape_df['region'].isin([\"Eastern\",\"Riyadh\",\"Jedda\"])]\n",
    "largest_regions_df[\"region\"].unique()\n"
   ]
  },
  {
   "cell_type": "code",
   "execution_count": 289,
   "id": "a13d34fb",
   "metadata": {},
   "outputs": [
    {
     "data": {
      "application/vnd.plotly.v1+json": {
       "config": {
        "plotlyServerURL": "https://plot.ly"
       },
       "data": [
        {
         "alignmentgroup": "True",
         "hovertemplate": "Age Group=18-<br>Region=Riyadh<br>Hijri calendar month=%{x}<br>Accidents Number=%{y}<extra></extra>",
         "legendgroup": "18-",
         "marker": {
          "color": "#636efa",
          "pattern": {
           "shape": ""
          }
         },
         "name": "18-",
         "offsetgroup": "18-",
         "orientation": "v",
         "showlegend": true,
         "textposition": "auto",
         "type": "bar",
         "x": [
          "Muharram",
          "Safar",
          "Rabi al-awwal",
          "Rabi al-thani",
          "Jumada al-awwal",
          "Jumada al-thani",
          "Rajab",
          "Shaban",
          "Ramadan",
          "Shawwal",
          "Dhul Qadah",
          "Dhul Hijjah"
         ],
         "xaxis": "x3",
         "y": [
          2417,
          1843,
          2722,
          2855,
          2844,
          2386,
          2916,
          2791,
          2405,
          1914,
          2311,
          2429
         ],
         "yaxis": "y3"
        },
        {
         "alignmentgroup": "True",
         "hovertemplate": "Age Group=18-<br>Region=Eastern<br>Hijri calendar month=%{x}<br>Accidents Number=%{y}<extra></extra>",
         "legendgroup": "18-",
         "marker": {
          "color": "#636efa",
          "pattern": {
           "shape": ""
          }
         },
         "name": "18-",
         "offsetgroup": "18-",
         "orientation": "v",
         "showlegend": false,
         "textposition": "auto",
         "type": "bar",
         "x": [
          "Muharram",
          "Safar",
          "Rabi al-awwal",
          "Rabi al-thani",
          "Jumada al-awwal",
          "Jumada al-thani",
          "Rajab",
          "Shaban",
          "Ramadan",
          "Shawwal",
          "Dhul Qadah",
          "Dhul Hijjah"
         ],
         "xaxis": "x2",
         "y": [
          1148,
          989,
          925,
          948,
          852,
          206,
          183,
          186,
          163,
          160,
          163,
          109
         ],
         "yaxis": "y2"
        },
        {
         "alignmentgroup": "True",
         "hovertemplate": "Age Group=18-<br>Region=Jedda<br>Hijri calendar month=%{x}<br>Accidents Number=%{y}<extra></extra>",
         "legendgroup": "18-",
         "marker": {
          "color": "#636efa",
          "pattern": {
           "shape": ""
          }
         },
         "name": "18-",
         "offsetgroup": "18-",
         "orientation": "v",
         "showlegend": false,
         "textposition": "auto",
         "type": "bar",
         "x": [
          "Muharram",
          "Safar",
          "Rabi al-awwal",
          "Rabi al-thani",
          "Jumada al-awwal",
          "Jumada al-thani",
          "Rajab",
          "Shaban",
          "Ramadan",
          "Shawwal",
          "Dhul Qadah",
          "Dhul Hijjah"
         ],
         "xaxis": "x",
         "y": [
          509,
          502,
          469,
          553,
          598,
          465,
          412,
          601,
          486,
          480,
          526,
          483
         ],
         "yaxis": "y"
        },
        {
         "alignmentgroup": "True",
         "hovertemplate": "Age Group=18+<br>Region=Riyadh<br>Hijri calendar month=%{x}<br>Accidents Number=%{y}<extra></extra>",
         "legendgroup": "18+",
         "marker": {
          "color": "#EF553B",
          "pattern": {
           "shape": ""
          }
         },
         "name": "18+",
         "offsetgroup": "18+",
         "orientation": "v",
         "showlegend": true,
         "textposition": "auto",
         "type": "bar",
         "x": [
          "Muharram",
          "Safar",
          "Rabi al-awwal",
          "Rabi al-thani",
          "Jumada al-awwal",
          "Jumada al-thani",
          "Rajab",
          "Shaban",
          "Ramadan",
          "Shawwal",
          "Dhul Qadah",
          "Dhul Hijjah"
         ],
         "xaxis": "x3",
         "y": [
          4583,
          2281,
          3833,
          3796,
          3862,
          3864,
          3605,
          4633,
          3791,
          2259,
          3536,
          3601
         ],
         "yaxis": "y3"
        },
        {
         "alignmentgroup": "True",
         "hovertemplate": "Age Group=18+<br>Region=Eastern<br>Hijri calendar month=%{x}<br>Accidents Number=%{y}<extra></extra>",
         "legendgroup": "18+",
         "marker": {
          "color": "#EF553B",
          "pattern": {
           "shape": ""
          }
         },
         "name": "18+",
         "offsetgroup": "18+",
         "orientation": "v",
         "showlegend": false,
         "textposition": "auto",
         "type": "bar",
         "x": [
          "Muharram",
          "Safar",
          "Rabi al-awwal",
          "Rabi al-thani",
          "Jumada al-awwal",
          "Jumada al-thani",
          "Rajab",
          "Shaban",
          "Ramadan",
          "Shawwal",
          "Dhul Qadah",
          "Dhul Hijjah"
         ],
         "xaxis": "x2",
         "y": [
          4601,
          4652,
          4586,
          4667,
          4366,
          1773,
          1657,
          1612,
          1422,
          1599,
          1542,
          1125
         ],
         "yaxis": "y2"
        },
        {
         "alignmentgroup": "True",
         "hovertemplate": "Age Group=18+<br>Region=Jedda<br>Hijri calendar month=%{x}<br>Accidents Number=%{y}<extra></extra>",
         "legendgroup": "18+",
         "marker": {
          "color": "#EF553B",
          "pattern": {
           "shape": ""
          }
         },
         "name": "18+",
         "offsetgroup": "18+",
         "orientation": "v",
         "showlegend": false,
         "textposition": "auto",
         "type": "bar",
         "x": [
          "Muharram",
          "Safar",
          "Rabi al-awwal",
          "Rabi al-thani",
          "Jumada al-awwal",
          "Jumada al-thani",
          "Rajab",
          "Shaban",
          "Ramadan",
          "Shawwal",
          "Dhul Qadah",
          "Dhul Hijjah"
         ],
         "xaxis": "x",
         "y": [
          2128,
          2358,
          2253,
          2122,
          2039,
          1954,
          2011,
          2052,
          1856,
          1578,
          1943,
          1447
         ],
         "yaxis": "y"
        },
        {
         "alignmentgroup": "True",
         "hovertemplate": "Age Group=30+<br>Region=Riyadh<br>Hijri calendar month=%{x}<br>Accidents Number=%{y}<extra></extra>",
         "legendgroup": "30+",
         "marker": {
          "color": "#00cc96",
          "pattern": {
           "shape": ""
          }
         },
         "name": "30+",
         "offsetgroup": "30+",
         "orientation": "v",
         "showlegend": true,
         "textposition": "auto",
         "type": "bar",
         "x": [
          "Muharram",
          "Safar",
          "Rabi al-awwal",
          "Rabi al-thani",
          "Jumada al-awwal",
          "Jumada al-thani",
          "Rajab",
          "Shaban",
          "Ramadan",
          "Shawwal",
          "Dhul Qadah",
          "Dhul Hijjah"
         ],
         "xaxis": "x3",
         "y": [
          4390,
          2452,
          3697,
          3541,
          3623,
          3129,
          3411,
          4920,
          3112,
          2371,
          3240,
          3460
         ],
         "yaxis": "y3"
        },
        {
         "alignmentgroup": "True",
         "hovertemplate": "Age Group=30+<br>Region=Eastern<br>Hijri calendar month=%{x}<br>Accidents Number=%{y}<extra></extra>",
         "legendgroup": "30+",
         "marker": {
          "color": "#00cc96",
          "pattern": {
           "shape": ""
          }
         },
         "name": "30+",
         "offsetgroup": "30+",
         "orientation": "v",
         "showlegend": false,
         "textposition": "auto",
         "type": "bar",
         "x": [
          "Muharram",
          "Safar",
          "Rabi al-awwal",
          "Rabi al-thani",
          "Jumada al-awwal",
          "Jumada al-thani",
          "Rajab",
          "Shaban",
          "Ramadan",
          "Shawwal",
          "Dhul Qadah",
          "Dhul Hijjah"
         ],
         "xaxis": "x2",
         "y": [
          3545,
          3705,
          3817,
          3901,
          3805,
          1361,
          1256,
          1325,
          1264,
          1263,
          1107,
          843
         ],
         "yaxis": "y2"
        },
        {
         "alignmentgroup": "True",
         "hovertemplate": "Age Group=30+<br>Region=Jedda<br>Hijri calendar month=%{x}<br>Accidents Number=%{y}<extra></extra>",
         "legendgroup": "30+",
         "marker": {
          "color": "#00cc96",
          "pattern": {
           "shape": ""
          }
         },
         "name": "30+",
         "offsetgroup": "30+",
         "orientation": "v",
         "showlegend": false,
         "textposition": "auto",
         "type": "bar",
         "x": [
          "Muharram",
          "Safar",
          "Rabi al-awwal",
          "Rabi al-thani",
          "Jumada al-awwal",
          "Jumada al-thani",
          "Rajab",
          "Shaban",
          "Ramadan",
          "Shawwal",
          "Dhul Qadah",
          "Dhul Hijjah"
         ],
         "xaxis": "x",
         "y": [
          2083,
          2174,
          2115,
          1984,
          1684,
          1526,
          1752,
          1984,
          1576,
          1364,
          1654,
          1127
         ],
         "yaxis": "y"
        },
        {
         "alignmentgroup": "True",
         "hovertemplate": "Age Group=40+<br>Region=Riyadh<br>Hijri calendar month=%{x}<br>Accidents Number=%{y}<extra></extra>",
         "legendgroup": "40+",
         "marker": {
          "color": "#ab63fa",
          "pattern": {
           "shape": ""
          }
         },
         "name": "40+",
         "offsetgroup": "40+",
         "orientation": "v",
         "showlegend": true,
         "textposition": "auto",
         "type": "bar",
         "x": [
          "Muharram",
          "Safar",
          "Rabi al-awwal",
          "Rabi al-thani",
          "Jumada al-awwal",
          "Jumada al-thani",
          "Rajab",
          "Shaban",
          "Ramadan",
          "Shawwal",
          "Dhul Qadah",
          "Dhul Hijjah"
         ],
         "xaxis": "x3",
         "y": [
          1264,
          2053,
          3841,
          3280,
          3841,
          3285,
          3629,
          1933,
          2150,
          1991,
          2176,
          2199
         ],
         "yaxis": "y3"
        },
        {
         "alignmentgroup": "True",
         "hovertemplate": "Age Group=40+<br>Region=Eastern<br>Hijri calendar month=%{x}<br>Accidents Number=%{y}<extra></extra>",
         "legendgroup": "40+",
         "marker": {
          "color": "#ab63fa",
          "pattern": {
           "shape": ""
          }
         },
         "name": "40+",
         "offsetgroup": "40+",
         "orientation": "v",
         "showlegend": false,
         "textposition": "auto",
         "type": "bar",
         "x": [
          "Muharram",
          "Safar",
          "Rabi al-awwal",
          "Rabi al-thani",
          "Jumada al-awwal",
          "Jumada al-thani",
          "Rajab",
          "Shaban",
          "Ramadan",
          "Shawwal",
          "Dhul Qadah",
          "Dhul Hijjah"
         ],
         "xaxis": "x2",
         "y": [
          1357,
          1310,
          1332,
          1384,
          1397,
          847,
          806,
          822,
          706,
          771,
          814,
          649
         ],
         "yaxis": "y2"
        },
        {
         "alignmentgroup": "True",
         "hovertemplate": "Age Group=40+<br>Region=Jedda<br>Hijri calendar month=%{x}<br>Accidents Number=%{y}<extra></extra>",
         "legendgroup": "40+",
         "marker": {
          "color": "#ab63fa",
          "pattern": {
           "shape": ""
          }
         },
         "name": "40+",
         "offsetgroup": "40+",
         "orientation": "v",
         "showlegend": false,
         "textposition": "auto",
         "type": "bar",
         "x": [
          "Muharram",
          "Safar",
          "Rabi al-awwal",
          "Rabi al-thani",
          "Jumada al-awwal",
          "Jumada al-thani",
          "Rajab",
          "Shaban",
          "Ramadan",
          "Shawwal",
          "Dhul Qadah",
          "Dhul Hijjah"
         ],
         "xaxis": "x",
         "y": [
          1549,
          1426,
          1259,
          1163,
          1010,
          901,
          1004,
          1011,
          991,
          841,
          1007,
          994
         ],
         "yaxis": "y"
        },
        {
         "alignmentgroup": "True",
         "hovertemplate": "Age Group=50+<br>Region=Riyadh<br>Hijri calendar month=%{x}<br>Accidents Number=%{y}<extra></extra>",
         "legendgroup": "50+",
         "marker": {
          "color": "#FFA15A",
          "pattern": {
           "shape": ""
          }
         },
         "name": "50+",
         "offsetgroup": "50+",
         "orientation": "v",
         "showlegend": true,
         "textposition": "auto",
         "type": "bar",
         "x": [
          "Muharram",
          "Safar",
          "Rabi al-awwal",
          "Rabi al-thani",
          "Jumada al-awwal",
          "Jumada al-thani",
          "Rajab",
          "Shaban",
          "Ramadan",
          "Shawwal",
          "Dhul Qadah",
          "Dhul Hijjah"
         ],
         "xaxis": "x3",
         "y": [
          274,
          1012,
          1852,
          1709,
          1721,
          1215,
          1185,
          641,
          1301,
          1882,
          1382,
          2015
         ],
         "yaxis": "y3"
        },
        {
         "alignmentgroup": "True",
         "hovertemplate": "Age Group=50+<br>Region=Eastern<br>Hijri calendar month=%{x}<br>Accidents Number=%{y}<extra></extra>",
         "legendgroup": "50+",
         "marker": {
          "color": "#FFA15A",
          "pattern": {
           "shape": ""
          }
         },
         "name": "50+",
         "offsetgroup": "50+",
         "orientation": "v",
         "showlegend": false,
         "textposition": "auto",
         "type": "bar",
         "x": [
          "Muharram",
          "Safar",
          "Rabi al-awwal",
          "Rabi al-thani",
          "Jumada al-awwal",
          "Jumada al-thani",
          "Rajab",
          "Shaban",
          "Ramadan",
          "Shawwal",
          "Dhul Qadah",
          "Dhul Hijjah"
         ],
         "xaxis": "x2",
         "y": [
          448,
          518,
          529,
          486,
          465,
          134,
          112,
          122,
          361,
          127,
          155,
          117
         ],
         "yaxis": "y2"
        },
        {
         "alignmentgroup": "True",
         "hovertemplate": "Age Group=50+<br>Region=Jedda<br>Hijri calendar month=%{x}<br>Accidents Number=%{y}<extra></extra>",
         "legendgroup": "50+",
         "marker": {
          "color": "#FFA15A",
          "pattern": {
           "shape": ""
          }
         },
         "name": "50+",
         "offsetgroup": "50+",
         "orientation": "v",
         "showlegend": false,
         "textposition": "auto",
         "type": "bar",
         "x": [
          "Muharram",
          "Safar",
          "Rabi al-awwal",
          "Rabi al-thani",
          "Jumada al-awwal",
          "Jumada al-thani",
          "Rajab",
          "Shaban",
          "Ramadan",
          "Shawwal",
          "Dhul Qadah",
          "Dhul Hijjah"
         ],
         "xaxis": "x",
         "y": [
          1006,
          995,
          854,
          891,
          924,
          880,
          943,
          923,
          852,
          586,
          984,
          971
         ],
         "yaxis": "y"
        }
       ],
       "layout": {
        "annotations": [
         {
          "font": {},
          "showarrow": false,
          "text": "Region=Jedda",
          "textangle": 90,
          "x": 0.98,
          "xanchor": "left",
          "xref": "paper",
          "y": 0.15666666666666665,
          "yanchor": "middle",
          "yref": "paper"
         },
         {
          "font": {},
          "showarrow": false,
          "text": "Region=Eastern",
          "textangle": 90,
          "x": 0.98,
          "xanchor": "left",
          "xref": "paper",
          "y": 0.4999999999999999,
          "yanchor": "middle",
          "yref": "paper"
         },
         {
          "font": {},
          "showarrow": false,
          "text": "Region=Riyadh",
          "textangle": 90,
          "x": 0.98,
          "xanchor": "left",
          "xref": "paper",
          "y": 0.8433333333333332,
          "yanchor": "middle",
          "yref": "paper"
         }
        ],
        "barmode": "group",
        "height": 700,
        "legend": {
         "title": {
          "text": "Age Group"
         },
         "tracegroupgap": 0
        },
        "template": {
         "data": {
          "bar": [
           {
            "error_x": {
             "color": "#2a3f5f"
            },
            "error_y": {
             "color": "#2a3f5f"
            },
            "marker": {
             "line": {
              "color": "#E5ECF6",
              "width": 0.5
             },
             "pattern": {
              "fillmode": "overlay",
              "size": 10,
              "solidity": 0.2
             }
            },
            "type": "bar"
           }
          ],
          "barpolar": [
           {
            "marker": {
             "line": {
              "color": "#E5ECF6",
              "width": 0.5
             },
             "pattern": {
              "fillmode": "overlay",
              "size": 10,
              "solidity": 0.2
             }
            },
            "type": "barpolar"
           }
          ],
          "carpet": [
           {
            "aaxis": {
             "endlinecolor": "#2a3f5f",
             "gridcolor": "white",
             "linecolor": "white",
             "minorgridcolor": "white",
             "startlinecolor": "#2a3f5f"
            },
            "baxis": {
             "endlinecolor": "#2a3f5f",
             "gridcolor": "white",
             "linecolor": "white",
             "minorgridcolor": "white",
             "startlinecolor": "#2a3f5f"
            },
            "type": "carpet"
           }
          ],
          "choropleth": [
           {
            "colorbar": {
             "outlinewidth": 0,
             "ticks": ""
            },
            "type": "choropleth"
           }
          ],
          "contour": [
           {
            "colorbar": {
             "outlinewidth": 0,
             "ticks": ""
            },
            "colorscale": [
             [
              0,
              "#0d0887"
             ],
             [
              0.1111111111111111,
              "#46039f"
             ],
             [
              0.2222222222222222,
              "#7201a8"
             ],
             [
              0.3333333333333333,
              "#9c179e"
             ],
             [
              0.4444444444444444,
              "#bd3786"
             ],
             [
              0.5555555555555556,
              "#d8576b"
             ],
             [
              0.6666666666666666,
              "#ed7953"
             ],
             [
              0.7777777777777778,
              "#fb9f3a"
             ],
             [
              0.8888888888888888,
              "#fdca26"
             ],
             [
              1,
              "#f0f921"
             ]
            ],
            "type": "contour"
           }
          ],
          "contourcarpet": [
           {
            "colorbar": {
             "outlinewidth": 0,
             "ticks": ""
            },
            "type": "contourcarpet"
           }
          ],
          "heatmap": [
           {
            "colorbar": {
             "outlinewidth": 0,
             "ticks": ""
            },
            "colorscale": [
             [
              0,
              "#0d0887"
             ],
             [
              0.1111111111111111,
              "#46039f"
             ],
             [
              0.2222222222222222,
              "#7201a8"
             ],
             [
              0.3333333333333333,
              "#9c179e"
             ],
             [
              0.4444444444444444,
              "#bd3786"
             ],
             [
              0.5555555555555556,
              "#d8576b"
             ],
             [
              0.6666666666666666,
              "#ed7953"
             ],
             [
              0.7777777777777778,
              "#fb9f3a"
             ],
             [
              0.8888888888888888,
              "#fdca26"
             ],
             [
              1,
              "#f0f921"
             ]
            ],
            "type": "heatmap"
           }
          ],
          "heatmapgl": [
           {
            "colorbar": {
             "outlinewidth": 0,
             "ticks": ""
            },
            "colorscale": [
             [
              0,
              "#0d0887"
             ],
             [
              0.1111111111111111,
              "#46039f"
             ],
             [
              0.2222222222222222,
              "#7201a8"
             ],
             [
              0.3333333333333333,
              "#9c179e"
             ],
             [
              0.4444444444444444,
              "#bd3786"
             ],
             [
              0.5555555555555556,
              "#d8576b"
             ],
             [
              0.6666666666666666,
              "#ed7953"
             ],
             [
              0.7777777777777778,
              "#fb9f3a"
             ],
             [
              0.8888888888888888,
              "#fdca26"
             ],
             [
              1,
              "#f0f921"
             ]
            ],
            "type": "heatmapgl"
           }
          ],
          "histogram": [
           {
            "marker": {
             "pattern": {
              "fillmode": "overlay",
              "size": 10,
              "solidity": 0.2
             }
            },
            "type": "histogram"
           }
          ],
          "histogram2d": [
           {
            "colorbar": {
             "outlinewidth": 0,
             "ticks": ""
            },
            "colorscale": [
             [
              0,
              "#0d0887"
             ],
             [
              0.1111111111111111,
              "#46039f"
             ],
             [
              0.2222222222222222,
              "#7201a8"
             ],
             [
              0.3333333333333333,
              "#9c179e"
             ],
             [
              0.4444444444444444,
              "#bd3786"
             ],
             [
              0.5555555555555556,
              "#d8576b"
             ],
             [
              0.6666666666666666,
              "#ed7953"
             ],
             [
              0.7777777777777778,
              "#fb9f3a"
             ],
             [
              0.8888888888888888,
              "#fdca26"
             ],
             [
              1,
              "#f0f921"
             ]
            ],
            "type": "histogram2d"
           }
          ],
          "histogram2dcontour": [
           {
            "colorbar": {
             "outlinewidth": 0,
             "ticks": ""
            },
            "colorscale": [
             [
              0,
              "#0d0887"
             ],
             [
              0.1111111111111111,
              "#46039f"
             ],
             [
              0.2222222222222222,
              "#7201a8"
             ],
             [
              0.3333333333333333,
              "#9c179e"
             ],
             [
              0.4444444444444444,
              "#bd3786"
             ],
             [
              0.5555555555555556,
              "#d8576b"
             ],
             [
              0.6666666666666666,
              "#ed7953"
             ],
             [
              0.7777777777777778,
              "#fb9f3a"
             ],
             [
              0.8888888888888888,
              "#fdca26"
             ],
             [
              1,
              "#f0f921"
             ]
            ],
            "type": "histogram2dcontour"
           }
          ],
          "mesh3d": [
           {
            "colorbar": {
             "outlinewidth": 0,
             "ticks": ""
            },
            "type": "mesh3d"
           }
          ],
          "parcoords": [
           {
            "line": {
             "colorbar": {
              "outlinewidth": 0,
              "ticks": ""
             }
            },
            "type": "parcoords"
           }
          ],
          "pie": [
           {
            "automargin": true,
            "type": "pie"
           }
          ],
          "scatter": [
           {
            "marker": {
             "colorbar": {
              "outlinewidth": 0,
              "ticks": ""
             }
            },
            "type": "scatter"
           }
          ],
          "scatter3d": [
           {
            "line": {
             "colorbar": {
              "outlinewidth": 0,
              "ticks": ""
             }
            },
            "marker": {
             "colorbar": {
              "outlinewidth": 0,
              "ticks": ""
             }
            },
            "type": "scatter3d"
           }
          ],
          "scattercarpet": [
           {
            "marker": {
             "colorbar": {
              "outlinewidth": 0,
              "ticks": ""
             }
            },
            "type": "scattercarpet"
           }
          ],
          "scattergeo": [
           {
            "marker": {
             "colorbar": {
              "outlinewidth": 0,
              "ticks": ""
             }
            },
            "type": "scattergeo"
           }
          ],
          "scattergl": [
           {
            "marker": {
             "colorbar": {
              "outlinewidth": 0,
              "ticks": ""
             }
            },
            "type": "scattergl"
           }
          ],
          "scattermapbox": [
           {
            "marker": {
             "colorbar": {
              "outlinewidth": 0,
              "ticks": ""
             }
            },
            "type": "scattermapbox"
           }
          ],
          "scatterpolar": [
           {
            "marker": {
             "colorbar": {
              "outlinewidth": 0,
              "ticks": ""
             }
            },
            "type": "scatterpolar"
           }
          ],
          "scatterpolargl": [
           {
            "marker": {
             "colorbar": {
              "outlinewidth": 0,
              "ticks": ""
             }
            },
            "type": "scatterpolargl"
           }
          ],
          "scatterternary": [
           {
            "marker": {
             "colorbar": {
              "outlinewidth": 0,
              "ticks": ""
             }
            },
            "type": "scatterternary"
           }
          ],
          "surface": [
           {
            "colorbar": {
             "outlinewidth": 0,
             "ticks": ""
            },
            "colorscale": [
             [
              0,
              "#0d0887"
             ],
             [
              0.1111111111111111,
              "#46039f"
             ],
             [
              0.2222222222222222,
              "#7201a8"
             ],
             [
              0.3333333333333333,
              "#9c179e"
             ],
             [
              0.4444444444444444,
              "#bd3786"
             ],
             [
              0.5555555555555556,
              "#d8576b"
             ],
             [
              0.6666666666666666,
              "#ed7953"
             ],
             [
              0.7777777777777778,
              "#fb9f3a"
             ],
             [
              0.8888888888888888,
              "#fdca26"
             ],
             [
              1,
              "#f0f921"
             ]
            ],
            "type": "surface"
           }
          ],
          "table": [
           {
            "cells": {
             "fill": {
              "color": "#EBF0F8"
             },
             "line": {
              "color": "white"
             }
            },
            "header": {
             "fill": {
              "color": "#C8D4E3"
             },
             "line": {
              "color": "white"
             }
            },
            "type": "table"
           }
          ]
         },
         "layout": {
          "annotationdefaults": {
           "arrowcolor": "#2a3f5f",
           "arrowhead": 0,
           "arrowwidth": 1
          },
          "autotypenumbers": "strict",
          "coloraxis": {
           "colorbar": {
            "outlinewidth": 0,
            "ticks": ""
           }
          },
          "colorscale": {
           "diverging": [
            [
             0,
             "#8e0152"
            ],
            [
             0.1,
             "#c51b7d"
            ],
            [
             0.2,
             "#de77ae"
            ],
            [
             0.3,
             "#f1b6da"
            ],
            [
             0.4,
             "#fde0ef"
            ],
            [
             0.5,
             "#f7f7f7"
            ],
            [
             0.6,
             "#e6f5d0"
            ],
            [
             0.7,
             "#b8e186"
            ],
            [
             0.8,
             "#7fbc41"
            ],
            [
             0.9,
             "#4d9221"
            ],
            [
             1,
             "#276419"
            ]
           ],
           "sequential": [
            [
             0,
             "#0d0887"
            ],
            [
             0.1111111111111111,
             "#46039f"
            ],
            [
             0.2222222222222222,
             "#7201a8"
            ],
            [
             0.3333333333333333,
             "#9c179e"
            ],
            [
             0.4444444444444444,
             "#bd3786"
            ],
            [
             0.5555555555555556,
             "#d8576b"
            ],
            [
             0.6666666666666666,
             "#ed7953"
            ],
            [
             0.7777777777777778,
             "#fb9f3a"
            ],
            [
             0.8888888888888888,
             "#fdca26"
            ],
            [
             1,
             "#f0f921"
            ]
           ],
           "sequentialminus": [
            [
             0,
             "#0d0887"
            ],
            [
             0.1111111111111111,
             "#46039f"
            ],
            [
             0.2222222222222222,
             "#7201a8"
            ],
            [
             0.3333333333333333,
             "#9c179e"
            ],
            [
             0.4444444444444444,
             "#bd3786"
            ],
            [
             0.5555555555555556,
             "#d8576b"
            ],
            [
             0.6666666666666666,
             "#ed7953"
            ],
            [
             0.7777777777777778,
             "#fb9f3a"
            ],
            [
             0.8888888888888888,
             "#fdca26"
            ],
            [
             1,
             "#f0f921"
            ]
           ]
          },
          "colorway": [
           "#636efa",
           "#EF553B",
           "#00cc96",
           "#ab63fa",
           "#FFA15A",
           "#19d3f3",
           "#FF6692",
           "#B6E880",
           "#FF97FF",
           "#FECB52"
          ],
          "font": {
           "color": "#2a3f5f"
          },
          "geo": {
           "bgcolor": "white",
           "lakecolor": "white",
           "landcolor": "#E5ECF6",
           "showlakes": true,
           "showland": true,
           "subunitcolor": "white"
          },
          "hoverlabel": {
           "align": "left"
          },
          "hovermode": "closest",
          "mapbox": {
           "style": "light"
          },
          "paper_bgcolor": "white",
          "plot_bgcolor": "#E5ECF6",
          "polar": {
           "angularaxis": {
            "gridcolor": "white",
            "linecolor": "white",
            "ticks": ""
           },
           "bgcolor": "#E5ECF6",
           "radialaxis": {
            "gridcolor": "white",
            "linecolor": "white",
            "ticks": ""
           }
          },
          "scene": {
           "xaxis": {
            "backgroundcolor": "#E5ECF6",
            "gridcolor": "white",
            "gridwidth": 2,
            "linecolor": "white",
            "showbackground": true,
            "ticks": "",
            "zerolinecolor": "white"
           },
           "yaxis": {
            "backgroundcolor": "#E5ECF6",
            "gridcolor": "white",
            "gridwidth": 2,
            "linecolor": "white",
            "showbackground": true,
            "ticks": "",
            "zerolinecolor": "white"
           },
           "zaxis": {
            "backgroundcolor": "#E5ECF6",
            "gridcolor": "white",
            "gridwidth": 2,
            "linecolor": "white",
            "showbackground": true,
            "ticks": "",
            "zerolinecolor": "white"
           }
          },
          "shapedefaults": {
           "line": {
            "color": "#2a3f5f"
           }
          },
          "ternary": {
           "aaxis": {
            "gridcolor": "white",
            "linecolor": "white",
            "ticks": ""
           },
           "baxis": {
            "gridcolor": "white",
            "linecolor": "white",
            "ticks": ""
           },
           "bgcolor": "#E5ECF6",
           "caxis": {
            "gridcolor": "white",
            "linecolor": "white",
            "ticks": ""
           }
          },
          "title": {
           "x": 0.05
          },
          "xaxis": {
           "automargin": true,
           "gridcolor": "white",
           "linecolor": "white",
           "ticks": "",
           "title": {
            "standoff": 15
           },
           "zerolinecolor": "white",
           "zerolinewidth": 2
          },
          "yaxis": {
           "automargin": true,
           "gridcolor": "white",
           "linecolor": "white",
           "ticks": "",
           "title": {
            "standoff": 15
           },
           "zerolinecolor": "white",
           "zerolinewidth": 2
          }
         }
        },
        "title": {
         "text": "Number of accidents for each age group in the largest KSA regions"
        },
        "xaxis": {
         "anchor": "y",
         "domain": [
          0,
          0.98
         ],
         "title": {
          "text": "Hijri calendar month"
         }
        },
        "xaxis2": {
         "anchor": "y2",
         "domain": [
          0,
          0.98
         ],
         "matches": "x",
         "showticklabels": false
        },
        "xaxis3": {
         "anchor": "y3",
         "domain": [
          0,
          0.98
         ],
         "matches": "x",
         "showticklabels": false
        },
        "yaxis": {
         "anchor": "x",
         "domain": [
          0,
          0.3133333333333333
         ],
         "title": {
          "text": "Accidents Number"
         }
        },
        "yaxis2": {
         "anchor": "x2",
         "domain": [
          0.34333333333333327,
          0.6566666666666665
         ],
         "matches": "y",
         "title": {
          "text": "Accidents Number"
         }
        },
        "yaxis3": {
         "anchor": "x3",
         "domain": [
          0.6866666666666665,
          0.9999999999999998
         ],
         "matches": "y",
         "title": {
          "text": "Accidents Number"
         }
        }
       }
      },
      "text/html": [
       "<div>                            <div id=\"98906485-7cd5-4d15-ba30-2950db288167\" class=\"plotly-graph-div\" style=\"height:700px; width:100%;\"></div>            <script type=\"text/javascript\">                require([\"plotly\"], function(Plotly) {                    window.PLOTLYENV=window.PLOTLYENV || {};                                    if (document.getElementById(\"98906485-7cd5-4d15-ba30-2950db288167\")) {                    Plotly.newPlot(                        \"98906485-7cd5-4d15-ba30-2950db288167\",                        [{\"alignmentgroup\":\"True\",\"hovertemplate\":\"Age Group=18-<br>Region=Riyadh<br>Hijri calendar month=%{x}<br>Accidents Number=%{y}<extra></extra>\",\"legendgroup\":\"18-\",\"marker\":{\"color\":\"#636efa\",\"pattern\":{\"shape\":\"\"}},\"name\":\"18-\",\"offsetgroup\":\"18-\",\"orientation\":\"v\",\"showlegend\":true,\"textposition\":\"auto\",\"type\":\"bar\",\"x\":[\"Muharram\",\"Safar\",\"Rabi al-awwal\",\"Rabi al-thani\",\"Jumada al-awwal\",\"Jumada al-thani\",\"Rajab\",\"Shaban\",\"Ramadan\",\"Shawwal\",\"Dhul Qadah\",\"Dhul Hijjah\"],\"xaxis\":\"x3\",\"y\":[2417.0,1843.0,2722.0,2855.0,2844.0,2386.0,2916.0,2791.0,2405.0,1914.0,2311.0,2429.0],\"yaxis\":\"y3\"},{\"alignmentgroup\":\"True\",\"hovertemplate\":\"Age Group=18-<br>Region=Eastern<br>Hijri calendar month=%{x}<br>Accidents Number=%{y}<extra></extra>\",\"legendgroup\":\"18-\",\"marker\":{\"color\":\"#636efa\",\"pattern\":{\"shape\":\"\"}},\"name\":\"18-\",\"offsetgroup\":\"18-\",\"orientation\":\"v\",\"showlegend\":false,\"textposition\":\"auto\",\"type\":\"bar\",\"x\":[\"Muharram\",\"Safar\",\"Rabi al-awwal\",\"Rabi al-thani\",\"Jumada al-awwal\",\"Jumada al-thani\",\"Rajab\",\"Shaban\",\"Ramadan\",\"Shawwal\",\"Dhul Qadah\",\"Dhul Hijjah\"],\"xaxis\":\"x2\",\"y\":[1148.0,989.0,925.0,948.0,852.0,206.0,183.0,186.0,163.0,160.0,163.0,109.0],\"yaxis\":\"y2\"},{\"alignmentgroup\":\"True\",\"hovertemplate\":\"Age Group=18-<br>Region=Jedda<br>Hijri calendar month=%{x}<br>Accidents Number=%{y}<extra></extra>\",\"legendgroup\":\"18-\",\"marker\":{\"color\":\"#636efa\",\"pattern\":{\"shape\":\"\"}},\"name\":\"18-\",\"offsetgroup\":\"18-\",\"orientation\":\"v\",\"showlegend\":false,\"textposition\":\"auto\",\"type\":\"bar\",\"x\":[\"Muharram\",\"Safar\",\"Rabi al-awwal\",\"Rabi al-thani\",\"Jumada al-awwal\",\"Jumada al-thani\",\"Rajab\",\"Shaban\",\"Ramadan\",\"Shawwal\",\"Dhul Qadah\",\"Dhul Hijjah\"],\"xaxis\":\"x\",\"y\":[509.0,502.0,469.0,553.0,598.0,465.0,412.0,601.0,486.0,480.0,526.0,483.0],\"yaxis\":\"y\"},{\"alignmentgroup\":\"True\",\"hovertemplate\":\"Age Group=18+<br>Region=Riyadh<br>Hijri calendar month=%{x}<br>Accidents Number=%{y}<extra></extra>\",\"legendgroup\":\"18+\",\"marker\":{\"color\":\"#EF553B\",\"pattern\":{\"shape\":\"\"}},\"name\":\"18+\",\"offsetgroup\":\"18+\",\"orientation\":\"v\",\"showlegend\":true,\"textposition\":\"auto\",\"type\":\"bar\",\"x\":[\"Muharram\",\"Safar\",\"Rabi al-awwal\",\"Rabi al-thani\",\"Jumada al-awwal\",\"Jumada al-thani\",\"Rajab\",\"Shaban\",\"Ramadan\",\"Shawwal\",\"Dhul Qadah\",\"Dhul Hijjah\"],\"xaxis\":\"x3\",\"y\":[4583.0,2281.0,3833.0,3796.0,3862.0,3864.0,3605.0,4633.0,3791.0,2259.0,3536.0,3601.0],\"yaxis\":\"y3\"},{\"alignmentgroup\":\"True\",\"hovertemplate\":\"Age Group=18+<br>Region=Eastern<br>Hijri calendar month=%{x}<br>Accidents Number=%{y}<extra></extra>\",\"legendgroup\":\"18+\",\"marker\":{\"color\":\"#EF553B\",\"pattern\":{\"shape\":\"\"}},\"name\":\"18+\",\"offsetgroup\":\"18+\",\"orientation\":\"v\",\"showlegend\":false,\"textposition\":\"auto\",\"type\":\"bar\",\"x\":[\"Muharram\",\"Safar\",\"Rabi al-awwal\",\"Rabi al-thani\",\"Jumada al-awwal\",\"Jumada al-thani\",\"Rajab\",\"Shaban\",\"Ramadan\",\"Shawwal\",\"Dhul Qadah\",\"Dhul Hijjah\"],\"xaxis\":\"x2\",\"y\":[4601.0,4652.0,4586.0,4667.0,4366.0,1773.0,1657.0,1612.0,1422.0,1599.0,1542.0,1125.0],\"yaxis\":\"y2\"},{\"alignmentgroup\":\"True\",\"hovertemplate\":\"Age Group=18+<br>Region=Jedda<br>Hijri calendar month=%{x}<br>Accidents Number=%{y}<extra></extra>\",\"legendgroup\":\"18+\",\"marker\":{\"color\":\"#EF553B\",\"pattern\":{\"shape\":\"\"}},\"name\":\"18+\",\"offsetgroup\":\"18+\",\"orientation\":\"v\",\"showlegend\":false,\"textposition\":\"auto\",\"type\":\"bar\",\"x\":[\"Muharram\",\"Safar\",\"Rabi al-awwal\",\"Rabi al-thani\",\"Jumada al-awwal\",\"Jumada al-thani\",\"Rajab\",\"Shaban\",\"Ramadan\",\"Shawwal\",\"Dhul Qadah\",\"Dhul Hijjah\"],\"xaxis\":\"x\",\"y\":[2128.0,2358.0,2253.0,2122.0,2039.0,1954.0,2011.0,2052.0,1856.0,1578.0,1943.0,1447.0],\"yaxis\":\"y\"},{\"alignmentgroup\":\"True\",\"hovertemplate\":\"Age Group=30+<br>Region=Riyadh<br>Hijri calendar month=%{x}<br>Accidents Number=%{y}<extra></extra>\",\"legendgroup\":\"30+\",\"marker\":{\"color\":\"#00cc96\",\"pattern\":{\"shape\":\"\"}},\"name\":\"30+\",\"offsetgroup\":\"30+\",\"orientation\":\"v\",\"showlegend\":true,\"textposition\":\"auto\",\"type\":\"bar\",\"x\":[\"Muharram\",\"Safar\",\"Rabi al-awwal\",\"Rabi al-thani\",\"Jumada al-awwal\",\"Jumada al-thani\",\"Rajab\",\"Shaban\",\"Ramadan\",\"Shawwal\",\"Dhul Qadah\",\"Dhul Hijjah\"],\"xaxis\":\"x3\",\"y\":[4390.0,2452.0,3697.0,3541.0,3623.0,3129.0,3411.0,4920.0,3112.0,2371.0,3240.0,3460.0],\"yaxis\":\"y3\"},{\"alignmentgroup\":\"True\",\"hovertemplate\":\"Age Group=30+<br>Region=Eastern<br>Hijri calendar month=%{x}<br>Accidents Number=%{y}<extra></extra>\",\"legendgroup\":\"30+\",\"marker\":{\"color\":\"#00cc96\",\"pattern\":{\"shape\":\"\"}},\"name\":\"30+\",\"offsetgroup\":\"30+\",\"orientation\":\"v\",\"showlegend\":false,\"textposition\":\"auto\",\"type\":\"bar\",\"x\":[\"Muharram\",\"Safar\",\"Rabi al-awwal\",\"Rabi al-thani\",\"Jumada al-awwal\",\"Jumada al-thani\",\"Rajab\",\"Shaban\",\"Ramadan\",\"Shawwal\",\"Dhul Qadah\",\"Dhul Hijjah\"],\"xaxis\":\"x2\",\"y\":[3545.0,3705.0,3817.0,3901.0,3805.0,1361.0,1256.0,1325.0,1264.0,1263.0,1107.0,843.0],\"yaxis\":\"y2\"},{\"alignmentgroup\":\"True\",\"hovertemplate\":\"Age Group=30+<br>Region=Jedda<br>Hijri calendar month=%{x}<br>Accidents Number=%{y}<extra></extra>\",\"legendgroup\":\"30+\",\"marker\":{\"color\":\"#00cc96\",\"pattern\":{\"shape\":\"\"}},\"name\":\"30+\",\"offsetgroup\":\"30+\",\"orientation\":\"v\",\"showlegend\":false,\"textposition\":\"auto\",\"type\":\"bar\",\"x\":[\"Muharram\",\"Safar\",\"Rabi al-awwal\",\"Rabi al-thani\",\"Jumada al-awwal\",\"Jumada al-thani\",\"Rajab\",\"Shaban\",\"Ramadan\",\"Shawwal\",\"Dhul Qadah\",\"Dhul Hijjah\"],\"xaxis\":\"x\",\"y\":[2083.0,2174.0,2115.0,1984.0,1684.0,1526.0,1752.0,1984.0,1576.0,1364.0,1654.0,1127.0],\"yaxis\":\"y\"},{\"alignmentgroup\":\"True\",\"hovertemplate\":\"Age Group=40+<br>Region=Riyadh<br>Hijri calendar month=%{x}<br>Accidents Number=%{y}<extra></extra>\",\"legendgroup\":\"40+\",\"marker\":{\"color\":\"#ab63fa\",\"pattern\":{\"shape\":\"\"}},\"name\":\"40+\",\"offsetgroup\":\"40+\",\"orientation\":\"v\",\"showlegend\":true,\"textposition\":\"auto\",\"type\":\"bar\",\"x\":[\"Muharram\",\"Safar\",\"Rabi al-awwal\",\"Rabi al-thani\",\"Jumada al-awwal\",\"Jumada al-thani\",\"Rajab\",\"Shaban\",\"Ramadan\",\"Shawwal\",\"Dhul Qadah\",\"Dhul Hijjah\"],\"xaxis\":\"x3\",\"y\":[1264.0,2053.0,3841.0,3280.0,3841.0,3285.0,3629.0,1933.0,2150.0,1991.0,2176.0,2199.0],\"yaxis\":\"y3\"},{\"alignmentgroup\":\"True\",\"hovertemplate\":\"Age Group=40+<br>Region=Eastern<br>Hijri calendar month=%{x}<br>Accidents Number=%{y}<extra></extra>\",\"legendgroup\":\"40+\",\"marker\":{\"color\":\"#ab63fa\",\"pattern\":{\"shape\":\"\"}},\"name\":\"40+\",\"offsetgroup\":\"40+\",\"orientation\":\"v\",\"showlegend\":false,\"textposition\":\"auto\",\"type\":\"bar\",\"x\":[\"Muharram\",\"Safar\",\"Rabi al-awwal\",\"Rabi al-thani\",\"Jumada al-awwal\",\"Jumada al-thani\",\"Rajab\",\"Shaban\",\"Ramadan\",\"Shawwal\",\"Dhul Qadah\",\"Dhul Hijjah\"],\"xaxis\":\"x2\",\"y\":[1357.0,1310.0,1332.0,1384.0,1397.0,847.0,806.0,822.0,706.0,771.0,814.0,649.0],\"yaxis\":\"y2\"},{\"alignmentgroup\":\"True\",\"hovertemplate\":\"Age Group=40+<br>Region=Jedda<br>Hijri calendar month=%{x}<br>Accidents Number=%{y}<extra></extra>\",\"legendgroup\":\"40+\",\"marker\":{\"color\":\"#ab63fa\",\"pattern\":{\"shape\":\"\"}},\"name\":\"40+\",\"offsetgroup\":\"40+\",\"orientation\":\"v\",\"showlegend\":false,\"textposition\":\"auto\",\"type\":\"bar\",\"x\":[\"Muharram\",\"Safar\",\"Rabi al-awwal\",\"Rabi al-thani\",\"Jumada al-awwal\",\"Jumada al-thani\",\"Rajab\",\"Shaban\",\"Ramadan\",\"Shawwal\",\"Dhul Qadah\",\"Dhul Hijjah\"],\"xaxis\":\"x\",\"y\":[1549.0,1426.0,1259.0,1163.0,1010.0,901.0,1004.0,1011.0,991.0,841.0,1007.0,994.0],\"yaxis\":\"y\"},{\"alignmentgroup\":\"True\",\"hovertemplate\":\"Age Group=50+<br>Region=Riyadh<br>Hijri calendar month=%{x}<br>Accidents Number=%{y}<extra></extra>\",\"legendgroup\":\"50+\",\"marker\":{\"color\":\"#FFA15A\",\"pattern\":{\"shape\":\"\"}},\"name\":\"50+\",\"offsetgroup\":\"50+\",\"orientation\":\"v\",\"showlegend\":true,\"textposition\":\"auto\",\"type\":\"bar\",\"x\":[\"Muharram\",\"Safar\",\"Rabi al-awwal\",\"Rabi al-thani\",\"Jumada al-awwal\",\"Jumada al-thani\",\"Rajab\",\"Shaban\",\"Ramadan\",\"Shawwal\",\"Dhul Qadah\",\"Dhul Hijjah\"],\"xaxis\":\"x3\",\"y\":[274.0,1012.0,1852.0,1709.0,1721.0,1215.0,1185.0,641.0,1301.0,1882.0,1382.0,2015.0],\"yaxis\":\"y3\"},{\"alignmentgroup\":\"True\",\"hovertemplate\":\"Age Group=50+<br>Region=Eastern<br>Hijri calendar month=%{x}<br>Accidents Number=%{y}<extra></extra>\",\"legendgroup\":\"50+\",\"marker\":{\"color\":\"#FFA15A\",\"pattern\":{\"shape\":\"\"}},\"name\":\"50+\",\"offsetgroup\":\"50+\",\"orientation\":\"v\",\"showlegend\":false,\"textposition\":\"auto\",\"type\":\"bar\",\"x\":[\"Muharram\",\"Safar\",\"Rabi al-awwal\",\"Rabi al-thani\",\"Jumada al-awwal\",\"Jumada al-thani\",\"Rajab\",\"Shaban\",\"Ramadan\",\"Shawwal\",\"Dhul Qadah\",\"Dhul Hijjah\"],\"xaxis\":\"x2\",\"y\":[448.0,518.0,529.0,486.0,465.0,134.0,112.0,122.0,361.0,127.0,155.0,117.0],\"yaxis\":\"y2\"},{\"alignmentgroup\":\"True\",\"hovertemplate\":\"Age Group=50+<br>Region=Jedda<br>Hijri calendar month=%{x}<br>Accidents Number=%{y}<extra></extra>\",\"legendgroup\":\"50+\",\"marker\":{\"color\":\"#FFA15A\",\"pattern\":{\"shape\":\"\"}},\"name\":\"50+\",\"offsetgroup\":\"50+\",\"orientation\":\"v\",\"showlegend\":false,\"textposition\":\"auto\",\"type\":\"bar\",\"x\":[\"Muharram\",\"Safar\",\"Rabi al-awwal\",\"Rabi al-thani\",\"Jumada al-awwal\",\"Jumada al-thani\",\"Rajab\",\"Shaban\",\"Ramadan\",\"Shawwal\",\"Dhul Qadah\",\"Dhul Hijjah\"],\"xaxis\":\"x\",\"y\":[1006.0,995.0,854.0,891.0,924.0,880.0,943.0,923.0,852.0,586.0,984.0,971.0],\"yaxis\":\"y\"}],                        {\"annotations\":[{\"font\":{},\"showarrow\":false,\"text\":\"Region=Jedda\",\"textangle\":90,\"x\":0.98,\"xanchor\":\"left\",\"xref\":\"paper\",\"y\":0.15666666666666665,\"yanchor\":\"middle\",\"yref\":\"paper\"},{\"font\":{},\"showarrow\":false,\"text\":\"Region=Eastern\",\"textangle\":90,\"x\":0.98,\"xanchor\":\"left\",\"xref\":\"paper\",\"y\":0.4999999999999999,\"yanchor\":\"middle\",\"yref\":\"paper\"},{\"font\":{},\"showarrow\":false,\"text\":\"Region=Riyadh\",\"textangle\":90,\"x\":0.98,\"xanchor\":\"left\",\"xref\":\"paper\",\"y\":0.8433333333333332,\"yanchor\":\"middle\",\"yref\":\"paper\"}],\"barmode\":\"group\",\"height\":700,\"legend\":{\"title\":{\"text\":\"Age Group\"},\"tracegroupgap\":0},\"template\":{\"data\":{\"bar\":[{\"error_x\":{\"color\":\"#2a3f5f\"},\"error_y\":{\"color\":\"#2a3f5f\"},\"marker\":{\"line\":{\"color\":\"#E5ECF6\",\"width\":0.5},\"pattern\":{\"fillmode\":\"overlay\",\"size\":10,\"solidity\":0.2}},\"type\":\"bar\"}],\"barpolar\":[{\"marker\":{\"line\":{\"color\":\"#E5ECF6\",\"width\":0.5},\"pattern\":{\"fillmode\":\"overlay\",\"size\":10,\"solidity\":0.2}},\"type\":\"barpolar\"}],\"carpet\":[{\"aaxis\":{\"endlinecolor\":\"#2a3f5f\",\"gridcolor\":\"white\",\"linecolor\":\"white\",\"minorgridcolor\":\"white\",\"startlinecolor\":\"#2a3f5f\"},\"baxis\":{\"endlinecolor\":\"#2a3f5f\",\"gridcolor\":\"white\",\"linecolor\":\"white\",\"minorgridcolor\":\"white\",\"startlinecolor\":\"#2a3f5f\"},\"type\":\"carpet\"}],\"choropleth\":[{\"colorbar\":{\"outlinewidth\":0,\"ticks\":\"\"},\"type\":\"choropleth\"}],\"contour\":[{\"colorbar\":{\"outlinewidth\":0,\"ticks\":\"\"},\"colorscale\":[[0.0,\"#0d0887\"],[0.1111111111111111,\"#46039f\"],[0.2222222222222222,\"#7201a8\"],[0.3333333333333333,\"#9c179e\"],[0.4444444444444444,\"#bd3786\"],[0.5555555555555556,\"#d8576b\"],[0.6666666666666666,\"#ed7953\"],[0.7777777777777778,\"#fb9f3a\"],[0.8888888888888888,\"#fdca26\"],[1.0,\"#f0f921\"]],\"type\":\"contour\"}],\"contourcarpet\":[{\"colorbar\":{\"outlinewidth\":0,\"ticks\":\"\"},\"type\":\"contourcarpet\"}],\"heatmap\":[{\"colorbar\":{\"outlinewidth\":0,\"ticks\":\"\"},\"colorscale\":[[0.0,\"#0d0887\"],[0.1111111111111111,\"#46039f\"],[0.2222222222222222,\"#7201a8\"],[0.3333333333333333,\"#9c179e\"],[0.4444444444444444,\"#bd3786\"],[0.5555555555555556,\"#d8576b\"],[0.6666666666666666,\"#ed7953\"],[0.7777777777777778,\"#fb9f3a\"],[0.8888888888888888,\"#fdca26\"],[1.0,\"#f0f921\"]],\"type\":\"heatmap\"}],\"heatmapgl\":[{\"colorbar\":{\"outlinewidth\":0,\"ticks\":\"\"},\"colorscale\":[[0.0,\"#0d0887\"],[0.1111111111111111,\"#46039f\"],[0.2222222222222222,\"#7201a8\"],[0.3333333333333333,\"#9c179e\"],[0.4444444444444444,\"#bd3786\"],[0.5555555555555556,\"#d8576b\"],[0.6666666666666666,\"#ed7953\"],[0.7777777777777778,\"#fb9f3a\"],[0.8888888888888888,\"#fdca26\"],[1.0,\"#f0f921\"]],\"type\":\"heatmapgl\"}],\"histogram\":[{\"marker\":{\"pattern\":{\"fillmode\":\"overlay\",\"size\":10,\"solidity\":0.2}},\"type\":\"histogram\"}],\"histogram2d\":[{\"colorbar\":{\"outlinewidth\":0,\"ticks\":\"\"},\"colorscale\":[[0.0,\"#0d0887\"],[0.1111111111111111,\"#46039f\"],[0.2222222222222222,\"#7201a8\"],[0.3333333333333333,\"#9c179e\"],[0.4444444444444444,\"#bd3786\"],[0.5555555555555556,\"#d8576b\"],[0.6666666666666666,\"#ed7953\"],[0.7777777777777778,\"#fb9f3a\"],[0.8888888888888888,\"#fdca26\"],[1.0,\"#f0f921\"]],\"type\":\"histogram2d\"}],\"histogram2dcontour\":[{\"colorbar\":{\"outlinewidth\":0,\"ticks\":\"\"},\"colorscale\":[[0.0,\"#0d0887\"],[0.1111111111111111,\"#46039f\"],[0.2222222222222222,\"#7201a8\"],[0.3333333333333333,\"#9c179e\"],[0.4444444444444444,\"#bd3786\"],[0.5555555555555556,\"#d8576b\"],[0.6666666666666666,\"#ed7953\"],[0.7777777777777778,\"#fb9f3a\"],[0.8888888888888888,\"#fdca26\"],[1.0,\"#f0f921\"]],\"type\":\"histogram2dcontour\"}],\"mesh3d\":[{\"colorbar\":{\"outlinewidth\":0,\"ticks\":\"\"},\"type\":\"mesh3d\"}],\"parcoords\":[{\"line\":{\"colorbar\":{\"outlinewidth\":0,\"ticks\":\"\"}},\"type\":\"parcoords\"}],\"pie\":[{\"automargin\":true,\"type\":\"pie\"}],\"scatter\":[{\"marker\":{\"colorbar\":{\"outlinewidth\":0,\"ticks\":\"\"}},\"type\":\"scatter\"}],\"scatter3d\":[{\"line\":{\"colorbar\":{\"outlinewidth\":0,\"ticks\":\"\"}},\"marker\":{\"colorbar\":{\"outlinewidth\":0,\"ticks\":\"\"}},\"type\":\"scatter3d\"}],\"scattercarpet\":[{\"marker\":{\"colorbar\":{\"outlinewidth\":0,\"ticks\":\"\"}},\"type\":\"scattercarpet\"}],\"scattergeo\":[{\"marker\":{\"colorbar\":{\"outlinewidth\":0,\"ticks\":\"\"}},\"type\":\"scattergeo\"}],\"scattergl\":[{\"marker\":{\"colorbar\":{\"outlinewidth\":0,\"ticks\":\"\"}},\"type\":\"scattergl\"}],\"scattermapbox\":[{\"marker\":{\"colorbar\":{\"outlinewidth\":0,\"ticks\":\"\"}},\"type\":\"scattermapbox\"}],\"scatterpolar\":[{\"marker\":{\"colorbar\":{\"outlinewidth\":0,\"ticks\":\"\"}},\"type\":\"scatterpolar\"}],\"scatterpolargl\":[{\"marker\":{\"colorbar\":{\"outlinewidth\":0,\"ticks\":\"\"}},\"type\":\"scatterpolargl\"}],\"scatterternary\":[{\"marker\":{\"colorbar\":{\"outlinewidth\":0,\"ticks\":\"\"}},\"type\":\"scatterternary\"}],\"surface\":[{\"colorbar\":{\"outlinewidth\":0,\"ticks\":\"\"},\"colorscale\":[[0.0,\"#0d0887\"],[0.1111111111111111,\"#46039f\"],[0.2222222222222222,\"#7201a8\"],[0.3333333333333333,\"#9c179e\"],[0.4444444444444444,\"#bd3786\"],[0.5555555555555556,\"#d8576b\"],[0.6666666666666666,\"#ed7953\"],[0.7777777777777778,\"#fb9f3a\"],[0.8888888888888888,\"#fdca26\"],[1.0,\"#f0f921\"]],\"type\":\"surface\"}],\"table\":[{\"cells\":{\"fill\":{\"color\":\"#EBF0F8\"},\"line\":{\"color\":\"white\"}},\"header\":{\"fill\":{\"color\":\"#C8D4E3\"},\"line\":{\"color\":\"white\"}},\"type\":\"table\"}]},\"layout\":{\"annotationdefaults\":{\"arrowcolor\":\"#2a3f5f\",\"arrowhead\":0,\"arrowwidth\":1},\"autotypenumbers\":\"strict\",\"coloraxis\":{\"colorbar\":{\"outlinewidth\":0,\"ticks\":\"\"}},\"colorscale\":{\"diverging\":[[0,\"#8e0152\"],[0.1,\"#c51b7d\"],[0.2,\"#de77ae\"],[0.3,\"#f1b6da\"],[0.4,\"#fde0ef\"],[0.5,\"#f7f7f7\"],[0.6,\"#e6f5d0\"],[0.7,\"#b8e186\"],[0.8,\"#7fbc41\"],[0.9,\"#4d9221\"],[1,\"#276419\"]],\"sequential\":[[0.0,\"#0d0887\"],[0.1111111111111111,\"#46039f\"],[0.2222222222222222,\"#7201a8\"],[0.3333333333333333,\"#9c179e\"],[0.4444444444444444,\"#bd3786\"],[0.5555555555555556,\"#d8576b\"],[0.6666666666666666,\"#ed7953\"],[0.7777777777777778,\"#fb9f3a\"],[0.8888888888888888,\"#fdca26\"],[1.0,\"#f0f921\"]],\"sequentialminus\":[[0.0,\"#0d0887\"],[0.1111111111111111,\"#46039f\"],[0.2222222222222222,\"#7201a8\"],[0.3333333333333333,\"#9c179e\"],[0.4444444444444444,\"#bd3786\"],[0.5555555555555556,\"#d8576b\"],[0.6666666666666666,\"#ed7953\"],[0.7777777777777778,\"#fb9f3a\"],[0.8888888888888888,\"#fdca26\"],[1.0,\"#f0f921\"]]},\"colorway\":[\"#636efa\",\"#EF553B\",\"#00cc96\",\"#ab63fa\",\"#FFA15A\",\"#19d3f3\",\"#FF6692\",\"#B6E880\",\"#FF97FF\",\"#FECB52\"],\"font\":{\"color\":\"#2a3f5f\"},\"geo\":{\"bgcolor\":\"white\",\"lakecolor\":\"white\",\"landcolor\":\"#E5ECF6\",\"showlakes\":true,\"showland\":true,\"subunitcolor\":\"white\"},\"hoverlabel\":{\"align\":\"left\"},\"hovermode\":\"closest\",\"mapbox\":{\"style\":\"light\"},\"paper_bgcolor\":\"white\",\"plot_bgcolor\":\"#E5ECF6\",\"polar\":{\"angularaxis\":{\"gridcolor\":\"white\",\"linecolor\":\"white\",\"ticks\":\"\"},\"bgcolor\":\"#E5ECF6\",\"radialaxis\":{\"gridcolor\":\"white\",\"linecolor\":\"white\",\"ticks\":\"\"}},\"scene\":{\"xaxis\":{\"backgroundcolor\":\"#E5ECF6\",\"gridcolor\":\"white\",\"gridwidth\":2,\"linecolor\":\"white\",\"showbackground\":true,\"ticks\":\"\",\"zerolinecolor\":\"white\"},\"yaxis\":{\"backgroundcolor\":\"#E5ECF6\",\"gridcolor\":\"white\",\"gridwidth\":2,\"linecolor\":\"white\",\"showbackground\":true,\"ticks\":\"\",\"zerolinecolor\":\"white\"},\"zaxis\":{\"backgroundcolor\":\"#E5ECF6\",\"gridcolor\":\"white\",\"gridwidth\":2,\"linecolor\":\"white\",\"showbackground\":true,\"ticks\":\"\",\"zerolinecolor\":\"white\"}},\"shapedefaults\":{\"line\":{\"color\":\"#2a3f5f\"}},\"ternary\":{\"aaxis\":{\"gridcolor\":\"white\",\"linecolor\":\"white\",\"ticks\":\"\"},\"baxis\":{\"gridcolor\":\"white\",\"linecolor\":\"white\",\"ticks\":\"\"},\"bgcolor\":\"#E5ECF6\",\"caxis\":{\"gridcolor\":\"white\",\"linecolor\":\"white\",\"ticks\":\"\"}},\"title\":{\"x\":0.05},\"xaxis\":{\"automargin\":true,\"gridcolor\":\"white\",\"linecolor\":\"white\",\"ticks\":\"\",\"title\":{\"standoff\":15},\"zerolinecolor\":\"white\",\"zerolinewidth\":2},\"yaxis\":{\"automargin\":true,\"gridcolor\":\"white\",\"linecolor\":\"white\",\"ticks\":\"\",\"title\":{\"standoff\":15},\"zerolinecolor\":\"white\",\"zerolinewidth\":2}}},\"title\":{\"text\":\"Number of accidents for each age group in the largest KSA regions\"},\"xaxis\":{\"anchor\":\"y\",\"domain\":[0.0,0.98],\"title\":{\"text\":\"Hijri calendar month\"}},\"xaxis2\":{\"anchor\":\"y2\",\"domain\":[0.0,0.98],\"matches\":\"x\",\"showticklabels\":false},\"xaxis3\":{\"anchor\":\"y3\",\"domain\":[0.0,0.98],\"matches\":\"x\",\"showticklabels\":false},\"yaxis\":{\"anchor\":\"x\",\"domain\":[0.0,0.3133333333333333],\"title\":{\"text\":\"Accidents Number\"}},\"yaxis2\":{\"anchor\":\"x2\",\"domain\":[0.34333333333333327,0.6566666666666665],\"matches\":\"y\",\"title\":{\"text\":\"Accidents Number\"}},\"yaxis3\":{\"anchor\":\"x3\",\"domain\":[0.6866666666666665,0.9999999999999998],\"matches\":\"y\",\"title\":{\"text\":\"Accidents Number\"}}},                        {\"responsive\": true}                    ).then(function(){\n",
       "                            \n",
       "var gd = document.getElementById('98906485-7cd5-4d15-ba30-2950db288167');\n",
       "var x = new MutationObserver(function (mutations, observer) {{\n",
       "        var display = window.getComputedStyle(gd).display;\n",
       "        if (!display || display === 'none') {{\n",
       "            console.log([gd, 'removed!']);\n",
       "            Plotly.purge(gd);\n",
       "            observer.disconnect();\n",
       "        }}\n",
       "}});\n",
       "\n",
       "// Listen for the removal of the full notebook cells\n",
       "var notebookContainer = gd.closest('#notebook-container');\n",
       "if (notebookContainer) {{\n",
       "    x.observe(notebookContainer, {childList: true});\n",
       "}}\n",
       "\n",
       "// Listen for the clearing of the current output cell\n",
       "var outputEl = gd.closest('.output');\n",
       "if (outputEl) {{\n",
       "    x.observe(outputEl, {childList: true});\n",
       "}}\n",
       "\n",
       "                        })                };                });            </script>        </div>"
      ]
     },
     "metadata": {},
     "output_type": "display_data"
    }
   ],
   "source": [
    "fig = px.bar(largest_regions_df, x=\"month\", color=\"age_category\",\n",
    "             y='number_of_accidents',\n",
    "             title=\"Number of accidents for each age group in the largest KSA regions\",\n",
    "             barmode='group',\n",
    "             height=700,\n",
    "             facet_row=\"region\",\n",
    "             labels={\"number_of_accidents\":\"Accidents Number\",\n",
    "                    \"month\":\"Hijri calendar month\",\n",
    "                     \"age_category\":\"Age Group\",\n",
    "                     \"region\":\"Region\"\n",
    "                    }\n",
    "            )\n",
    "\n",
    "fig.show()"
   ]
  },
  {
   "cell_type": "markdown",
   "id": "329c3769",
   "metadata": {},
   "source": [
    "In Riyadh and in Jedda the numbers of accidents stay almost the same during the whole year. But in Eastern province the numbers go down during summer to less that 50% which is very interseting.\n",
    "What could be the reason?\n",
    "Maybe that most families are then outside the city, or they just stay at home most of the time because of the hot weather and schools are then closed.\n",
    "Let's see how the percentage of kids involvement is changing over the year for these regions:\n"
   ]
  },
  {
   "cell_type": "code",
   "execution_count": 322,
   "id": "482bcd71",
   "metadata": {},
   "outputs": [
    {
     "data": {
      "text/html": [
       "<div><div id=0db946f4-2b63-4dc8-9729-fe434785c269 style=\"display:none; background-color:#9D6CFF; color:white; width:200px; height:30px; padding-left:5px; border-radius:4px; flex-direction:row; justify-content:space-around; align-items:center;\" onmouseover=\"this.style.backgroundColor='#BA9BF8'\" onmouseout=\"this.style.backgroundColor='#9D6CFF'\" onclick=\"window.commands?.execute('create-mitosheet-from-dataframe-output');\">See Full Dataframe in Mito</div> <script> if (window.commands.hasCommand('create-mitosheet-from-dataframe-output')) document.getElementById('0db946f4-2b63-4dc8-9729-fe434785c269').style.display = 'flex' </script> <table border=\"1\" class=\"dataframe\">\n",
       "  <thead>\n",
       "    <tr style=\"text-align: right;\">\n",
       "      <th></th>\n",
       "      <th>month</th>\n",
       "      <th>region</th>\n",
       "      <th>18-</th>\n",
       "      <th>18+</th>\n",
       "      <th>30+</th>\n",
       "      <th>40+</th>\n",
       "      <th>50+</th>\n",
       "      <th>Total</th>\n",
       "      <th>perc</th>\n",
       "    </tr>\n",
       "  </thead>\n",
       "  <tbody>\n",
       "    <tr>\n",
       "      <th>0</th>\n",
       "      <td>Muharram</td>\n",
       "      <td>Riyadh</td>\n",
       "      <td>2417.0</td>\n",
       "      <td>4583.0</td>\n",
       "      <td>4390.0</td>\n",
       "      <td>1264.0</td>\n",
       "      <td>274.0</td>\n",
       "      <td>12654.0</td>\n",
       "      <td>0.191007</td>\n",
       "    </tr>\n",
       "    <tr>\n",
       "      <th>1</th>\n",
       "      <td>Safar</td>\n",
       "      <td>Riyadh</td>\n",
       "      <td>1843.0</td>\n",
       "      <td>2281.0</td>\n",
       "      <td>2452.0</td>\n",
       "      <td>2053.0</td>\n",
       "      <td>1012.0</td>\n",
       "      <td>8629.0</td>\n",
       "      <td>0.213582</td>\n",
       "    </tr>\n",
       "    <tr>\n",
       "      <th>2</th>\n",
       "      <td>Rabi al-awwal</td>\n",
       "      <td>Riyadh</td>\n",
       "      <td>2722.0</td>\n",
       "      <td>3833.0</td>\n",
       "      <td>3697.0</td>\n",
       "      <td>3841.0</td>\n",
       "      <td>1852.0</td>\n",
       "      <td>14093.0</td>\n",
       "      <td>0.193146</td>\n",
       "    </tr>\n",
       "    <tr>\n",
       "      <th>3</th>\n",
       "      <td>Rabi al-thani</td>\n",
       "      <td>Riyadh</td>\n",
       "      <td>2855.0</td>\n",
       "      <td>3796.0</td>\n",
       "      <td>3541.0</td>\n",
       "      <td>3280.0</td>\n",
       "      <td>1709.0</td>\n",
       "      <td>13472.0</td>\n",
       "      <td>0.211921</td>\n",
       "    </tr>\n",
       "    <tr>\n",
       "      <th>4</th>\n",
       "      <td>Jumada al-awwal</td>\n",
       "      <td>Riyadh</td>\n",
       "      <td>2844.0</td>\n",
       "      <td>3862.0</td>\n",
       "      <td>3623.0</td>\n",
       "      <td>3841.0</td>\n",
       "      <td>1721.0</td>\n",
       "      <td>14170.0</td>\n",
       "      <td>0.200706</td>\n",
       "    </tr>\n",
       "  </tbody>\n",
       "</table></div>"
      ],
      "text/plain": [
       "             month  region     18-     18+     30+     40+     50+    Total  \\\n",
       "0         Muharram  Riyadh  2417.0  4583.0  4390.0  1264.0   274.0  12654.0   \n",
       "1            Safar  Riyadh  1843.0  2281.0  2452.0  2053.0  1012.0   8629.0   \n",
       "2    Rabi al-awwal  Riyadh  2722.0  3833.0  3697.0  3841.0  1852.0  14093.0   \n",
       "3    Rabi al-thani  Riyadh  2855.0  3796.0  3541.0  3280.0  1709.0  13472.0   \n",
       "4  Jumada al-awwal  Riyadh  2844.0  3862.0  3623.0  3841.0  1721.0  14170.0   \n",
       "\n",
       "       perc  \n",
       "0  0.191007  \n",
       "1  0.213582  \n",
       "2  0.193146  \n",
       "3  0.211921  \n",
       "4  0.200706  "
      ]
     },
     "execution_count": 322,
     "metadata": {},
     "output_type": "execute_result"
    }
   ],
   "source": [
    "age_df.head()"
   ]
  },
  {
   "cell_type": "code",
   "execution_count": 323,
   "id": "523b8eff",
   "metadata": {},
   "outputs": [
    {
     "name": "stderr",
     "output_type": "stream",
     "text": [
      "C:\\Users\\fatsam\\AppData\\Local\\Temp/ipykernel_18712/3217719834.py:4: SettingWithCopyWarning:\n",
      "\n",
      "\n",
      "A value is trying to be set on a copy of a slice from a DataFrame.\n",
      "Try using .loc[row_indexer,col_indexer] = value instead\n",
      "\n",
      "See the caveats in the documentation: https://pandas.pydata.org/pandas-docs/stable/user_guide/indexing.html#returning-a-view-versus-a-copy\n",
      "\n"
     ]
    },
    {
     "data": {
      "application/vnd.plotly.v1+json": {
       "config": {
        "plotlyServerURL": "https://plot.ly"
       },
       "data": [
        {
         "hovertemplate": "Region=Riyadh<br>Hijri calendar month=%{x}<br>Percentage of children involvement=%{y}<extra></extra>",
         "legendgroup": "Riyadh",
         "line": {
          "color": "#636efa",
          "dash": "solid"
         },
         "marker": {
          "symbol": "circle"
         },
         "mode": "lines",
         "name": "Riyadh",
         "orientation": "v",
         "showlegend": true,
         "type": "scatter",
         "x": [
          "Muharram",
          "Safar",
          "Rabi al-awwal",
          "Rabi al-thani",
          "Jumada al-awwal",
          "Jumada al-thani",
          "Rajab",
          "Shaban",
          "Ramadan",
          "Shawwal",
          "Dhul Qadah",
          "Dhul Hijjah"
         ],
         "xaxis": "x",
         "y": [
          19.10067962699542,
          21.358210684899756,
          19.31455332434542,
          21.192102137767222,
          20.070571630204658,
          18.840808591282375,
          21.50283902367082,
          19.548924844154936,
          20.989701518589634,
          22.42530755711775,
          20.51851194175619,
          20.780220720335357
         ],
         "yaxis": "y"
        },
        {
         "hovertemplate": "Region=Eastern<br>Hijri calendar month=%{x}<br>Percentage of children involvement=%{y}<extra></extra>",
         "legendgroup": "Eastern",
         "line": {
          "color": "#EF553B",
          "dash": "solid"
         },
         "marker": {
          "symbol": "circle"
         },
         "mode": "lines",
         "name": "Eastern",
         "orientation": "v",
         "showlegend": true,
         "type": "scatter",
         "x": [
          "Muharram",
          "Safar",
          "Rabi al-awwal",
          "Rabi al-thani",
          "Jumada al-awwal",
          "Jumada al-thani",
          "Rajab",
          "Shaban",
          "Ramadan",
          "Shawwal",
          "Dhul Qadah",
          "Dhul Hijjah"
         ],
         "xaxis": "x",
         "y": [
          10.778330673176226,
          9.281156156156156,
          8.677298311444654,
          8.697247706422019,
          8.17658349328215,
          4.919990446620492,
          4.6899026140440805,
          4.714828897338403,
          4.585091420534459,
          4.218296862641709,
          4.495311638168781,
          3.998532648569332
         ],
         "yaxis": "y"
        },
        {
         "hovertemplate": "Region=Jedda<br>Hijri calendar month=%{x}<br>Percentage of children involvement=%{y}<extra></extra>",
         "legendgroup": "Jedda",
         "line": {
          "color": "#00cc96",
          "dash": "solid"
         },
         "marker": {
          "symbol": "circle"
         },
         "mode": "lines",
         "name": "Jedda",
         "orientation": "v",
         "showlegend": true,
         "type": "scatter",
         "x": [
          "Muharram",
          "Safar",
          "Rabi al-awwal",
          "Rabi al-thani",
          "Jumada al-awwal",
          "Jumada al-thani",
          "Rajab",
          "Shaban",
          "Ramadan",
          "Shawwal",
          "Dhul Qadah",
          "Dhul Hijjah"
         ],
         "xaxis": "x",
         "y": [
          8.119317275482533,
          7.7708978328173375,
          7.693569553805775,
          9.498454139470972,
          11.217407615831926,
          9.595542715641766,
          7.955203707279397,
          10.640934844192634,
          9.900183336728457,
          11.259676284306826,
          10.253411306042885,
          11.922981979758084
         ],
         "yaxis": "y"
        }
       ],
       "layout": {
        "height": 700,
        "legend": {
         "title": {
          "text": "Region"
         },
         "tracegroupgap": 0
        },
        "template": {
         "data": {
          "bar": [
           {
            "error_x": {
             "color": "#2a3f5f"
            },
            "error_y": {
             "color": "#2a3f5f"
            },
            "marker": {
             "line": {
              "color": "#E5ECF6",
              "width": 0.5
             },
             "pattern": {
              "fillmode": "overlay",
              "size": 10,
              "solidity": 0.2
             }
            },
            "type": "bar"
           }
          ],
          "barpolar": [
           {
            "marker": {
             "line": {
              "color": "#E5ECF6",
              "width": 0.5
             },
             "pattern": {
              "fillmode": "overlay",
              "size": 10,
              "solidity": 0.2
             }
            },
            "type": "barpolar"
           }
          ],
          "carpet": [
           {
            "aaxis": {
             "endlinecolor": "#2a3f5f",
             "gridcolor": "white",
             "linecolor": "white",
             "minorgridcolor": "white",
             "startlinecolor": "#2a3f5f"
            },
            "baxis": {
             "endlinecolor": "#2a3f5f",
             "gridcolor": "white",
             "linecolor": "white",
             "minorgridcolor": "white",
             "startlinecolor": "#2a3f5f"
            },
            "type": "carpet"
           }
          ],
          "choropleth": [
           {
            "colorbar": {
             "outlinewidth": 0,
             "ticks": ""
            },
            "type": "choropleth"
           }
          ],
          "contour": [
           {
            "colorbar": {
             "outlinewidth": 0,
             "ticks": ""
            },
            "colorscale": [
             [
              0,
              "#0d0887"
             ],
             [
              0.1111111111111111,
              "#46039f"
             ],
             [
              0.2222222222222222,
              "#7201a8"
             ],
             [
              0.3333333333333333,
              "#9c179e"
             ],
             [
              0.4444444444444444,
              "#bd3786"
             ],
             [
              0.5555555555555556,
              "#d8576b"
             ],
             [
              0.6666666666666666,
              "#ed7953"
             ],
             [
              0.7777777777777778,
              "#fb9f3a"
             ],
             [
              0.8888888888888888,
              "#fdca26"
             ],
             [
              1,
              "#f0f921"
             ]
            ],
            "type": "contour"
           }
          ],
          "contourcarpet": [
           {
            "colorbar": {
             "outlinewidth": 0,
             "ticks": ""
            },
            "type": "contourcarpet"
           }
          ],
          "heatmap": [
           {
            "colorbar": {
             "outlinewidth": 0,
             "ticks": ""
            },
            "colorscale": [
             [
              0,
              "#0d0887"
             ],
             [
              0.1111111111111111,
              "#46039f"
             ],
             [
              0.2222222222222222,
              "#7201a8"
             ],
             [
              0.3333333333333333,
              "#9c179e"
             ],
             [
              0.4444444444444444,
              "#bd3786"
             ],
             [
              0.5555555555555556,
              "#d8576b"
             ],
             [
              0.6666666666666666,
              "#ed7953"
             ],
             [
              0.7777777777777778,
              "#fb9f3a"
             ],
             [
              0.8888888888888888,
              "#fdca26"
             ],
             [
              1,
              "#f0f921"
             ]
            ],
            "type": "heatmap"
           }
          ],
          "heatmapgl": [
           {
            "colorbar": {
             "outlinewidth": 0,
             "ticks": ""
            },
            "colorscale": [
             [
              0,
              "#0d0887"
             ],
             [
              0.1111111111111111,
              "#46039f"
             ],
             [
              0.2222222222222222,
              "#7201a8"
             ],
             [
              0.3333333333333333,
              "#9c179e"
             ],
             [
              0.4444444444444444,
              "#bd3786"
             ],
             [
              0.5555555555555556,
              "#d8576b"
             ],
             [
              0.6666666666666666,
              "#ed7953"
             ],
             [
              0.7777777777777778,
              "#fb9f3a"
             ],
             [
              0.8888888888888888,
              "#fdca26"
             ],
             [
              1,
              "#f0f921"
             ]
            ],
            "type": "heatmapgl"
           }
          ],
          "histogram": [
           {
            "marker": {
             "pattern": {
              "fillmode": "overlay",
              "size": 10,
              "solidity": 0.2
             }
            },
            "type": "histogram"
           }
          ],
          "histogram2d": [
           {
            "colorbar": {
             "outlinewidth": 0,
             "ticks": ""
            },
            "colorscale": [
             [
              0,
              "#0d0887"
             ],
             [
              0.1111111111111111,
              "#46039f"
             ],
             [
              0.2222222222222222,
              "#7201a8"
             ],
             [
              0.3333333333333333,
              "#9c179e"
             ],
             [
              0.4444444444444444,
              "#bd3786"
             ],
             [
              0.5555555555555556,
              "#d8576b"
             ],
             [
              0.6666666666666666,
              "#ed7953"
             ],
             [
              0.7777777777777778,
              "#fb9f3a"
             ],
             [
              0.8888888888888888,
              "#fdca26"
             ],
             [
              1,
              "#f0f921"
             ]
            ],
            "type": "histogram2d"
           }
          ],
          "histogram2dcontour": [
           {
            "colorbar": {
             "outlinewidth": 0,
             "ticks": ""
            },
            "colorscale": [
             [
              0,
              "#0d0887"
             ],
             [
              0.1111111111111111,
              "#46039f"
             ],
             [
              0.2222222222222222,
              "#7201a8"
             ],
             [
              0.3333333333333333,
              "#9c179e"
             ],
             [
              0.4444444444444444,
              "#bd3786"
             ],
             [
              0.5555555555555556,
              "#d8576b"
             ],
             [
              0.6666666666666666,
              "#ed7953"
             ],
             [
              0.7777777777777778,
              "#fb9f3a"
             ],
             [
              0.8888888888888888,
              "#fdca26"
             ],
             [
              1,
              "#f0f921"
             ]
            ],
            "type": "histogram2dcontour"
           }
          ],
          "mesh3d": [
           {
            "colorbar": {
             "outlinewidth": 0,
             "ticks": ""
            },
            "type": "mesh3d"
           }
          ],
          "parcoords": [
           {
            "line": {
             "colorbar": {
              "outlinewidth": 0,
              "ticks": ""
             }
            },
            "type": "parcoords"
           }
          ],
          "pie": [
           {
            "automargin": true,
            "type": "pie"
           }
          ],
          "scatter": [
           {
            "marker": {
             "colorbar": {
              "outlinewidth": 0,
              "ticks": ""
             }
            },
            "type": "scatter"
           }
          ],
          "scatter3d": [
           {
            "line": {
             "colorbar": {
              "outlinewidth": 0,
              "ticks": ""
             }
            },
            "marker": {
             "colorbar": {
              "outlinewidth": 0,
              "ticks": ""
             }
            },
            "type": "scatter3d"
           }
          ],
          "scattercarpet": [
           {
            "marker": {
             "colorbar": {
              "outlinewidth": 0,
              "ticks": ""
             }
            },
            "type": "scattercarpet"
           }
          ],
          "scattergeo": [
           {
            "marker": {
             "colorbar": {
              "outlinewidth": 0,
              "ticks": ""
             }
            },
            "type": "scattergeo"
           }
          ],
          "scattergl": [
           {
            "marker": {
             "colorbar": {
              "outlinewidth": 0,
              "ticks": ""
             }
            },
            "type": "scattergl"
           }
          ],
          "scattermapbox": [
           {
            "marker": {
             "colorbar": {
              "outlinewidth": 0,
              "ticks": ""
             }
            },
            "type": "scattermapbox"
           }
          ],
          "scatterpolar": [
           {
            "marker": {
             "colorbar": {
              "outlinewidth": 0,
              "ticks": ""
             }
            },
            "type": "scatterpolar"
           }
          ],
          "scatterpolargl": [
           {
            "marker": {
             "colorbar": {
              "outlinewidth": 0,
              "ticks": ""
             }
            },
            "type": "scatterpolargl"
           }
          ],
          "scatterternary": [
           {
            "marker": {
             "colorbar": {
              "outlinewidth": 0,
              "ticks": ""
             }
            },
            "type": "scatterternary"
           }
          ],
          "surface": [
           {
            "colorbar": {
             "outlinewidth": 0,
             "ticks": ""
            },
            "colorscale": [
             [
              0,
              "#0d0887"
             ],
             [
              0.1111111111111111,
              "#46039f"
             ],
             [
              0.2222222222222222,
              "#7201a8"
             ],
             [
              0.3333333333333333,
              "#9c179e"
             ],
             [
              0.4444444444444444,
              "#bd3786"
             ],
             [
              0.5555555555555556,
              "#d8576b"
             ],
             [
              0.6666666666666666,
              "#ed7953"
             ],
             [
              0.7777777777777778,
              "#fb9f3a"
             ],
             [
              0.8888888888888888,
              "#fdca26"
             ],
             [
              1,
              "#f0f921"
             ]
            ],
            "type": "surface"
           }
          ],
          "table": [
           {
            "cells": {
             "fill": {
              "color": "#EBF0F8"
             },
             "line": {
              "color": "white"
             }
            },
            "header": {
             "fill": {
              "color": "#C8D4E3"
             },
             "line": {
              "color": "white"
             }
            },
            "type": "table"
           }
          ]
         },
         "layout": {
          "annotationdefaults": {
           "arrowcolor": "#2a3f5f",
           "arrowhead": 0,
           "arrowwidth": 1
          },
          "autotypenumbers": "strict",
          "coloraxis": {
           "colorbar": {
            "outlinewidth": 0,
            "ticks": ""
           }
          },
          "colorscale": {
           "diverging": [
            [
             0,
             "#8e0152"
            ],
            [
             0.1,
             "#c51b7d"
            ],
            [
             0.2,
             "#de77ae"
            ],
            [
             0.3,
             "#f1b6da"
            ],
            [
             0.4,
             "#fde0ef"
            ],
            [
             0.5,
             "#f7f7f7"
            ],
            [
             0.6,
             "#e6f5d0"
            ],
            [
             0.7,
             "#b8e186"
            ],
            [
             0.8,
             "#7fbc41"
            ],
            [
             0.9,
             "#4d9221"
            ],
            [
             1,
             "#276419"
            ]
           ],
           "sequential": [
            [
             0,
             "#0d0887"
            ],
            [
             0.1111111111111111,
             "#46039f"
            ],
            [
             0.2222222222222222,
             "#7201a8"
            ],
            [
             0.3333333333333333,
             "#9c179e"
            ],
            [
             0.4444444444444444,
             "#bd3786"
            ],
            [
             0.5555555555555556,
             "#d8576b"
            ],
            [
             0.6666666666666666,
             "#ed7953"
            ],
            [
             0.7777777777777778,
             "#fb9f3a"
            ],
            [
             0.8888888888888888,
             "#fdca26"
            ],
            [
             1,
             "#f0f921"
            ]
           ],
           "sequentialminus": [
            [
             0,
             "#0d0887"
            ],
            [
             0.1111111111111111,
             "#46039f"
            ],
            [
             0.2222222222222222,
             "#7201a8"
            ],
            [
             0.3333333333333333,
             "#9c179e"
            ],
            [
             0.4444444444444444,
             "#bd3786"
            ],
            [
             0.5555555555555556,
             "#d8576b"
            ],
            [
             0.6666666666666666,
             "#ed7953"
            ],
            [
             0.7777777777777778,
             "#fb9f3a"
            ],
            [
             0.8888888888888888,
             "#fdca26"
            ],
            [
             1,
             "#f0f921"
            ]
           ]
          },
          "colorway": [
           "#636efa",
           "#EF553B",
           "#00cc96",
           "#ab63fa",
           "#FFA15A",
           "#19d3f3",
           "#FF6692",
           "#B6E880",
           "#FF97FF",
           "#FECB52"
          ],
          "font": {
           "color": "#2a3f5f"
          },
          "geo": {
           "bgcolor": "white",
           "lakecolor": "white",
           "landcolor": "#E5ECF6",
           "showlakes": true,
           "showland": true,
           "subunitcolor": "white"
          },
          "hoverlabel": {
           "align": "left"
          },
          "hovermode": "closest",
          "mapbox": {
           "style": "light"
          },
          "paper_bgcolor": "white",
          "plot_bgcolor": "#E5ECF6",
          "polar": {
           "angularaxis": {
            "gridcolor": "white",
            "linecolor": "white",
            "ticks": ""
           },
           "bgcolor": "#E5ECF6",
           "radialaxis": {
            "gridcolor": "white",
            "linecolor": "white",
            "ticks": ""
           }
          },
          "scene": {
           "xaxis": {
            "backgroundcolor": "#E5ECF6",
            "gridcolor": "white",
            "gridwidth": 2,
            "linecolor": "white",
            "showbackground": true,
            "ticks": "",
            "zerolinecolor": "white"
           },
           "yaxis": {
            "backgroundcolor": "#E5ECF6",
            "gridcolor": "white",
            "gridwidth": 2,
            "linecolor": "white",
            "showbackground": true,
            "ticks": "",
            "zerolinecolor": "white"
           },
           "zaxis": {
            "backgroundcolor": "#E5ECF6",
            "gridcolor": "white",
            "gridwidth": 2,
            "linecolor": "white",
            "showbackground": true,
            "ticks": "",
            "zerolinecolor": "white"
           }
          },
          "shapedefaults": {
           "line": {
            "color": "#2a3f5f"
           }
          },
          "ternary": {
           "aaxis": {
            "gridcolor": "white",
            "linecolor": "white",
            "ticks": ""
           },
           "baxis": {
            "gridcolor": "white",
            "linecolor": "white",
            "ticks": ""
           },
           "bgcolor": "#E5ECF6",
           "caxis": {
            "gridcolor": "white",
            "linecolor": "white",
            "ticks": ""
           }
          },
          "title": {
           "x": 0.05
          },
          "xaxis": {
           "automargin": true,
           "gridcolor": "white",
           "linecolor": "white",
           "ticks": "",
           "title": {
            "standoff": 15
           },
           "zerolinecolor": "white",
           "zerolinewidth": 2
          },
          "yaxis": {
           "automargin": true,
           "gridcolor": "white",
           "linecolor": "white",
           "ticks": "",
           "title": {
            "standoff": 15
           },
           "zerolinecolor": "white",
           "zerolinewidth": 2
          }
         }
        },
        "title": {
         "text": "Percentage of children involvement in traffic accidents in the 3 large region"
        },
        "xaxis": {
         "anchor": "y",
         "domain": [
          0,
          1
         ],
         "title": {
          "text": "Hijri calendar month"
         }
        },
        "yaxis": {
         "anchor": "x",
         "domain": [
          0,
          1
         ],
         "title": {
          "text": "Percentage of children involvement"
         }
        }
       }
      },
      "text/html": [
       "<div>                            <div id=\"f7d4990f-4962-4e60-be49-beb8efd914d6\" class=\"plotly-graph-div\" style=\"height:700px; width:100%;\"></div>            <script type=\"text/javascript\">                require([\"plotly\"], function(Plotly) {                    window.PLOTLYENV=window.PLOTLYENV || {};                                    if (document.getElementById(\"f7d4990f-4962-4e60-be49-beb8efd914d6\")) {                    Plotly.newPlot(                        \"f7d4990f-4962-4e60-be49-beb8efd914d6\",                        [{\"hovertemplate\":\"Region=Riyadh<br>Hijri calendar month=%{x}<br>Percentage of children involvement=%{y}<extra></extra>\",\"legendgroup\":\"Riyadh\",\"line\":{\"color\":\"#636efa\",\"dash\":\"solid\"},\"marker\":{\"symbol\":\"circle\"},\"mode\":\"lines\",\"name\":\"Riyadh\",\"orientation\":\"v\",\"showlegend\":true,\"type\":\"scatter\",\"x\":[\"Muharram\",\"Safar\",\"Rabi al-awwal\",\"Rabi al-thani\",\"Jumada al-awwal\",\"Jumada al-thani\",\"Rajab\",\"Shaban\",\"Ramadan\",\"Shawwal\",\"Dhul Qadah\",\"Dhul Hijjah\"],\"xaxis\":\"x\",\"y\":[19.10067962699542,21.358210684899756,19.31455332434542,21.192102137767222,20.070571630204658,18.840808591282375,21.50283902367082,19.548924844154936,20.989701518589634,22.42530755711775,20.51851194175619,20.780220720335357],\"yaxis\":\"y\"},{\"hovertemplate\":\"Region=Eastern<br>Hijri calendar month=%{x}<br>Percentage of children involvement=%{y}<extra></extra>\",\"legendgroup\":\"Eastern\",\"line\":{\"color\":\"#EF553B\",\"dash\":\"solid\"},\"marker\":{\"symbol\":\"circle\"},\"mode\":\"lines\",\"name\":\"Eastern\",\"orientation\":\"v\",\"showlegend\":true,\"type\":\"scatter\",\"x\":[\"Muharram\",\"Safar\",\"Rabi al-awwal\",\"Rabi al-thani\",\"Jumada al-awwal\",\"Jumada al-thani\",\"Rajab\",\"Shaban\",\"Ramadan\",\"Shawwal\",\"Dhul Qadah\",\"Dhul Hijjah\"],\"xaxis\":\"x\",\"y\":[10.778330673176226,9.281156156156156,8.677298311444654,8.697247706422019,8.17658349328215,4.919990446620492,4.6899026140440805,4.714828897338403,4.585091420534459,4.218296862641709,4.495311638168781,3.998532648569332],\"yaxis\":\"y\"},{\"hovertemplate\":\"Region=Jedda<br>Hijri calendar month=%{x}<br>Percentage of children involvement=%{y}<extra></extra>\",\"legendgroup\":\"Jedda\",\"line\":{\"color\":\"#00cc96\",\"dash\":\"solid\"},\"marker\":{\"symbol\":\"circle\"},\"mode\":\"lines\",\"name\":\"Jedda\",\"orientation\":\"v\",\"showlegend\":true,\"type\":\"scatter\",\"x\":[\"Muharram\",\"Safar\",\"Rabi al-awwal\",\"Rabi al-thani\",\"Jumada al-awwal\",\"Jumada al-thani\",\"Rajab\",\"Shaban\",\"Ramadan\",\"Shawwal\",\"Dhul Qadah\",\"Dhul Hijjah\"],\"xaxis\":\"x\",\"y\":[8.119317275482533,7.7708978328173375,7.693569553805775,9.498454139470972,11.217407615831926,9.595542715641766,7.955203707279397,10.640934844192634,9.900183336728457,11.259676284306826,10.253411306042885,11.922981979758084],\"yaxis\":\"y\"}],                        {\"height\":700,\"legend\":{\"title\":{\"text\":\"Region\"},\"tracegroupgap\":0},\"template\":{\"data\":{\"bar\":[{\"error_x\":{\"color\":\"#2a3f5f\"},\"error_y\":{\"color\":\"#2a3f5f\"},\"marker\":{\"line\":{\"color\":\"#E5ECF6\",\"width\":0.5},\"pattern\":{\"fillmode\":\"overlay\",\"size\":10,\"solidity\":0.2}},\"type\":\"bar\"}],\"barpolar\":[{\"marker\":{\"line\":{\"color\":\"#E5ECF6\",\"width\":0.5},\"pattern\":{\"fillmode\":\"overlay\",\"size\":10,\"solidity\":0.2}},\"type\":\"barpolar\"}],\"carpet\":[{\"aaxis\":{\"endlinecolor\":\"#2a3f5f\",\"gridcolor\":\"white\",\"linecolor\":\"white\",\"minorgridcolor\":\"white\",\"startlinecolor\":\"#2a3f5f\"},\"baxis\":{\"endlinecolor\":\"#2a3f5f\",\"gridcolor\":\"white\",\"linecolor\":\"white\",\"minorgridcolor\":\"white\",\"startlinecolor\":\"#2a3f5f\"},\"type\":\"carpet\"}],\"choropleth\":[{\"colorbar\":{\"outlinewidth\":0,\"ticks\":\"\"},\"type\":\"choropleth\"}],\"contour\":[{\"colorbar\":{\"outlinewidth\":0,\"ticks\":\"\"},\"colorscale\":[[0.0,\"#0d0887\"],[0.1111111111111111,\"#46039f\"],[0.2222222222222222,\"#7201a8\"],[0.3333333333333333,\"#9c179e\"],[0.4444444444444444,\"#bd3786\"],[0.5555555555555556,\"#d8576b\"],[0.6666666666666666,\"#ed7953\"],[0.7777777777777778,\"#fb9f3a\"],[0.8888888888888888,\"#fdca26\"],[1.0,\"#f0f921\"]],\"type\":\"contour\"}],\"contourcarpet\":[{\"colorbar\":{\"outlinewidth\":0,\"ticks\":\"\"},\"type\":\"contourcarpet\"}],\"heatmap\":[{\"colorbar\":{\"outlinewidth\":0,\"ticks\":\"\"},\"colorscale\":[[0.0,\"#0d0887\"],[0.1111111111111111,\"#46039f\"],[0.2222222222222222,\"#7201a8\"],[0.3333333333333333,\"#9c179e\"],[0.4444444444444444,\"#bd3786\"],[0.5555555555555556,\"#d8576b\"],[0.6666666666666666,\"#ed7953\"],[0.7777777777777778,\"#fb9f3a\"],[0.8888888888888888,\"#fdca26\"],[1.0,\"#f0f921\"]],\"type\":\"heatmap\"}],\"heatmapgl\":[{\"colorbar\":{\"outlinewidth\":0,\"ticks\":\"\"},\"colorscale\":[[0.0,\"#0d0887\"],[0.1111111111111111,\"#46039f\"],[0.2222222222222222,\"#7201a8\"],[0.3333333333333333,\"#9c179e\"],[0.4444444444444444,\"#bd3786\"],[0.5555555555555556,\"#d8576b\"],[0.6666666666666666,\"#ed7953\"],[0.7777777777777778,\"#fb9f3a\"],[0.8888888888888888,\"#fdca26\"],[1.0,\"#f0f921\"]],\"type\":\"heatmapgl\"}],\"histogram\":[{\"marker\":{\"pattern\":{\"fillmode\":\"overlay\",\"size\":10,\"solidity\":0.2}},\"type\":\"histogram\"}],\"histogram2d\":[{\"colorbar\":{\"outlinewidth\":0,\"ticks\":\"\"},\"colorscale\":[[0.0,\"#0d0887\"],[0.1111111111111111,\"#46039f\"],[0.2222222222222222,\"#7201a8\"],[0.3333333333333333,\"#9c179e\"],[0.4444444444444444,\"#bd3786\"],[0.5555555555555556,\"#d8576b\"],[0.6666666666666666,\"#ed7953\"],[0.7777777777777778,\"#fb9f3a\"],[0.8888888888888888,\"#fdca26\"],[1.0,\"#f0f921\"]],\"type\":\"histogram2d\"}],\"histogram2dcontour\":[{\"colorbar\":{\"outlinewidth\":0,\"ticks\":\"\"},\"colorscale\":[[0.0,\"#0d0887\"],[0.1111111111111111,\"#46039f\"],[0.2222222222222222,\"#7201a8\"],[0.3333333333333333,\"#9c179e\"],[0.4444444444444444,\"#bd3786\"],[0.5555555555555556,\"#d8576b\"],[0.6666666666666666,\"#ed7953\"],[0.7777777777777778,\"#fb9f3a\"],[0.8888888888888888,\"#fdca26\"],[1.0,\"#f0f921\"]],\"type\":\"histogram2dcontour\"}],\"mesh3d\":[{\"colorbar\":{\"outlinewidth\":0,\"ticks\":\"\"},\"type\":\"mesh3d\"}],\"parcoords\":[{\"line\":{\"colorbar\":{\"outlinewidth\":0,\"ticks\":\"\"}},\"type\":\"parcoords\"}],\"pie\":[{\"automargin\":true,\"type\":\"pie\"}],\"scatter\":[{\"marker\":{\"colorbar\":{\"outlinewidth\":0,\"ticks\":\"\"}},\"type\":\"scatter\"}],\"scatter3d\":[{\"line\":{\"colorbar\":{\"outlinewidth\":0,\"ticks\":\"\"}},\"marker\":{\"colorbar\":{\"outlinewidth\":0,\"ticks\":\"\"}},\"type\":\"scatter3d\"}],\"scattercarpet\":[{\"marker\":{\"colorbar\":{\"outlinewidth\":0,\"ticks\":\"\"}},\"type\":\"scattercarpet\"}],\"scattergeo\":[{\"marker\":{\"colorbar\":{\"outlinewidth\":0,\"ticks\":\"\"}},\"type\":\"scattergeo\"}],\"scattergl\":[{\"marker\":{\"colorbar\":{\"outlinewidth\":0,\"ticks\":\"\"}},\"type\":\"scattergl\"}],\"scattermapbox\":[{\"marker\":{\"colorbar\":{\"outlinewidth\":0,\"ticks\":\"\"}},\"type\":\"scattermapbox\"}],\"scatterpolar\":[{\"marker\":{\"colorbar\":{\"outlinewidth\":0,\"ticks\":\"\"}},\"type\":\"scatterpolar\"}],\"scatterpolargl\":[{\"marker\":{\"colorbar\":{\"outlinewidth\":0,\"ticks\":\"\"}},\"type\":\"scatterpolargl\"}],\"scatterternary\":[{\"marker\":{\"colorbar\":{\"outlinewidth\":0,\"ticks\":\"\"}},\"type\":\"scatterternary\"}],\"surface\":[{\"colorbar\":{\"outlinewidth\":0,\"ticks\":\"\"},\"colorscale\":[[0.0,\"#0d0887\"],[0.1111111111111111,\"#46039f\"],[0.2222222222222222,\"#7201a8\"],[0.3333333333333333,\"#9c179e\"],[0.4444444444444444,\"#bd3786\"],[0.5555555555555556,\"#d8576b\"],[0.6666666666666666,\"#ed7953\"],[0.7777777777777778,\"#fb9f3a\"],[0.8888888888888888,\"#fdca26\"],[1.0,\"#f0f921\"]],\"type\":\"surface\"}],\"table\":[{\"cells\":{\"fill\":{\"color\":\"#EBF0F8\"},\"line\":{\"color\":\"white\"}},\"header\":{\"fill\":{\"color\":\"#C8D4E3\"},\"line\":{\"color\":\"white\"}},\"type\":\"table\"}]},\"layout\":{\"annotationdefaults\":{\"arrowcolor\":\"#2a3f5f\",\"arrowhead\":0,\"arrowwidth\":1},\"autotypenumbers\":\"strict\",\"coloraxis\":{\"colorbar\":{\"outlinewidth\":0,\"ticks\":\"\"}},\"colorscale\":{\"diverging\":[[0,\"#8e0152\"],[0.1,\"#c51b7d\"],[0.2,\"#de77ae\"],[0.3,\"#f1b6da\"],[0.4,\"#fde0ef\"],[0.5,\"#f7f7f7\"],[0.6,\"#e6f5d0\"],[0.7,\"#b8e186\"],[0.8,\"#7fbc41\"],[0.9,\"#4d9221\"],[1,\"#276419\"]],\"sequential\":[[0.0,\"#0d0887\"],[0.1111111111111111,\"#46039f\"],[0.2222222222222222,\"#7201a8\"],[0.3333333333333333,\"#9c179e\"],[0.4444444444444444,\"#bd3786\"],[0.5555555555555556,\"#d8576b\"],[0.6666666666666666,\"#ed7953\"],[0.7777777777777778,\"#fb9f3a\"],[0.8888888888888888,\"#fdca26\"],[1.0,\"#f0f921\"]],\"sequentialminus\":[[0.0,\"#0d0887\"],[0.1111111111111111,\"#46039f\"],[0.2222222222222222,\"#7201a8\"],[0.3333333333333333,\"#9c179e\"],[0.4444444444444444,\"#bd3786\"],[0.5555555555555556,\"#d8576b\"],[0.6666666666666666,\"#ed7953\"],[0.7777777777777778,\"#fb9f3a\"],[0.8888888888888888,\"#fdca26\"],[1.0,\"#f0f921\"]]},\"colorway\":[\"#636efa\",\"#EF553B\",\"#00cc96\",\"#ab63fa\",\"#FFA15A\",\"#19d3f3\",\"#FF6692\",\"#B6E880\",\"#FF97FF\",\"#FECB52\"],\"font\":{\"color\":\"#2a3f5f\"},\"geo\":{\"bgcolor\":\"white\",\"lakecolor\":\"white\",\"landcolor\":\"#E5ECF6\",\"showlakes\":true,\"showland\":true,\"subunitcolor\":\"white\"},\"hoverlabel\":{\"align\":\"left\"},\"hovermode\":\"closest\",\"mapbox\":{\"style\":\"light\"},\"paper_bgcolor\":\"white\",\"plot_bgcolor\":\"#E5ECF6\",\"polar\":{\"angularaxis\":{\"gridcolor\":\"white\",\"linecolor\":\"white\",\"ticks\":\"\"},\"bgcolor\":\"#E5ECF6\",\"radialaxis\":{\"gridcolor\":\"white\",\"linecolor\":\"white\",\"ticks\":\"\"}},\"scene\":{\"xaxis\":{\"backgroundcolor\":\"#E5ECF6\",\"gridcolor\":\"white\",\"gridwidth\":2,\"linecolor\":\"white\",\"showbackground\":true,\"ticks\":\"\",\"zerolinecolor\":\"white\"},\"yaxis\":{\"backgroundcolor\":\"#E5ECF6\",\"gridcolor\":\"white\",\"gridwidth\":2,\"linecolor\":\"white\",\"showbackground\":true,\"ticks\":\"\",\"zerolinecolor\":\"white\"},\"zaxis\":{\"backgroundcolor\":\"#E5ECF6\",\"gridcolor\":\"white\",\"gridwidth\":2,\"linecolor\":\"white\",\"showbackground\":true,\"ticks\":\"\",\"zerolinecolor\":\"white\"}},\"shapedefaults\":{\"line\":{\"color\":\"#2a3f5f\"}},\"ternary\":{\"aaxis\":{\"gridcolor\":\"white\",\"linecolor\":\"white\",\"ticks\":\"\"},\"baxis\":{\"gridcolor\":\"white\",\"linecolor\":\"white\",\"ticks\":\"\"},\"bgcolor\":\"#E5ECF6\",\"caxis\":{\"gridcolor\":\"white\",\"linecolor\":\"white\",\"ticks\":\"\"}},\"title\":{\"x\":0.05},\"xaxis\":{\"automargin\":true,\"gridcolor\":\"white\",\"linecolor\":\"white\",\"ticks\":\"\",\"title\":{\"standoff\":15},\"zerolinecolor\":\"white\",\"zerolinewidth\":2},\"yaxis\":{\"automargin\":true,\"gridcolor\":\"white\",\"linecolor\":\"white\",\"ticks\":\"\",\"title\":{\"standoff\":15},\"zerolinecolor\":\"white\",\"zerolinewidth\":2}}},\"title\":{\"text\":\"Percentage of children involvement in traffic accidents in the 3 large region\"},\"xaxis\":{\"anchor\":\"y\",\"domain\":[0.0,1.0],\"title\":{\"text\":\"Hijri calendar month\"}},\"yaxis\":{\"anchor\":\"x\",\"domain\":[0.0,1.0],\"title\":{\"text\":\"Percentage of children involvement\"}}},                        {\"responsive\": true}                    ).then(function(){\n",
       "                            \n",
       "var gd = document.getElementById('f7d4990f-4962-4e60-be49-beb8efd914d6');\n",
       "var x = new MutationObserver(function (mutations, observer) {{\n",
       "        var display = window.getComputedStyle(gd).display;\n",
       "        if (!display || display === 'none') {{\n",
       "            console.log([gd, 'removed!']);\n",
       "            Plotly.purge(gd);\n",
       "            observer.disconnect();\n",
       "        }}\n",
       "}});\n",
       "\n",
       "// Listen for the removal of the full notebook cells\n",
       "var notebookContainer = gd.closest('#notebook-container');\n",
       "if (notebookContainer) {{\n",
       "    x.observe(notebookContainer, {childList: true});\n",
       "}}\n",
       "\n",
       "// Listen for the clearing of the current output cell\n",
       "var outputEl = gd.closest('.output');\n",
       "if (outputEl) {{\n",
       "    x.observe(outputEl, {childList: true});\n",
       "}}\n",
       "\n",
       "                        })                };                });            </script>        </div>"
      ]
     },
     "metadata": {},
     "output_type": "display_data"
    }
   ],
   "source": [
    "import plotly.express as px\n",
    "\n",
    "df = age_df.query(\"region ==(['Riyadh','Jedda','Eastern'])\")\n",
    "df[\"perc\"]= df[\"18-\"]/df[\"Total\"]*100\n",
    "\n",
    "fig = px.line(df, x=\"month\", y=\"perc\", color='region',\n",
    "\n",
    "             title=\"Percentage of children involvement in traffic accidents in the 3 large region\",\n",
    "             height=700,\n",
    "             labels={\"perc\":\"Percentage of children involvement\",\n",
    "                    \"month\":\"Hijri calendar month\",\n",
    "                     \"age_category\":\"Age Group\",\n",
    "                     \"region\":\"Region\"\n",
    "                    }\n",
    "            )\n",
    "\n",
    "\n",
    "fig.show()"
   ]
  },
  {
   "cell_type": "markdown",
   "id": "2a31aa46",
   "metadata": {},
   "source": [
    "Clearly, in Eastern province the percentage of children decreases as soon after the schools end in the beginning of the summer holidays\n",
    "But it increases slightly in Riyadh and in Jedda.\n"
   ]
  },
  {
   "cell_type": "markdown",
   "id": "46db4365",
   "metadata": {},
   "source": [
    "## Conclusion"
   ]
  },
  {
   "cell_type": "markdown",
   "id": "151a4883",
   "metadata": {},
   "source": [
    "A more in depth research should be made to find out why traffic accidents decrease in Eastern while they increase in other regions during the summer holidays."
   ]
  }
 ],
 "metadata": {
  "kernelspec": {
   "display_name": "Python 3 (ipykernel)",
   "language": "python",
   "name": "python3"
  },
  "language_info": {
   "codemirror_mode": {
    "name": "ipython",
    "version": 3
   },
   "file_extension": ".py",
   "mimetype": "text/x-python",
   "name": "python",
   "nbconvert_exporter": "python",
   "pygments_lexer": "ipython3",
   "version": "3.8.12"
  }
 },
 "nbformat": 4,
 "nbformat_minor": 5
}
