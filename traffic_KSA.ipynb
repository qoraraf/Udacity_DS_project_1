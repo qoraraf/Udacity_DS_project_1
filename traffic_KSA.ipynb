{
 "cells": [
  {
   "cell_type": "markdown",
   "id": "263a743b",
   "metadata": {},
   "source": [
    "# Traffic accidents in Saudi Arabia during 1939 Hijri"
   ]
  },
  {
   "cell_type": "markdown",
   "id": "7f86c9d0",
   "metadata": {},
   "source": [
    "The causes of traffic accidents in Saudi Arabia have become one of the main problems the kingdom is dealing with. with this project we try to find out the following:\n",
    "\n",
    "- What is the total number of accidents per month?\n",
    "- What is the percentage of children that are involved in these accidents per month?\n",
    "- What is the the percentage of children involved for each region during the whole year?\n",
    "- Comparing the largest regions in the kingdom of Saudi Arabia, where is the highest percentage of children involvement into traffic accidents?\n",
    "\n"
   ]
  },
  {
   "cell_type": "code",
   "execution_count": 384,
   "id": "36ccd25f",
   "metadata": {},
   "outputs": [],
   "source": [
    "#importing libraries\n",
    "\n",
    "import pandas as pd\n",
    "import numpy as np\n",
    "import seaborn as sns\n",
    "from matplotlib import pyplot as plt\n",
    "import plotly.express as px\n",
    "%matplotlib inline"
   ]
  },
  {
   "cell_type": "code",
   "execution_count": 385,
   "id": "63567575",
   "metadata": {},
   "outputs": [],
   "source": [
    "# importing data, data received from my mentor, and is to be found in Saudi open data portal. \n",
    "# read all excel sheets and combine them in one dataframe\n",
    "# add a column with sheet's name, which is the region name\n",
    "workbook = pd.ExcelFile('traffic-accident-statistics-as-of-1439-h.xls')\n",
    "sheets = workbook.sheet_names\n",
    "df = pd.concat([pd.read_excel(workbook, sheet_name=s)\n",
    "                .assign(region=s) for s in sheets])\n"
   ]
  },
  {
   "cell_type": "code",
   "execution_count": 386,
   "id": "639f0bb3",
   "metadata": {},
   "outputs": [],
   "source": [
    "# resetting the index\n",
    "df.reset_index(drop=True,inplace=True)"
   ]
  },
  {
   "cell_type": "code",
   "execution_count": 387,
   "id": "fcc3440f",
   "metadata": {},
   "outputs": [
    {
     "data": {
      "text/html": [
       "<div><div id=507766a8-b14a-4fab-830f-b787df099f9e style=\"display:none; background-color:#9D6CFF; color:white; width:200px; height:30px; padding-left:5px; border-radius:4px; flex-direction:row; justify-content:space-around; align-items:center;\" onmouseover=\"this.style.backgroundColor='#BA9BF8'\" onmouseout=\"this.style.backgroundColor='#9D6CFF'\" onclick=\"window.commands?.execute('create-mitosheet-from-dataframe-output');\">See Full Dataframe in Mito</div> <script> if (window.commands.hasCommand('create-mitosheet-from-dataframe-output')) document.getElementById('507766a8-b14a-4fab-830f-b787df099f9e').style.display = 'flex' </script> <table border=\"1\" class=\"dataframe\">\n",
       "  <thead>\n",
       "    <tr style=\"text-align: right;\">\n",
       "      <th></th>\n",
       "      <th>الشهر</th>\n",
       "      <th>حادث تلفيات</th>\n",
       "      <th>حادث اصابات</th>\n",
       "      <th>حادث وفيات</th>\n",
       "      <th>مجموع عدد الحوادث</th>\n",
       "      <th>السبت</th>\n",
       "      <th>الا حد</th>\n",
       "      <th>الاثنين</th>\n",
       "      <th>الثلاثاء</th>\n",
       "      <th>الا ربعاء</th>\n",
       "      <th>...</th>\n",
       "      <th>عدم التقيد بالاشارة</th>\n",
       "      <th>السرعة الزائدة</th>\n",
       "      <th>السائق تحت تأثير مخدر</th>\n",
       "      <th>اخرى.1</th>\n",
       "      <th>مجموع الحوادث حسب سبب الحادث</th>\n",
       "      <th>عدد المصابين</th>\n",
       "      <th>عدد المتوفين (القتلى)</th>\n",
       "      <th>سليم</th>\n",
       "      <th>مجموع الأشخاص المشمولين بالحوادث</th>\n",
       "      <th>region</th>\n",
       "    </tr>\n",
       "  </thead>\n",
       "  <tbody>\n",
       "    <tr>\n",
       "      <th>0</th>\n",
       "      <td>محرم</td>\n",
       "      <td>5047</td>\n",
       "      <td>277</td>\n",
       "      <td>75</td>\n",
       "      <td>5399</td>\n",
       "      <td>919</td>\n",
       "      <td>781</td>\n",
       "      <td>625</td>\n",
       "      <td>814</td>\n",
       "      <td>702</td>\n",
       "      <td>...</td>\n",
       "      <td>1208</td>\n",
       "      <td>1304</td>\n",
       "      <td>0</td>\n",
       "      <td>0</td>\n",
       "      <td>5399</td>\n",
       "      <td>393</td>\n",
       "      <td>100</td>\n",
       "      <td>12435</td>\n",
       "      <td>12928</td>\n",
       "      <td>الرياض</td>\n",
       "    </tr>\n",
       "    <tr>\n",
       "      <th>1</th>\n",
       "      <td>صفر</td>\n",
       "      <td>5941</td>\n",
       "      <td>255</td>\n",
       "      <td>78</td>\n",
       "      <td>6274</td>\n",
       "      <td>1427</td>\n",
       "      <td>1407</td>\n",
       "      <td>1434</td>\n",
       "      <td>857</td>\n",
       "      <td>421</td>\n",
       "      <td>...</td>\n",
       "      <td>739</td>\n",
       "      <td>997</td>\n",
       "      <td>0</td>\n",
       "      <td>0</td>\n",
       "      <td>6274</td>\n",
       "      <td>433</td>\n",
       "      <td>98</td>\n",
       "      <td>9110</td>\n",
       "      <td>9641</td>\n",
       "      <td>الرياض</td>\n",
       "    </tr>\n",
       "    <tr>\n",
       "      <th>2</th>\n",
       "      <td>ربيع أول</td>\n",
       "      <td>7808</td>\n",
       "      <td>271</td>\n",
       "      <td>87</td>\n",
       "      <td>8166</td>\n",
       "      <td>1209</td>\n",
       "      <td>1435</td>\n",
       "      <td>1121</td>\n",
       "      <td>1122</td>\n",
       "      <td>1140</td>\n",
       "      <td>...</td>\n",
       "      <td>1380</td>\n",
       "      <td>2444</td>\n",
       "      <td>0</td>\n",
       "      <td>0</td>\n",
       "      <td>8166</td>\n",
       "      <td>455</td>\n",
       "      <td>105</td>\n",
       "      <td>15385</td>\n",
       "      <td>15945</td>\n",
       "      <td>الرياض</td>\n",
       "    </tr>\n",
       "    <tr>\n",
       "      <th>3</th>\n",
       "      <td>ربيع ثانى</td>\n",
       "      <td>7821</td>\n",
       "      <td>266</td>\n",
       "      <td>79</td>\n",
       "      <td>8166</td>\n",
       "      <td>1368</td>\n",
       "      <td>1436</td>\n",
       "      <td>1094</td>\n",
       "      <td>1054</td>\n",
       "      <td>1085</td>\n",
       "      <td>...</td>\n",
       "      <td>1366</td>\n",
       "      <td>1992</td>\n",
       "      <td>0</td>\n",
       "      <td>0</td>\n",
       "      <td>8166</td>\n",
       "      <td>427</td>\n",
       "      <td>91</td>\n",
       "      <td>15181</td>\n",
       "      <td>15699</td>\n",
       "      <td>الرياض</td>\n",
       "    </tr>\n",
       "    <tr>\n",
       "      <th>4</th>\n",
       "      <td>جمادى أول</td>\n",
       "      <td>7923</td>\n",
       "      <td>237</td>\n",
       "      <td>81</td>\n",
       "      <td>8241</td>\n",
       "      <td>1410</td>\n",
       "      <td>1298</td>\n",
       "      <td>1014</td>\n",
       "      <td>1088</td>\n",
       "      <td>1110</td>\n",
       "      <td>...</td>\n",
       "      <td>1426</td>\n",
       "      <td>2228</td>\n",
       "      <td>0</td>\n",
       "      <td>0</td>\n",
       "      <td>8241</td>\n",
       "      <td>358</td>\n",
       "      <td>96</td>\n",
       "      <td>15437</td>\n",
       "      <td>15891</td>\n",
       "      <td>الرياض</td>\n",
       "    </tr>\n",
       "  </tbody>\n",
       "</table></div>"
      ],
      "text/plain": [
       "       الشهر حادث تلفيات حادث اصابات حادث وفيات  مجموع عدد الحوادث السبت  \\\n",
       "0       محرم        5047         277         75               5399   919   \n",
       "1        صفر        5941         255         78               6274  1427   \n",
       "2   ربيع أول        7808         271         87               8166  1209   \n",
       "3  ربيع ثانى        7821         266         79               8166  1368   \n",
       "4  جمادى أول        7923         237         81               8241  1410   \n",
       "\n",
       "  الا حد الاثنين الثلاثاء الا ربعاء  ... عدم التقيد بالاشارة السرعة الزائدة  \\\n",
       "0    781     625      814       702  ...                1208           1304   \n",
       "1   1407    1434      857       421  ...                 739            997   \n",
       "2   1435    1121     1122      1140  ...                1380           2444   \n",
       "3   1436    1094     1054      1085  ...                1366           1992   \n",
       "4   1298    1014     1088      1110  ...                1426           2228   \n",
       "\n",
       "  السائق تحت تأثير مخدر اخرى.1 مجموع الحوادث حسب سبب الحادث عدد المصابين  \\\n",
       "0                     0      0                         5399          393   \n",
       "1                     0      0                         6274          433   \n",
       "2                     0      0                         8166          455   \n",
       "3                     0      0                         8166          427   \n",
       "4                     0      0                         8241          358   \n",
       "\n",
       "  عدد المتوفين (القتلى)   سليم مجموع الأشخاص المشمولين بالحوادث  region  \n",
       "0                   100  12435                            12928  الرياض  \n",
       "1                    98   9110                             9641  الرياض  \n",
       "2                   105  15385                            15945  الرياض  \n",
       "3                    91  15181                            15699  الرياض  \n",
       "4                    96  15437                            15891  الرياض  \n",
       "\n",
       "[5 rows x 75 columns]"
      ]
     },
     "execution_count": 387,
     "metadata": {},
     "output_type": "execute_result"
    }
   ],
   "source": [
    "# data's headers are in arabic, I'm not going to use the data concerning the age groups only\n",
    "df.head()"
   ]
  },
  {
   "cell_type": "code",
   "execution_count": 388,
   "id": "506b7d87",
   "metadata": {},
   "outputs": [
    {
     "name": "stdout",
     "output_type": "stream",
     "text": [
      "<class 'pandas.core.frame.DataFrame'>\n",
      "RangeIndex: 226 entries, 0 to 225\n",
      "Data columns (total 75 columns):\n",
      " #   Column                                             Non-Null Count  Dtype  \n",
      "---  ------                                             --------------  -----  \n",
      " 0   الشهر                                              222 non-null    object \n",
      " 1   حادث تلفيات                                        223 non-null    object \n",
      " 2   حادث اصابات                                        222 non-null    object \n",
      " 3   حادث وفيات                                         222 non-null    object \n",
      " 4    مجموع عدد الحوادث                                 222 non-null    object \n",
      " 5   السبت                                              222 non-null    object \n",
      " 6   الا حد                                             222 non-null    object \n",
      " 7   الاثنين                                            222 non-null    object \n",
      " 8   الثلاثاء                                           222 non-null    object \n",
      " 9   الا ربعاء                                          222 non-null    object \n",
      " 10  الخميس                                             222 non-null    object \n",
      " 11  الجمعة                                             222 non-null    object \n",
      " 12  مجموع عدد الحوادث لجميع الأيام                     222 non-null    object \n",
      " 13  نهارا                                              222 non-null    object \n",
      " 14  ليلا                                               222 non-null    object \n",
      " 15  مجموع عدد الحوادث حسب الوقت                        222 non-null    object \n",
      " 16  داخل المدينة                                       222 non-null    object \n",
      " 17  خارج المدينة                                       222 non-null    object \n",
      " 18  مجموع عدد الحوادث حسب مكان الحادث                  222 non-null    object \n",
      " 19  صغيرة                                              222 non-null    object \n",
      " 20  جيب                                                222 non-null    object \n",
      " 21  حافلة                                              222 non-null    object \n",
      " 22  ونيت                                               222 non-null    object \n",
      " 23  نقل                                                222 non-null    object \n",
      " 24  وايت                                               222 non-null    object \n",
      " 25  اخرى                                               222 non-null    object \n",
      " 26  مجموع عدد السيارات المشتركة في الحوادث حسب الطراز  222 non-null    object \n",
      " 27  الشهر.1                                            13 non-null     object \n",
      " 28  -18                                                222 non-null    float64\n",
      " 29  18+                                                222 non-null    object \n",
      " 30  30+                                                222 non-null    object \n",
      " 31  40+                                                222 non-null    object \n",
      " 32  50+                                                222 non-null    object \n",
      " 33  المجموع حسب العمر                                  222 non-null    object \n",
      " 34  سعودي                                              222 non-null    object \n",
      " 35  اجنبي                                              222 non-null    object \n",
      " 36  المجموع حسب الجنسية                                222 non-null    object \n",
      " 37  متزوج                                              222 non-null    object \n",
      " 38  اعزب                                               222 non-null    object \n",
      " 39  المجموع حسب الحالة الاجتماعية                      222 non-null    object \n",
      " 40  متعلم                                              222 non-null    object \n",
      " 41  امى                                                222 non-null    object \n",
      " 42  المجموع حسب الحالة التعليمية                       222 non-null    object \n",
      " 43  نوع الرخصة خصوصى                                   222 non-null    object \n",
      " 44  نوع الرخصة عمومى                                   222 non-null    object \n",
      " 45  نوع الرخصة اليات                                   222 non-null    object \n",
      " 46  نوع الرخصة دراجة                                   222 non-null    object \n",
      " 47  السائق لا يحمل رخصة قيادة                          222 non-null    object \n",
      " 48  المجموع                                            222 non-null    object \n",
      " 49  السائق لا يحمل رخصة قيادة.1                        222 non-null    object \n",
      " 50  الرخصة سارية                                       222 non-null    object \n",
      " 51  الرخصة منتهية                                      222 non-null    object \n",
      " 52  المجموع.1                                          222 non-null    object \n",
      " 53  تصادم مع سيارة                                     222 non-null    object \n",
      " 54  تصادم مع جسم ثابت                                  220 non-null    object \n",
      " 55  دهس مشاة                                           222 non-null    object \n",
      " 56  دهس حيوان                                          221 non-null    object \n",
      " 57  حريق                                               222 non-null    object \n",
      " 58  انقلاب                                             222 non-null    object \n",
      " 59  خروج عن الطريق                                     222 non-null    object \n",
      " 60  أخرى                                               222 non-null    object \n",
      " 61  المجموع.2                                          222 non-null    object \n",
      " 62  توقف غير نظامى                                     222 non-null    object \n",
      " 63  دوران غير نظامى                                    222 non-null    object \n",
      " 64  تجاوز غير نظامى                                    222 non-null    object \n",
      " 65  عدم التقيد بالاشارة                                222 non-null    object \n",
      " 66  السرعة الزائدة                                     222 non-null    object \n",
      " 67  السائق تحت تأثير مخدر                              222 non-null    object \n",
      " 68  اخرى.1                                             222 non-null    object \n",
      " 69  مجموع الحوادث حسب سبب الحادث                       222 non-null    object \n",
      " 70  عدد المصابين                                       222 non-null    object \n",
      " 71  عدد المتوفين (القتلى)                              222 non-null    object \n",
      " 72  سليم                                               222 non-null    object \n",
      " 73  مجموع الأشخاص المشمولين بالحوادث                   222 non-null    object \n",
      " 74  region                                             226 non-null    object \n",
      "dtypes: float64(1), object(74)\n",
      "memory usage: 132.5+ KB\n"
     ]
    }
   ],
   "source": [
    "df.info()"
   ]
  },
  {
   "cell_type": "code",
   "execution_count": 389,
   "id": "cfa19c2c",
   "metadata": {},
   "outputs": [],
   "source": [
    "# rename some columns\n",
    "df.rename(columns={-18:\"18-\",\"الشهر\" :\"month\"},inplace=True)"
   ]
  },
  {
   "cell_type": "code",
   "execution_count": 390,
   "id": "36af8b59",
   "metadata": {
    "scrolled": false
   },
   "outputs": [],
   "source": [
    "# drop a second month column that is unusefull, is a duplicate and is almost empty\n",
    "df.drop(columns=[\"الشهر.1\"], axis=1, inplace=True)"
   ]
  },
  {
   "cell_type": "code",
   "execution_count": 391,
   "id": "06aa2c19",
   "metadata": {},
   "outputs": [
    {
     "data": {
      "text/plain": [
       "array(['محرم', 'صفر', 'ربيع أول', 'ربيع ثانى', 'جمادى أول', 'جمادى ثانى',\n",
       "       'رجب', 'شعبان', 'رمضان', 'شوال', 'ذى القعدة', 'ذى الحجة',\n",
       "       'المجموع', nan, 'الشهر', 'صـفـر'], dtype=object)"
      ]
     },
     "execution_count": 391,
     "metadata": {},
     "output_type": "execute_result"
    }
   ],
   "source": [
    "# display all unique months:\n",
    "df[\"month\"].unique()"
   ]
  },
  {
   "cell_type": "code",
   "execution_count": 392,
   "id": "2786a62a",
   "metadata": {},
   "outputs": [],
   "source": [
    "# unify month names, rename Safar month name\n",
    "df[\"month\"].replace({\"صـفـر\": \"صفر\"}, inplace=True)"
   ]
  },
  {
   "cell_type": "code",
   "execution_count": 393,
   "id": "a2edc7e3",
   "metadata": {},
   "outputs": [],
   "source": [
    "#values to delete\n",
    "values = [\"المجموع\", \"الشهر\"]\n",
    "\n",
    "#drop rows that contain any value in the list\n",
    "df = df[df.month.isin(values) == False]"
   ]
  },
  {
   "cell_type": "code",
   "execution_count": 394,
   "id": "76068b96",
   "metadata": {},
   "outputs": [
    {
     "data": {
      "text/plain": [
       "array(['محرم', 'صفر', 'ربيع أول', 'ربيع ثانى', 'جمادى أول', 'جمادى ثانى',\n",
       "       'رجب', 'شعبان', 'رمضان', 'شوال', 'ذى القعدة', 'ذى الحجة', nan],\n",
       "      dtype=object)"
      ]
     },
     "execution_count": 394,
     "metadata": {},
     "output_type": "execute_result"
    }
   ],
   "source": [
    "df.month.unique()"
   ]
  },
  {
   "cell_type": "code",
   "execution_count": 395,
   "id": "874c94a9",
   "metadata": {},
   "outputs": [
    {
     "data": {
      "text/plain": [
       "(208, 74)"
      ]
     },
     "execution_count": 395,
     "metadata": {},
     "output_type": "execute_result"
    }
   ],
   "source": [
    "df.shape"
   ]
  },
  {
   "cell_type": "code",
   "execution_count": 396,
   "id": "3f809ee8",
   "metadata": {},
   "outputs": [],
   "source": [
    "# renaming month names (in Hijri, islamic calender) to english spelled names\n",
    "\n",
    "df[\"month\"].replace({'محرم': 'Muharram',\n",
    " 'صفر': 'Safar',\n",
    " 'ربيع أول': 'Rabi al-awwal',\n",
    " 'ربيع ثانى': 'Rabi al-thani',\n",
    " 'جمادى أول': 'Jumada al-awwal',\n",
    " 'جمادى ثانى': 'Jumada al-thani',\n",
    " 'رجب': 'Rajab',\n",
    " 'شعبان': 'Shaban',\n",
    " 'رمضان': 'Ramadan',\n",
    " 'شوال': 'Shawwal',\n",
    " 'ذى القعدة': 'Dhul Qadah',\n",
    "'ذى الحجة': 'Dhul Hijjah'}, inplace=True)"
   ]
  },
  {
   "cell_type": "code",
   "execution_count": 397,
   "id": "d91e5980",
   "metadata": {},
   "outputs": [],
   "source": [
    "# replacing region names with english words\n",
    "\n",
    "df[\"region\"].replace({'الرياض': 'Riyadh',\n",
    " 'المدينه المنوره': 'Madinah',\n",
    " 'الشرقيه': 'Eastern',\n",
    " 'الحدود الشماليه': 'North',\n",
    " 'تبوك': 'Tabuk',\n",
    " 'الجوف': 'Jouf',\n",
    " 'حائل': 'Hail',\n",
    " 'نجران': 'Najran',\n",
    " 'القصيم': 'Qassim',\n",
    " 'الـــبـا حــه': 'Baha',\n",
    " 'عسير': 'Asseer',\n",
    "'جازان': 'Jazan',\n",
    " 'جده': 'Jedda',\n",
    " 'الطائف': 'Taif',\n",
    " 'العاصمه': 'Assema',\n",
    " 'القريات': 'Quraiat',\n",
    " 'المجموع الكلي لعام 1439': 'Total in 1939'\n",
    "}, inplace=True)"
   ]
  },
  {
   "cell_type": "code",
   "execution_count": 398,
   "id": "6cfe9fa7",
   "metadata": {},
   "outputs": [
    {
     "data": {
      "text/plain": [
       "(208, 74)"
      ]
     },
     "execution_count": 398,
     "metadata": {},
     "output_type": "execute_result"
    }
   ],
   "source": [
    "# print df numer of rows and columns\n",
    "df.shape"
   ]
  },
  {
   "cell_type": "code",
   "execution_count": 399,
   "id": "730bdbd2",
   "metadata": {},
   "outputs": [
    {
     "name": "stdout",
     "output_type": "stream",
     "text": [
      "<class 'pandas.core.frame.DataFrame'>\n",
      "Int64Index: 208 entries, 0 to 224\n",
      "Data columns (total 7 columns):\n",
      " #   Column  Non-Null Count  Dtype  \n",
      "---  ------  --------------  -----  \n",
      " 0   month   204 non-null    object \n",
      " 1   region  208 non-null    object \n",
      " 2   18-     204 non-null    float64\n",
      " 3   18+     204 non-null    object \n",
      " 4   30+     204 non-null    object \n",
      " 5   40+     204 non-null    object \n",
      " 6   50+     204 non-null    object \n",
      "dtypes: float64(1), object(6)\n",
      "memory usage: 13.0+ KB\n"
     ]
    }
   ],
   "source": [
    "# extract the age columns from the data & read their info\n",
    "\n",
    "age_df=df[[\"month\",\"region\",\"18-\",\"18+\",\"30+\",\"40+\",\"50+\"]]\n",
    "age_df.info()"
   ]
  },
  {
   "cell_type": "code",
   "execution_count": 400,
   "id": "293c8691",
   "metadata": {},
   "outputs": [
    {
     "data": {
      "text/plain": [
       "month     4\n",
       "region    0\n",
       "18-       4\n",
       "18+       4\n",
       "30+       4\n",
       "40+       4\n",
       "50+       4\n",
       "dtype: int64"
      ]
     },
     "execution_count": 400,
     "metadata": {},
     "output_type": "execute_result"
    }
   ],
   "source": [
    "# display and drop rows with nan values\n",
    "age_df.isna().sum()"
   ]
  },
  {
   "cell_type": "code",
   "execution_count": 401,
   "id": "7e3ccec9",
   "metadata": {},
   "outputs": [
    {
     "name": "stderr",
     "output_type": "stream",
     "text": [
      "C:\\Users\\fatsam\\AppData\\Local\\Temp/ipykernel_16668/3974699517.py:1: SettingWithCopyWarning:\n",
      "\n",
      "\n",
      "A value is trying to be set on a copy of a slice from a DataFrame\n",
      "\n",
      "See the caveats in the documentation: https://pandas.pydata.org/pandas-docs/stable/user_guide/indexing.html#returning-a-view-versus-a-copy\n",
      "\n"
     ]
    }
   ],
   "source": [
    "age_df.dropna(inplace=True)"
   ]
  },
  {
   "cell_type": "code",
   "execution_count": 402,
   "id": "d77cd7ba",
   "metadata": {},
   "outputs": [
    {
     "data": {
      "text/plain": [
       "month     0\n",
       "region    0\n",
       "18-       0\n",
       "18+       0\n",
       "30+       0\n",
       "40+       0\n",
       "50+       0\n",
       "dtype: int64"
      ]
     },
     "execution_count": 402,
     "metadata": {},
     "output_type": "execute_result"
    }
   ],
   "source": [
    "age_df.isna().sum()"
   ]
  },
  {
   "cell_type": "code",
   "execution_count": 403,
   "id": "f1ceae94",
   "metadata": {},
   "outputs": [
    {
     "name": "stderr",
     "output_type": "stream",
     "text": [
      "C:\\ProgramData\\Anaconda3\\lib\\site-packages\\pandas\\core\\frame.py:3191: SettingWithCopyWarning:\n",
      "\n",
      "\n",
      "A value is trying to be set on a copy of a slice from a DataFrame.\n",
      "Try using .loc[row_indexer,col_indexer] = value instead\n",
      "\n",
      "See the caveats in the documentation: https://pandas.pydata.org/pandas-docs/stable/user_guide/indexing.html#returning-a-view-versus-a-copy\n",
      "\n"
     ]
    }
   ],
   "source": [
    "# convert number columns to float dtype\n",
    "age_df[[\"18-\",\"18+\",\"30+\",\"40+\",\"50+\"]]= age_df[[\"18-\",\"18+\",\"30+\",\"40+\",\"50+\"]].astype('float')\n",
    "#age_df[[\"month\",\"region\"]]=age_df[[\"month\",\"region\"]].astype('str')"
   ]
  },
  {
   "cell_type": "code",
   "execution_count": 404,
   "id": "9158d181",
   "metadata": {},
   "outputs": [
    {
     "name": "stdout",
     "output_type": "stream",
     "text": [
      "<class 'pandas.core.frame.DataFrame'>\n",
      "Int64Index: 204 entries, 0 to 224\n",
      "Data columns (total 7 columns):\n",
      " #   Column  Non-Null Count  Dtype  \n",
      "---  ------  --------------  -----  \n",
      " 0   month   204 non-null    object \n",
      " 1   region  204 non-null    object \n",
      " 2   18-     204 non-null    float64\n",
      " 3   18+     204 non-null    float64\n",
      " 4   30+     204 non-null    float64\n",
      " 5   40+     204 non-null    float64\n",
      " 6   50+     204 non-null    float64\n",
      "dtypes: float64(5), object(2)\n",
      "memory usage: 12.8+ KB\n"
     ]
    }
   ],
   "source": [
    "age_df.info()"
   ]
  },
  {
   "cell_type": "code",
   "execution_count": 405,
   "id": "44bbb96e",
   "metadata": {},
   "outputs": [
    {
     "data": {
      "text/plain": [
       "array(['Muharram', 'Safar', 'Rabi al-awwal', 'Rabi al-thani',\n",
       "       'Jumada al-awwal', 'Jumada al-thani', 'Rajab', 'Shaban', 'Ramadan',\n",
       "       'Shawwal', 'Dhul Qadah', 'Dhul Hijjah'], dtype=object)"
      ]
     },
     "execution_count": 405,
     "metadata": {},
     "output_type": "execute_result"
    }
   ],
   "source": [
    "# all months in month column\n",
    "age_df.month.unique()"
   ]
  },
  {
   "cell_type": "code",
   "execution_count": 406,
   "id": "b2cc5bdb",
   "metadata": {},
   "outputs": [
    {
     "data": {
      "text/plain": [
       "array(['Riyadh', 'Madinah', 'Eastern', 'North', 'Tabuk', 'Jouf', 'Hail',\n",
       "       'Najran', 'Qassim', 'Baha', 'Asseer', 'Jazan', 'Jedda', 'Taif',\n",
       "       'Assema', 'Quraiat', 'Total in 1939'], dtype=object)"
      ]
     },
     "execution_count": 406,
     "metadata": {},
     "output_type": "execute_result"
    }
   ],
   "source": [
    "# region column unique values\n",
    "age_df.region.unique()"
   ]
  },
  {
   "cell_type": "code",
   "execution_count": 407,
   "id": "26cddbca",
   "metadata": {},
   "outputs": [
    {
     "name": "stderr",
     "output_type": "stream",
     "text": [
      "C:\\ProgramData\\Anaconda3\\lib\\site-packages\\pandas\\core\\frame.py:4308: SettingWithCopyWarning:\n",
      "\n",
      "\n",
      "A value is trying to be set on a copy of a slice from a DataFrame\n",
      "\n",
      "See the caveats in the documentation: https://pandas.pydata.org/pandas-docs/stable/user_guide/indexing.html#returning-a-view-versus-a-copy\n",
      "\n"
     ]
    }
   ],
   "source": [
    "#drop 'Total in 1939' rows\n",
    "age_df.drop(age_df.index[age_df['region'] == 'Total in 1939'], inplace=True)"
   ]
  },
  {
   "cell_type": "code",
   "execution_count": 408,
   "id": "6c0553ed",
   "metadata": {},
   "outputs": [
    {
     "data": {
      "text/plain": [
       "(192, 7)"
      ]
     },
     "execution_count": 408,
     "metadata": {},
     "output_type": "execute_result"
    }
   ],
   "source": [
    "age_df.shape"
   ]
  },
  {
   "cell_type": "code",
   "execution_count": 409,
   "id": "25ebf98e",
   "metadata": {},
   "outputs": [
    {
     "data": {
      "text/html": [
       "<div><div id=52d90167-dcb2-45da-b583-5c8b7609ab1a style=\"display:none; background-color:#9D6CFF; color:white; width:200px; height:30px; padding-left:5px; border-radius:4px; flex-direction:row; justify-content:space-around; align-items:center;\" onmouseover=\"this.style.backgroundColor='#BA9BF8'\" onmouseout=\"this.style.backgroundColor='#9D6CFF'\" onclick=\"window.commands?.execute('create-mitosheet-from-dataframe-output');\">See Full Dataframe in Mito</div> <script> if (window.commands.hasCommand('create-mitosheet-from-dataframe-output')) document.getElementById('52d90167-dcb2-45da-b583-5c8b7609ab1a').style.display = 'flex' </script> <table border=\"1\" class=\"dataframe\">\n",
       "  <thead>\n",
       "    <tr style=\"text-align: right;\">\n",
       "      <th></th>\n",
       "      <th>18-</th>\n",
       "      <th>18+</th>\n",
       "      <th>30+</th>\n",
       "      <th>40+</th>\n",
       "      <th>50+</th>\n",
       "    </tr>\n",
       "  </thead>\n",
       "  <tbody>\n",
       "    <tr>\n",
       "      <th>count</th>\n",
       "      <td>192.000000</td>\n",
       "      <td>192.000000</td>\n",
       "      <td>192.000000</td>\n",
       "      <td>192.000000</td>\n",
       "      <td>192.000000</td>\n",
       "    </tr>\n",
       "    <tr>\n",
       "      <th>mean</th>\n",
       "      <td>363.171875</td>\n",
       "      <td>1178.427083</td>\n",
       "      <td>929.578125</td>\n",
       "      <td>552.390625</td>\n",
       "      <td>280.432292</td>\n",
       "    </tr>\n",
       "    <tr>\n",
       "      <th>std</th>\n",
       "      <td>596.693644</td>\n",
       "      <td>1232.603432</td>\n",
       "      <td>1084.625949</td>\n",
       "      <td>718.911990</td>\n",
       "      <td>399.607564</td>\n",
       "    </tr>\n",
       "    <tr>\n",
       "      <th>min</th>\n",
       "      <td>2.000000</td>\n",
       "      <td>47.000000</td>\n",
       "      <td>11.000000</td>\n",
       "      <td>0.000000</td>\n",
       "      <td>4.000000</td>\n",
       "    </tr>\n",
       "    <tr>\n",
       "      <th>25%</th>\n",
       "      <td>61.000000</td>\n",
       "      <td>344.250000</td>\n",
       "      <td>161.500000</td>\n",
       "      <td>88.000000</td>\n",
       "      <td>51.000000</td>\n",
       "    </tr>\n",
       "    <tr>\n",
       "      <th>50%</th>\n",
       "      <td>152.500000</td>\n",
       "      <td>800.000000</td>\n",
       "      <td>513.000000</td>\n",
       "      <td>285.500000</td>\n",
       "      <td>96.000000</td>\n",
       "    </tr>\n",
       "    <tr>\n",
       "      <th>75%</th>\n",
       "      <td>389.250000</td>\n",
       "      <td>1526.250000</td>\n",
       "      <td>1132.500000</td>\n",
       "      <td>779.500000</td>\n",
       "      <td>294.250000</td>\n",
       "    </tr>\n",
       "    <tr>\n",
       "      <th>max</th>\n",
       "      <td>2916.000000</td>\n",
       "      <td>4880.000000</td>\n",
       "      <td>4920.000000</td>\n",
       "      <td>3841.000000</td>\n",
       "      <td>2015.000000</td>\n",
       "    </tr>\n",
       "  </tbody>\n",
       "</table></div>"
      ],
      "text/plain": [
       "               18-          18+          30+          40+          50+\n",
       "count   192.000000   192.000000   192.000000   192.000000   192.000000\n",
       "mean    363.171875  1178.427083   929.578125   552.390625   280.432292\n",
       "std     596.693644  1232.603432  1084.625949   718.911990   399.607564\n",
       "min       2.000000    47.000000    11.000000     0.000000     4.000000\n",
       "25%      61.000000   344.250000   161.500000    88.000000    51.000000\n",
       "50%     152.500000   800.000000   513.000000   285.500000    96.000000\n",
       "75%     389.250000  1526.250000  1132.500000   779.500000   294.250000\n",
       "max    2916.000000  4880.000000  4920.000000  3841.000000  2015.000000"
      ]
     },
     "execution_count": 409,
     "metadata": {},
     "output_type": "execute_result"
    }
   ],
   "source": [
    "# display data statistics\n",
    "age_df.describe()"
   ]
  },
  {
   "cell_type": "code",
   "execution_count": 410,
   "id": "59f93452",
   "metadata": {},
   "outputs": [
    {
     "data": {
      "text/html": [
       "<div><div id=524937f7-d046-4de4-824e-cd2ac4d2899d style=\"display:none; background-color:#9D6CFF; color:white; width:200px; height:30px; padding-left:5px; border-radius:4px; flex-direction:row; justify-content:space-around; align-items:center;\" onmouseover=\"this.style.backgroundColor='#BA9BF8'\" onmouseout=\"this.style.backgroundColor='#9D6CFF'\" onclick=\"window.commands?.execute('create-mitosheet-from-dataframe-output');\">See Full Dataframe in Mito</div> <script> if (window.commands.hasCommand('create-mitosheet-from-dataframe-output')) document.getElementById('524937f7-d046-4de4-824e-cd2ac4d2899d').style.display = 'flex' </script> <table border=\"1\" class=\"dataframe\">\n",
       "  <thead>\n",
       "    <tr style=\"text-align: right;\">\n",
       "      <th></th>\n",
       "      <th>month</th>\n",
       "      <th>region</th>\n",
       "      <th>18-</th>\n",
       "      <th>18+</th>\n",
       "      <th>30+</th>\n",
       "      <th>40+</th>\n",
       "      <th>50+</th>\n",
       "    </tr>\n",
       "  </thead>\n",
       "  <tbody>\n",
       "    <tr>\n",
       "      <th>26</th>\n",
       "      <td>Muharram</td>\n",
       "      <td>Eastern</td>\n",
       "      <td>1148.0</td>\n",
       "      <td>4601.0</td>\n",
       "      <td>3545.0</td>\n",
       "      <td>1357.0</td>\n",
       "      <td>448.0</td>\n",
       "    </tr>\n",
       "    <tr>\n",
       "      <th>27</th>\n",
       "      <td>Safar</td>\n",
       "      <td>Eastern</td>\n",
       "      <td>989.0</td>\n",
       "      <td>4652.0</td>\n",
       "      <td>3705.0</td>\n",
       "      <td>1310.0</td>\n",
       "      <td>518.0</td>\n",
       "    </tr>\n",
       "    <tr>\n",
       "      <th>28</th>\n",
       "      <td>Rabi al-awwal</td>\n",
       "      <td>Eastern</td>\n",
       "      <td>925.0</td>\n",
       "      <td>4586.0</td>\n",
       "      <td>3817.0</td>\n",
       "      <td>1332.0</td>\n",
       "      <td>529.0</td>\n",
       "    </tr>\n",
       "    <tr>\n",
       "      <th>29</th>\n",
       "      <td>Rabi al-thani</td>\n",
       "      <td>Eastern</td>\n",
       "      <td>948.0</td>\n",
       "      <td>4667.0</td>\n",
       "      <td>3901.0</td>\n",
       "      <td>1384.0</td>\n",
       "      <td>486.0</td>\n",
       "    </tr>\n",
       "    <tr>\n",
       "      <th>30</th>\n",
       "      <td>Jumada al-awwal</td>\n",
       "      <td>Eastern</td>\n",
       "      <td>852.0</td>\n",
       "      <td>4366.0</td>\n",
       "      <td>3805.0</td>\n",
       "      <td>1397.0</td>\n",
       "      <td>465.0</td>\n",
       "    </tr>\n",
       "    <tr>\n",
       "      <th>31</th>\n",
       "      <td>Jumada al-thani</td>\n",
       "      <td>Eastern</td>\n",
       "      <td>206.0</td>\n",
       "      <td>1773.0</td>\n",
       "      <td>1361.0</td>\n",
       "      <td>847.0</td>\n",
       "      <td>134.0</td>\n",
       "    </tr>\n",
       "    <tr>\n",
       "      <th>32</th>\n",
       "      <td>Rajab</td>\n",
       "      <td>Eastern</td>\n",
       "      <td>183.0</td>\n",
       "      <td>1657.0</td>\n",
       "      <td>1256.0</td>\n",
       "      <td>806.0</td>\n",
       "      <td>112.0</td>\n",
       "    </tr>\n",
       "    <tr>\n",
       "      <th>33</th>\n",
       "      <td>Shaban</td>\n",
       "      <td>Eastern</td>\n",
       "      <td>186.0</td>\n",
       "      <td>1612.0</td>\n",
       "      <td>1325.0</td>\n",
       "      <td>822.0</td>\n",
       "      <td>122.0</td>\n",
       "    </tr>\n",
       "    <tr>\n",
       "      <th>34</th>\n",
       "      <td>Ramadan</td>\n",
       "      <td>Eastern</td>\n",
       "      <td>163.0</td>\n",
       "      <td>1422.0</td>\n",
       "      <td>1264.0</td>\n",
       "      <td>706.0</td>\n",
       "      <td>361.0</td>\n",
       "    </tr>\n",
       "    <tr>\n",
       "      <th>35</th>\n",
       "      <td>Shawwal</td>\n",
       "      <td>Eastern</td>\n",
       "      <td>160.0</td>\n",
       "      <td>1599.0</td>\n",
       "      <td>1263.0</td>\n",
       "      <td>771.0</td>\n",
       "      <td>127.0</td>\n",
       "    </tr>\n",
       "    <tr>\n",
       "      <th>36</th>\n",
       "      <td>Dhul Qadah</td>\n",
       "      <td>Eastern</td>\n",
       "      <td>163.0</td>\n",
       "      <td>1542.0</td>\n",
       "      <td>1107.0</td>\n",
       "      <td>814.0</td>\n",
       "      <td>155.0</td>\n",
       "    </tr>\n",
       "    <tr>\n",
       "      <th>37</th>\n",
       "      <td>Dhul Hijjah</td>\n",
       "      <td>Eastern</td>\n",
       "      <td>109.0</td>\n",
       "      <td>1125.0</td>\n",
       "      <td>843.0</td>\n",
       "      <td>649.0</td>\n",
       "      <td>117.0</td>\n",
       "    </tr>\n",
       "  </tbody>\n",
       "</table></div>"
      ],
      "text/plain": [
       "              month   region     18-     18+     30+     40+    50+\n",
       "26         Muharram  Eastern  1148.0  4601.0  3545.0  1357.0  448.0\n",
       "27            Safar  Eastern   989.0  4652.0  3705.0  1310.0  518.0\n",
       "28    Rabi al-awwal  Eastern   925.0  4586.0  3817.0  1332.0  529.0\n",
       "29    Rabi al-thani  Eastern   948.0  4667.0  3901.0  1384.0  486.0\n",
       "30  Jumada al-awwal  Eastern   852.0  4366.0  3805.0  1397.0  465.0\n",
       "31  Jumada al-thani  Eastern   206.0  1773.0  1361.0   847.0  134.0\n",
       "32            Rajab  Eastern   183.0  1657.0  1256.0   806.0  112.0\n",
       "33           Shaban  Eastern   186.0  1612.0  1325.0   822.0  122.0\n",
       "34          Ramadan  Eastern   163.0  1422.0  1264.0   706.0  361.0\n",
       "35          Shawwal  Eastern   160.0  1599.0  1263.0   771.0  127.0\n",
       "36       Dhul Qadah  Eastern   163.0  1542.0  1107.0   814.0  155.0\n",
       "37      Dhul Hijjah  Eastern   109.0  1125.0   843.0   649.0  117.0"
      ]
     },
     "execution_count": 410,
     "metadata": {},
     "output_type": "execute_result"
    }
   ],
   "source": [
    "age_df.groupby([\"region\"]).get_group(\"Eastern\")"
   ]
  },
  {
   "cell_type": "code",
   "execution_count": 411,
   "id": "8d5bc8b3",
   "metadata": {},
   "outputs": [
    {
     "data": {
      "text/html": [
       "<div><div id=42ca8dad-c513-44a6-9dc5-38445ccc168b style=\"display:none; background-color:#9D6CFF; color:white; width:200px; height:30px; padding-left:5px; border-radius:4px; flex-direction:row; justify-content:space-around; align-items:center;\" onmouseover=\"this.style.backgroundColor='#BA9BF8'\" onmouseout=\"this.style.backgroundColor='#9D6CFF'\" onclick=\"window.commands?.execute('create-mitosheet-from-dataframe-output');\">See Full Dataframe in Mito</div> <script> if (window.commands.hasCommand('create-mitosheet-from-dataframe-output')) document.getElementById('42ca8dad-c513-44a6-9dc5-38445ccc168b').style.display = 'flex' </script> <table border=\"1\" class=\"dataframe\">\n",
       "  <thead>\n",
       "    <tr style=\"text-align: right;\">\n",
       "      <th></th>\n",
       "      <th>month</th>\n",
       "      <th>region</th>\n",
       "      <th>18-</th>\n",
       "      <th>18+</th>\n",
       "      <th>30+</th>\n",
       "      <th>40+</th>\n",
       "      <th>50+</th>\n",
       "    </tr>\n",
       "  </thead>\n",
       "  <tbody>\n",
       "    <tr>\n",
       "      <th>0</th>\n",
       "      <td>Muharram</td>\n",
       "      <td>Riyadh</td>\n",
       "      <td>2417.0</td>\n",
       "      <td>4583.0</td>\n",
       "      <td>4390.0</td>\n",
       "      <td>1264.0</td>\n",
       "      <td>274.0</td>\n",
       "    </tr>\n",
       "    <tr>\n",
       "      <th>1</th>\n",
       "      <td>Safar</td>\n",
       "      <td>Riyadh</td>\n",
       "      <td>1843.0</td>\n",
       "      <td>2281.0</td>\n",
       "      <td>2452.0</td>\n",
       "      <td>2053.0</td>\n",
       "      <td>1012.0</td>\n",
       "    </tr>\n",
       "    <tr>\n",
       "      <th>2</th>\n",
       "      <td>Rabi al-awwal</td>\n",
       "      <td>Riyadh</td>\n",
       "      <td>2722.0</td>\n",
       "      <td>3833.0</td>\n",
       "      <td>3697.0</td>\n",
       "      <td>3841.0</td>\n",
       "      <td>1852.0</td>\n",
       "    </tr>\n",
       "    <tr>\n",
       "      <th>3</th>\n",
       "      <td>Rabi al-thani</td>\n",
       "      <td>Riyadh</td>\n",
       "      <td>2855.0</td>\n",
       "      <td>3796.0</td>\n",
       "      <td>3541.0</td>\n",
       "      <td>3280.0</td>\n",
       "      <td>1709.0</td>\n",
       "    </tr>\n",
       "    <tr>\n",
       "      <th>4</th>\n",
       "      <td>Jumada al-awwal</td>\n",
       "      <td>Riyadh</td>\n",
       "      <td>2844.0</td>\n",
       "      <td>3862.0</td>\n",
       "      <td>3623.0</td>\n",
       "      <td>3841.0</td>\n",
       "      <td>1721.0</td>\n",
       "    </tr>\n",
       "    <tr>\n",
       "      <th>5</th>\n",
       "      <td>Jumada al-thani</td>\n",
       "      <td>Riyadh</td>\n",
       "      <td>2386.0</td>\n",
       "      <td>3864.0</td>\n",
       "      <td>3129.0</td>\n",
       "      <td>3285.0</td>\n",
       "      <td>1215.0</td>\n",
       "    </tr>\n",
       "    <tr>\n",
       "      <th>6</th>\n",
       "      <td>Rajab</td>\n",
       "      <td>Riyadh</td>\n",
       "      <td>2916.0</td>\n",
       "      <td>3605.0</td>\n",
       "      <td>3411.0</td>\n",
       "      <td>3629.0</td>\n",
       "      <td>1185.0</td>\n",
       "    </tr>\n",
       "    <tr>\n",
       "      <th>7</th>\n",
       "      <td>Shaban</td>\n",
       "      <td>Riyadh</td>\n",
       "      <td>2791.0</td>\n",
       "      <td>4633.0</td>\n",
       "      <td>4920.0</td>\n",
       "      <td>1933.0</td>\n",
       "      <td>641.0</td>\n",
       "    </tr>\n",
       "    <tr>\n",
       "      <th>8</th>\n",
       "      <td>Ramadan</td>\n",
       "      <td>Riyadh</td>\n",
       "      <td>2405.0</td>\n",
       "      <td>3791.0</td>\n",
       "      <td>3112.0</td>\n",
       "      <td>2150.0</td>\n",
       "      <td>1301.0</td>\n",
       "    </tr>\n",
       "    <tr>\n",
       "      <th>9</th>\n",
       "      <td>Shawwal</td>\n",
       "      <td>Riyadh</td>\n",
       "      <td>1914.0</td>\n",
       "      <td>2259.0</td>\n",
       "      <td>2371.0</td>\n",
       "      <td>1991.0</td>\n",
       "      <td>1882.0</td>\n",
       "    </tr>\n",
       "    <tr>\n",
       "      <th>10</th>\n",
       "      <td>Dhul Qadah</td>\n",
       "      <td>Riyadh</td>\n",
       "      <td>2311.0</td>\n",
       "      <td>3536.0</td>\n",
       "      <td>3240.0</td>\n",
       "      <td>2176.0</td>\n",
       "      <td>1382.0</td>\n",
       "    </tr>\n",
       "    <tr>\n",
       "      <th>11</th>\n",
       "      <td>Dhul Hijjah</td>\n",
       "      <td>Riyadh</td>\n",
       "      <td>2429.0</td>\n",
       "      <td>3601.0</td>\n",
       "      <td>3460.0</td>\n",
       "      <td>2199.0</td>\n",
       "      <td>2015.0</td>\n",
       "    </tr>\n",
       "  </tbody>\n",
       "</table></div>"
      ],
      "text/plain": [
       "              month  region     18-     18+     30+     40+     50+\n",
       "0          Muharram  Riyadh  2417.0  4583.0  4390.0  1264.0   274.0\n",
       "1             Safar  Riyadh  1843.0  2281.0  2452.0  2053.0  1012.0\n",
       "2     Rabi al-awwal  Riyadh  2722.0  3833.0  3697.0  3841.0  1852.0\n",
       "3     Rabi al-thani  Riyadh  2855.0  3796.0  3541.0  3280.0  1709.0\n",
       "4   Jumada al-awwal  Riyadh  2844.0  3862.0  3623.0  3841.0  1721.0\n",
       "5   Jumada al-thani  Riyadh  2386.0  3864.0  3129.0  3285.0  1215.0\n",
       "6             Rajab  Riyadh  2916.0  3605.0  3411.0  3629.0  1185.0\n",
       "7            Shaban  Riyadh  2791.0  4633.0  4920.0  1933.0   641.0\n",
       "8           Ramadan  Riyadh  2405.0  3791.0  3112.0  2150.0  1301.0\n",
       "9           Shawwal  Riyadh  1914.0  2259.0  2371.0  1991.0  1882.0\n",
       "10       Dhul Qadah  Riyadh  2311.0  3536.0  3240.0  2176.0  1382.0\n",
       "11      Dhul Hijjah  Riyadh  2429.0  3601.0  3460.0  2199.0  2015.0"
      ]
     },
     "execution_count": 411,
     "metadata": {},
     "output_type": "execute_result"
    }
   ],
   "source": [
    "age_df.groupby([\"region\"]).get_group(\"Riyadh\")"
   ]
  },
  {
   "cell_type": "markdown",
   "id": "812b9d77",
   "metadata": {},
   "source": [
    "## Total percentage of accidents where kids are involved per month in 1439 H"
   ]
  },
  {
   "cell_type": "code",
   "execution_count": 412,
   "id": "ac85639d",
   "metadata": {},
   "outputs": [
    {
     "name": "stderr",
     "output_type": "stream",
     "text": [
      "C:\\Users\\fatsam\\AppData\\Local\\Temp/ipykernel_16668/2161636200.py:3: SettingWithCopyWarning:\n",
      "\n",
      "\n",
      "A value is trying to be set on a copy of a slice from a DataFrame.\n",
      "Try using .loc[row_indexer,col_indexer] = value instead\n",
      "\n",
      "See the caveats in the documentation: https://pandas.pydata.org/pandas-docs/stable/user_guide/indexing.html#returning-a-view-versus-a-copy\n",
      "\n"
     ]
    }
   ],
   "source": [
    "# add a column for Total accidents of all age groups\n",
    "\n",
    "age_df['Total']= age_df.iloc[:, -5:-1].sum(axis=1)"
   ]
  },
  {
   "cell_type": "code",
   "execution_count": 413,
   "id": "68fe7dfe",
   "metadata": {},
   "outputs": [
    {
     "data": {
      "text/html": [
       "<div><div id=3692429c-a708-4ed2-bef8-86d24c4d6421 style=\"display:none; background-color:#9D6CFF; color:white; width:200px; height:30px; padding-left:5px; border-radius:4px; flex-direction:row; justify-content:space-around; align-items:center;\" onmouseover=\"this.style.backgroundColor='#BA9BF8'\" onmouseout=\"this.style.backgroundColor='#9D6CFF'\" onclick=\"window.commands?.execute('create-mitosheet-from-dataframe-output');\">See Full Dataframe in Mito</div> <script> if (window.commands.hasCommand('create-mitosheet-from-dataframe-output')) document.getElementById('3692429c-a708-4ed2-bef8-86d24c4d6421').style.display = 'flex' </script> <table border=\"1\" class=\"dataframe\">\n",
       "  <thead>\n",
       "    <tr style=\"text-align: right;\">\n",
       "      <th></th>\n",
       "      <th>month</th>\n",
       "      <th>region</th>\n",
       "      <th>18-</th>\n",
       "      <th>18+</th>\n",
       "      <th>30+</th>\n",
       "      <th>40+</th>\n",
       "      <th>50+</th>\n",
       "      <th>Total</th>\n",
       "    </tr>\n",
       "  </thead>\n",
       "  <tbody>\n",
       "    <tr>\n",
       "      <th>0</th>\n",
       "      <td>Muharram</td>\n",
       "      <td>Riyadh</td>\n",
       "      <td>2417.0</td>\n",
       "      <td>4583.0</td>\n",
       "      <td>4390.0</td>\n",
       "      <td>1264.0</td>\n",
       "      <td>274.0</td>\n",
       "      <td>12654.0</td>\n",
       "    </tr>\n",
       "    <tr>\n",
       "      <th>1</th>\n",
       "      <td>Safar</td>\n",
       "      <td>Riyadh</td>\n",
       "      <td>1843.0</td>\n",
       "      <td>2281.0</td>\n",
       "      <td>2452.0</td>\n",
       "      <td>2053.0</td>\n",
       "      <td>1012.0</td>\n",
       "      <td>8629.0</td>\n",
       "    </tr>\n",
       "    <tr>\n",
       "      <th>2</th>\n",
       "      <td>Rabi al-awwal</td>\n",
       "      <td>Riyadh</td>\n",
       "      <td>2722.0</td>\n",
       "      <td>3833.0</td>\n",
       "      <td>3697.0</td>\n",
       "      <td>3841.0</td>\n",
       "      <td>1852.0</td>\n",
       "      <td>14093.0</td>\n",
       "    </tr>\n",
       "    <tr>\n",
       "      <th>3</th>\n",
       "      <td>Rabi al-thani</td>\n",
       "      <td>Riyadh</td>\n",
       "      <td>2855.0</td>\n",
       "      <td>3796.0</td>\n",
       "      <td>3541.0</td>\n",
       "      <td>3280.0</td>\n",
       "      <td>1709.0</td>\n",
       "      <td>13472.0</td>\n",
       "    </tr>\n",
       "    <tr>\n",
       "      <th>4</th>\n",
       "      <td>Jumada al-awwal</td>\n",
       "      <td>Riyadh</td>\n",
       "      <td>2844.0</td>\n",
       "      <td>3862.0</td>\n",
       "      <td>3623.0</td>\n",
       "      <td>3841.0</td>\n",
       "      <td>1721.0</td>\n",
       "      <td>14170.0</td>\n",
       "    </tr>\n",
       "  </tbody>\n",
       "</table></div>"
      ],
      "text/plain": [
       "             month  region     18-     18+     30+     40+     50+    Total\n",
       "0         Muharram  Riyadh  2417.0  4583.0  4390.0  1264.0   274.0  12654.0\n",
       "1            Safar  Riyadh  1843.0  2281.0  2452.0  2053.0  1012.0   8629.0\n",
       "2    Rabi al-awwal  Riyadh  2722.0  3833.0  3697.0  3841.0  1852.0  14093.0\n",
       "3    Rabi al-thani  Riyadh  2855.0  3796.0  3541.0  3280.0  1709.0  13472.0\n",
       "4  Jumada al-awwal  Riyadh  2844.0  3862.0  3623.0  3841.0  1721.0  14170.0"
      ]
     },
     "execution_count": 413,
     "metadata": {},
     "output_type": "execute_result"
    }
   ],
   "source": [
    "age_df.head()"
   ]
  },
  {
   "cell_type": "code",
   "execution_count": 415,
   "id": "da337a2f",
   "metadata": {
    "scrolled": true
   },
   "outputs": [
    {
     "data": {
      "image/png": "[encoded data removed]",
      "text/plain": [
       "<Figure size 1008x504 with 1 Axes>"
      ]
     },
     "metadata": {
      "needs_background": "light"
     },
     "output_type": "display_data"
    }
   ],
   "source": [
    "fig, ax = plt.subplots(figsize=(14,7))\n",
    "plt.xticks(fontsize=14, rotation=90)\n",
    "plt.yticks(fontsize=14)\n",
    "plt.ylabel('Percentage of Accidents %', fontsize=14)\n",
    "plt.xlabel('Hijri Month', fontsize=14)\n",
    "plt.title('Percentage of accidents for underage groups (18-) per Hijri month', fontsize=18)\n",
    "tot = age_df.groupby([\"month\"])['Total'].sum()\n",
    "ax = sns.lineplot(x=age_df[\"month\"].unique(), y=age_df.groupby([\"month\"])['18-'].sum()*100/(tot),\n",
    "                 )\n",
    "\n",
    "plt.show()"
   ]
  },
  {
   "cell_type": "markdown",
   "id": "e561fc3c",
   "metadata": {},
   "source": [
    "## Total number of accidents in Eastern and Riyadh regions for all age groups during 1439 H"
   ]
  },
  {
   "cell_type": "code",
   "execution_count": 416,
   "id": "99db166d",
   "metadata": {},
   "outputs": [
    {
     "data": {
      "text/plain": [
       "Text(0.5, 0, 'Month in Hijri')"
      ]
     },
     "execution_count": 416,
     "metadata": {},
     "output_type": "execute_result"
    },
    {
     "data": {
      "image/png": "[encoded data removed]",
      "text/plain": [
       "<Figure size 1008x288 with 1 Axes>"
      ]
     },
     "metadata": {
      "needs_background": "light"
     },
     "output_type": "display_data"
    }
   ],
   "source": [
    "fig, axs = plt.subplots(figsize=(14, 4))\n",
    "age_df_eastern = age_df.drop('Total', axis=1)\n",
    "age_df_eastern.groupby(['region']).get_group(\"Eastern\").plot.bar(ax=axs,x=\"month\")\n",
    "axs.set_title(\"Total number of accidents in Eastern Province for age groups during 1439 H\")\n",
    "axs.set_ylabel(\"Number of accidents\")\n",
    "axs.set_xlabel(\"Month in Hijri\")"
   ]
  },
  {
   "cell_type": "code",
   "execution_count": 417,
   "id": "97cba57c",
   "metadata": {},
   "outputs": [
    {
     "data": {
      "text/plain": [
       "Text(0.5, 0, 'Month in Hijri')"
      ]
     },
     "execution_count": 417,
     "metadata": {},
     "output_type": "execute_result"
    },
    {
     "data": {
      "image/png": "[encoded data removed]",
      "text/plain": [
       "<Figure size 1008x288 with 1 Axes>"
      ]
     },
     "metadata": {
      "needs_background": "light"
     },
     "output_type": "display_data"
    }
   ],
   "source": [
    "fig, axs = plt.subplots(figsize=(14, 4))\n",
    "age_df_riyadh = age_df.drop('Total', axis=1)\n",
    "age_df_riyadh.groupby(['region']).get_group(\"Riyadh\").plot.bar(ax=axs,x=\"month\")\n",
    "axs.set_title(\"Total number of accidents in Riyadh for age groups during 1439 H\")\n",
    "axs.set_ylabel(\"Number of accidents\")\n",
    "axs.set_xlabel(\"Month in Hijri\")"
   ]
  },
  {
   "cell_type": "code",
   "execution_count": 418,
   "id": "75cf9a7e",
   "metadata": {},
   "outputs": [
    {
     "data": {
      "text/plain": [
       "Text(0.5, 0, 'Month in Hijri')"
      ]
     },
     "execution_count": 418,
     "metadata": {},
     "output_type": "execute_result"
    },
    {
     "data": {
      "image/png": "[encoded data removed]",
      "text/plain": [
       "<Figure size 1008x288 with 1 Axes>"
      ]
     },
     "metadata": {
      "needs_background": "light"
     },
     "output_type": "display_data"
    }
   ],
   "source": [
    "fig, axs = plt.subplots(figsize=(14, 4))\n",
    "age_df_jedda = age_df.drop('Total', axis=1)\n",
    "age_df_jedda.groupby(['region']).get_group(\"Jedda\").plot.bar(ax=axs,x=\"month\")\n",
    "axs.set_title(\"Total number of accidents in Jedda for age groups during 1439 H\")\n",
    "axs.set_ylabel(\"Number of accidents\")\n",
    "axs.set_xlabel(\"Month in Hijri\")"
   ]
  },
  {
   "cell_type": "code",
   "execution_count": 419,
   "id": "32b93c95",
   "metadata": {},
   "outputs": [],
   "source": [
    "riyadh_underage = age_df_riyadh.groupby(['region']).get_group(\"Riyadh\")[\"18-\"]*100/age_df.groupby(['region']).get_group(\"Riyadh\")[\"Total\"]\n",
    "eastern_underage = age_df_eastern.groupby(['region']).get_group(\"Eastern\")[\"18-\"]*100/age_df.groupby(['region']).get_group(\"Eastern\")[\"Total\"]\n",
    "jedda_underage = age_df_eastern.groupby(['region']).get_group(\"Jedda\")[\"18-\"]*100/age_df.groupby(['region']).get_group(\"Jedda\")[\"Total\"]\n"
   ]
  },
  {
   "cell_type": "code",
   "execution_count": 420,
   "id": "83612128",
   "metadata": {},
   "outputs": [
    {
     "data": {
      "application/vnd.plotly.v1+json": {
       "config": {
        "plotlyServerURL": "https://plot.ly"
       },
       "data": [
        {
         "hovertemplate": "variable=Riyadh<br>Month in Hijri=%{x}<br>Percentage of kids in accidents=%{y}<extra></extra>",
         "legendgroup": "Riyadh",
         "line": {
          "color": "#636efa",
          "dash": "solid"
         },
         "marker": {
          "symbol": "circle"
         },
         "mode": "lines",
         "name": "Riyadh",
         "orientation": "v",
         "showlegend": true,
         "type": "scatter",
         "x": [
          "Muharram",
          "Safar",
          "Rabi al-awwal",
          "Rabi al-thani",
          "Jumada al-awwal",
          "Jumada al-thani",
          "Rajab",
          "Shaban",
          "Ramadan",
          "Shawwal",
          "Dhul Qadah",
          "Dhul Hijjah"
         ],
         "xaxis": "x",
         "y": [
          19.100679626995415,
          21.358210684899756,
          19.314553324345418,
          21.192102137767222,
          20.070571630204658,
          18.840808591282375,
          21.50283902367082,
          19.548924844154936,
          20.98970151858963,
          22.42530755711775,
          20.51851194175619,
          20.780220720335357
         ],
         "yaxis": "y"
        },
        {
         "hovertemplate": "variable=Jedda<br>Month in Hijri=%{x}<br>Percentage of kids in accidents=%{y}<extra></extra>",
         "legendgroup": "Jedda",
         "line": {
          "color": "#EF553B",
          "dash": "solid"
         },
         "marker": {
          "symbol": "circle"
         },
         "mode": "lines",
         "name": "Jedda",
         "orientation": "v",
         "showlegend": true,
         "type": "scatter",
         "x": [
          "Muharram",
          "Safar",
          "Rabi al-awwal",
          "Rabi al-thani",
          "Jumada al-awwal",
          "Jumada al-thani",
          "Rajab",
          "Shaban",
          "Ramadan",
          "Shawwal",
          "Dhul Qadah",
          "Dhul Hijjah"
         ],
         "xaxis": "x",
         "y": [
          8.119317275482533,
          7.7708978328173375,
          7.693569553805775,
          9.498454139470972,
          11.217407615831926,
          9.595542715641766,
          7.955203707279398,
          10.640934844192634,
          9.900183336728459,
          11.259676284306826,
          10.253411306042885,
          11.922981979758084
         ],
         "yaxis": "y"
        },
        {
         "hovertemplate": "variable=Eastern<br>Month in Hijri=%{x}<br>Percentage of kids in accidents=%{y}<extra></extra>",
         "legendgroup": "Eastern",
         "line": {
          "color": "#00cc96",
          "dash": "solid"
         },
         "marker": {
          "symbol": "circle"
         },
         "mode": "lines",
         "name": "Eastern",
         "orientation": "v",
         "showlegend": true,
         "type": "scatter",
         "x": [
          "Muharram",
          "Safar",
          "Rabi al-awwal",
          "Rabi al-thani",
          "Jumada al-awwal",
          "Jumada al-thani",
          "Rajab",
          "Shaban",
          "Ramadan",
          "Shawwal",
          "Dhul Qadah",
          "Dhul Hijjah"
         ],
         "xaxis": "x",
         "y": [
          10.778330673176228,
          9.281156156156156,
          8.677298311444654,
          8.697247706422019,
          8.17658349328215,
          4.919990446620492,
          4.68990261404408,
          4.714828897338403,
          4.585091420534458,
          4.218296862641709,
          4.495311638168781,
          3.9985326485693324
         ],
         "yaxis": "y"
        }
       ],
       "layout": {
        "legend": {
         "title": {
          "text": "Regions"
         },
         "tracegroupgap": 0
        },
        "template": {
         "data": {
          "bar": [
           {
            "error_x": {
             "color": "#2a3f5f"
            },
            "error_y": {
             "color": "#2a3f5f"
            },
            "marker": {
             "line": {
              "color": "#E5ECF6",
              "width": 0.5
             },
             "pattern": {
              "fillmode": "overlay",
              "size": 10,
              "solidity": 0.2
             }
            },
            "type": "bar"
           }
          ],
          "barpolar": [
           {
            "marker": {
             "line": {
              "color": "#E5ECF6",
              "width": 0.5
             },
             "pattern": {
              "fillmode": "overlay",
              "size": 10,
              "solidity": 0.2
             }
            },
            "type": "barpolar"
           }
          ],
          "carpet": [
           {
            "aaxis": {
             "endlinecolor": "#2a3f5f",
             "gridcolor": "white",
             "linecolor": "white",
             "minorgridcolor": "white",
             "startlinecolor": "#2a3f5f"
            },
            "baxis": {
             "endlinecolor": "#2a3f5f",
             "gridcolor": "white",
             "linecolor": "white",
             "minorgridcolor": "white",
             "startlinecolor": "#2a3f5f"
            },
            "type": "carpet"
           }
          ],
          "choropleth": [
           {
            "colorbar": {
             "outlinewidth": 0,
             "ticks": ""
            },
            "type": "choropleth"
           }
          ],
          "contour": [
           {
            "colorbar": {
             "outlinewidth": 0,
             "ticks": ""
            },
            "colorscale": [
             [
              0,
              "#0d0887"
             ],
             [
              0.1111111111111111,
              "#46039f"
             ],
             [
              0.2222222222222222,
              "#7201a8"
             ],
             [
              0.3333333333333333,
              "#9c179e"
             ],
             [
              0.4444444444444444,
              "#bd3786"
             ],
             [
              0.5555555555555556,
              "#d8576b"
             ],
             [
              0.6666666666666666,
              "#ed7953"
             ],
             [
              0.7777777777777778,
              "#fb9f3a"
             ],
             [
              0.8888888888888888,
              "#fdca26"
             ],
             [
              1,
              "#f0f921"
             ]
            ],
            "type": "contour"
           }
          ],
          "contourcarpet": [
           {
            "colorbar": {
             "outlinewidth": 0,
             "ticks": ""
            },
            "type": "contourcarpet"
           }
          ],
          "heatmap": [
           {
            "colorbar": {
             "outlinewidth": 0,
             "ticks": ""
            },
            "colorscale": [
             [
              0,
              "#0d0887"
             ],
             [
              0.1111111111111111,
              "#46039f"
             ],
             [
              0.2222222222222222,
              "#7201a8"
             ],
             [
              0.3333333333333333,
              "#9c179e"
             ],
             [
              0.4444444444444444,
              "#bd3786"
             ],
             [
              0.5555555555555556,
              "#d8576b"
             ],
             [
              0.6666666666666666,
              "#ed7953"
             ],
             [
              0.7777777777777778,
              "#fb9f3a"
             ],
             [
              0.8888888888888888,
              "#fdca26"
             ],
             [
              1,
              "#f0f921"
             ]
            ],
            "type": "heatmap"
           }
          ],
          "heatmapgl": [
           {
            "colorbar": {
             "outlinewidth": 0,
             "ticks": ""
            },
            "colorscale": [
             [
              0,
              "#0d0887"
             ],
             [
              0.1111111111111111,
              "#46039f"
             ],
             [
              0.2222222222222222,
              "#7201a8"
             ],
             [
              0.3333333333333333,
              "#9c179e"
             ],
             [
              0.4444444444444444,
              "#bd3786"
             ],
             [
              0.5555555555555556,
              "#d8576b"
             ],
             [
              0.6666666666666666,
              "#ed7953"
             ],
             [
              0.7777777777777778,
              "#fb9f3a"
             ],
             [
              0.8888888888888888,
              "#fdca26"
             ],
             [
              1,
              "#f0f921"
             ]
            ],
            "type": "heatmapgl"
           }
          ],
          "histogram": [
           {
            "marker": {
             "pattern": {
              "fillmode": "overlay",
              "size": 10,
              "solidity": 0.2
             }
            },
            "type": "histogram"
           }
          ],
          "histogram2d": [
           {
            "colorbar": {
             "outlinewidth": 0,
             "ticks": ""
            },
            "colorscale": [
             [
              0,
              "#0d0887"
             ],
             [
              0.1111111111111111,
              "#46039f"
             ],
             [
              0.2222222222222222,
              "#7201a8"
             ],
             [
              0.3333333333333333,
              "#9c179e"
             ],
             [
              0.4444444444444444,
              "#bd3786"
             ],
             [
              0.5555555555555556,
              "#d8576b"
             ],
             [
              0.6666666666666666,
              "#ed7953"
             ],
             [
              0.7777777777777778,
              "#fb9f3a"
             ],
             [
              0.8888888888888888,
              "#fdca26"
             ],
             [
              1,
              "#f0f921"
             ]
            ],
            "type": "histogram2d"
           }
          ],
          "histogram2dcontour": [
           {
            "colorbar": {
             "outlinewidth": 0,
             "ticks": ""
            },
            "colorscale": [
             [
              0,
              "#0d0887"
             ],
             [
              0.1111111111111111,
              "#46039f"
             ],
             [
              0.2222222222222222,
              "#7201a8"
             ],
             [
              0.3333333333333333,
              "#9c179e"
             ],
             [
              0.4444444444444444,
              "#bd3786"
             ],
             [
              0.5555555555555556,
              "#d8576b"
             ],
             [
              0.6666666666666666,
              "#ed7953"
             ],
             [
              0.7777777777777778,
              "#fb9f3a"
             ],
             [
              0.8888888888888888,
              "#fdca26"
             ],
             [
              1,
              "#f0f921"
             ]
            ],
            "type": "histogram2dcontour"
           }
          ],
          "mesh3d": [
           {
            "colorbar": {
             "outlinewidth": 0,
             "ticks": ""
            },
            "type": "mesh3d"
           }
          ],
          "parcoords": [
           {
            "line": {
             "colorbar": {
              "outlinewidth": 0,
              "ticks": ""
             }
            },
            "type": "parcoords"
           }
          ],
          "pie": [
           {
            "automargin": true,
            "type": "pie"
           }
          ],
          "scatter": [
           {
            "marker": {
             "colorbar": {
              "outlinewidth": 0,
              "ticks": ""
             }
            },
            "type": "scatter"
           }
          ],
          "scatter3d": [
           {
            "line": {
             "colorbar": {
              "outlinewidth": 0,
              "ticks": ""
             }
            },
            "marker": {
             "colorbar": {
              "outlinewidth": 0,
              "ticks": ""
             }
            },
            "type": "scatter3d"
           }
          ],
          "scattercarpet": [
           {
            "marker": {
             "colorbar": {
              "outlinewidth": 0,
              "ticks": ""
             }
            },
            "type": "scattercarpet"
           }
          ],
          "scattergeo": [
           {
            "marker": {
             "colorbar": {
              "outlinewidth": 0,
              "ticks": ""
             }
            },
            "type": "scattergeo"
           }
          ],
          "scattergl": [
           {
            "marker": {
             "colorbar": {
              "outlinewidth": 0,
              "ticks": ""
             }
            },
            "type": "scattergl"
           }
          ],
          "scattermapbox": [
           {
            "marker": {
             "colorbar": {
              "outlinewidth": 0,
              "ticks": ""
             }
            },
            "type": "scattermapbox"
           }
          ],
          "scatterpolar": [
           {
            "marker": {
             "colorbar": {
              "outlinewidth": 0,
              "ticks": ""
             }
            },
            "type": "scatterpolar"
           }
          ],
          "scatterpolargl": [
           {
            "marker": {
             "colorbar": {
              "outlinewidth": 0,
              "ticks": ""
             }
            },
            "type": "scatterpolargl"
           }
          ],
          "scatterternary": [
           {
            "marker": {
             "colorbar": {
              "outlinewidth": 0,
              "ticks": ""
             }
            },
            "type": "scatterternary"
           }
          ],
          "surface": [
           {
            "colorbar": {
             "outlinewidth": 0,
             "ticks": ""
            },
            "colorscale": [
             [
              0,
              "#0d0887"
             ],
             [
              0.1111111111111111,
              "#46039f"
             ],
             [
              0.2222222222222222,
              "#7201a8"
             ],
             [
              0.3333333333333333,
              "#9c179e"
             ],
             [
              0.4444444444444444,
              "#bd3786"
             ],
             [
              0.5555555555555556,
              "#d8576b"
             ],
             [
              0.6666666666666666,
              "#ed7953"
             ],
             [
              0.7777777777777778,
              "#fb9f3a"
             ],
             [
              0.8888888888888888,
              "#fdca26"
             ],
             [
              1,
              "#f0f921"
             ]
            ],
            "type": "surface"
           }
          ],
          "table": [
           {
            "cells": {
             "fill": {
              "color": "#EBF0F8"
             },
             "line": {
              "color": "white"
             }
            },
            "header": {
             "fill": {
              "color": "#C8D4E3"
             },
             "line": {
              "color": "white"
             }
            },
            "type": "table"
           }
          ]
         },
         "layout": {
          "annotationdefaults": {
           "arrowcolor": "#2a3f5f",
           "arrowhead": 0,
           "arrowwidth": 1
          },
          "autotypenumbers": "strict",
          "coloraxis": {
           "colorbar": {
            "outlinewidth": 0,
            "ticks": ""
           }
          },
          "colorscale": {
           "diverging": [
            [
             0,
             "#8e0152"
            ],
            [
             0.1,
             "#c51b7d"
            ],
            [
             0.2,
             "#de77ae"
            ],
            [
             0.3,
             "#f1b6da"
            ],
            [
             0.4,
             "#fde0ef"
            ],
            [
             0.5,
             "#f7f7f7"
            ],
            [
             0.6,
             "#e6f5d0"
            ],
            [
             0.7,
             "#b8e186"
            ],
            [
             0.8,
             "#7fbc41"
            ],
            [
             0.9,
             "#4d9221"
            ],
            [
             1,
             "#276419"
            ]
           ],
           "sequential": [
            [
             0,
             "#0d0887"
            ],
            [
             0.1111111111111111,
             "#46039f"
            ],
            [
             0.2222222222222222,
             "#7201a8"
            ],
            [
             0.3333333333333333,
             "#9c179e"
            ],
            [
             0.4444444444444444,
             "#bd3786"
            ],
            [
             0.5555555555555556,
             "#d8576b"
            ],
            [
             0.6666666666666666,
             "#ed7953"
            ],
            [
             0.7777777777777778,
             "#fb9f3a"
            ],
            [
             0.8888888888888888,
             "#fdca26"
            ],
            [
             1,
             "#f0f921"
            ]
           ],
           "sequentialminus": [
            [
             0,
             "#0d0887"
            ],
            [
             0.1111111111111111,
             "#46039f"
            ],
            [
             0.2222222222222222,
             "#7201a8"
            ],
            [
             0.3333333333333333,
             "#9c179e"
            ],
            [
             0.4444444444444444,
             "#bd3786"
            ],
            [
             0.5555555555555556,
             "#d8576b"
            ],
            [
             0.6666666666666666,
             "#ed7953"
            ],
            [
             0.7777777777777778,
             "#fb9f3a"
            ],
            [
             0.8888888888888888,
             "#fdca26"
            ],
            [
             1,
             "#f0f921"
            ]
           ]
          },
          "colorway": [
           "#636efa",
           "#EF553B",
           "#00cc96",
           "#ab63fa",
           "#FFA15A",
           "#19d3f3",
           "#FF6692",
           "#B6E880",
           "#FF97FF",
           "#FECB52"
          ],
          "font": {
           "color": "#2a3f5f"
          },
          "geo": {
           "bgcolor": "white",
           "lakecolor": "white",
           "landcolor": "#E5ECF6",
           "showlakes": true,
           "showland": true,
           "subunitcolor": "white"
          },
          "hoverlabel": {
           "align": "left"
          },
          "hovermode": "closest",
          "mapbox": {
           "style": "light"
          },
          "paper_bgcolor": "white",
          "plot_bgcolor": "#E5ECF6",
          "polar": {
           "angularaxis": {
            "gridcolor": "white",
            "linecolor": "white",
            "ticks": ""
           },
           "bgcolor": "#E5ECF6",
           "radialaxis": {
            "gridcolor": "white",
            "linecolor": "white",
            "ticks": ""
           }
          },
          "scene": {
           "xaxis": {
            "backgroundcolor": "#E5ECF6",
            "gridcolor": "white",
            "gridwidth": 2,
            "linecolor": "white",
            "showbackground": true,
            "ticks": "",
            "zerolinecolor": "white"
           },
           "yaxis": {
            "backgroundcolor": "#E5ECF6",
            "gridcolor": "white",
            "gridwidth": 2,
            "linecolor": "white",
            "showbackground": true,
            "ticks": "",
            "zerolinecolor": "white"
           },
           "zaxis": {
            "backgroundcolor": "#E5ECF6",
            "gridcolor": "white",
            "gridwidth": 2,
            "linecolor": "white",
            "showbackground": true,
            "ticks": "",
            "zerolinecolor": "white"
           }
          },
          "shapedefaults": {
           "line": {
            "color": "#2a3f5f"
           }
          },
          "ternary": {
           "aaxis": {
            "gridcolor": "white",
            "linecolor": "white",
            "ticks": ""
           },
           "baxis": {
            "gridcolor": "white",
            "linecolor": "white",
            "ticks": ""
           },
           "bgcolor": "#E5ECF6",
           "caxis": {
            "gridcolor": "white",
            "linecolor": "white",
            "ticks": ""
           }
          },
          "title": {
           "x": 0.05
          },
          "xaxis": {
           "automargin": true,
           "gridcolor": "white",
           "linecolor": "white",
           "ticks": "",
           "title": {
            "standoff": 15
           },
           "zerolinecolor": "white",
           "zerolinewidth": 2
          },
          "yaxis": {
           "automargin": true,
           "gridcolor": "white",
           "linecolor": "white",
           "ticks": "",
           "title": {
            "standoff": 15
           },
           "zerolinecolor": "white",
           "zerolinewidth": 2
          }
         }
        },
        "title": {
         "text": "Kids involvement into traffic accidents in the biggest regions in KSA"
        },
        "xaxis": {
         "anchor": "y",
         "domain": [
          0,
          1
         ],
         "title": {
          "text": "Month in Hijri"
         }
        },
        "yaxis": {
         "anchor": "x",
         "domain": [
          0,
          1
         ],
         "title": {
          "text": "Percentage of kids in accidents"
         }
        }
       }
      },
      "text/html": [
       "<div>                            <div id=\"a9588c9d-585e-4cbe-aee0-cf1338fb56a8\" class=\"plotly-graph-div\" style=\"height:525px; width:100%;\"></div>            <script type=\"text/javascript\">                require([\"plotly\"], function(Plotly) {                    window.PLOTLYENV=window.PLOTLYENV || {};                                    if (document.getElementById(\"a9588c9d-585e-4cbe-aee0-cf1338fb56a8\")) {                    Plotly.newPlot(                        \"a9588c9d-585e-4cbe-aee0-cf1338fb56a8\",                        [{\"hovertemplate\":\"variable=Riyadh<br>Month in Hijri=%{x}<br>Percentage of kids in accidents=%{y}<extra></extra>\",\"legendgroup\":\"Riyadh\",\"line\":{\"color\":\"#636efa\",\"dash\":\"solid\"},\"marker\":{\"symbol\":\"circle\"},\"mode\":\"lines\",\"name\":\"Riyadh\",\"orientation\":\"v\",\"showlegend\":true,\"type\":\"scatter\",\"x\":[\"Muharram\",\"Safar\",\"Rabi al-awwal\",\"Rabi al-thani\",\"Jumada al-awwal\",\"Jumada al-thani\",\"Rajab\",\"Shaban\",\"Ramadan\",\"Shawwal\",\"Dhul Qadah\",\"Dhul Hijjah\"],\"xaxis\":\"x\",\"y\":[19.100679626995415,21.358210684899756,19.314553324345418,21.192102137767222,20.070571630204658,18.840808591282375,21.50283902367082,19.548924844154936,20.98970151858963,22.42530755711775,20.51851194175619,20.780220720335357],\"yaxis\":\"y\"},{\"hovertemplate\":\"variable=Jedda<br>Month in Hijri=%{x}<br>Percentage of kids in accidents=%{y}<extra></extra>\",\"legendgroup\":\"Jedda\",\"line\":{\"color\":\"#EF553B\",\"dash\":\"solid\"},\"marker\":{\"symbol\":\"circle\"},\"mode\":\"lines\",\"name\":\"Jedda\",\"orientation\":\"v\",\"showlegend\":true,\"type\":\"scatter\",\"x\":[\"Muharram\",\"Safar\",\"Rabi al-awwal\",\"Rabi al-thani\",\"Jumada al-awwal\",\"Jumada al-thani\",\"Rajab\",\"Shaban\",\"Ramadan\",\"Shawwal\",\"Dhul Qadah\",\"Dhul Hijjah\"],\"xaxis\":\"x\",\"y\":[8.119317275482533,7.7708978328173375,7.693569553805775,9.498454139470972,11.217407615831926,9.595542715641766,7.955203707279398,10.640934844192634,9.900183336728459,11.259676284306826,10.253411306042885,11.922981979758084],\"yaxis\":\"y\"},{\"hovertemplate\":\"variable=Eastern<br>Month in Hijri=%{x}<br>Percentage of kids in accidents=%{y}<extra></extra>\",\"legendgroup\":\"Eastern\",\"line\":{\"color\":\"#00cc96\",\"dash\":\"solid\"},\"marker\":{\"symbol\":\"circle\"},\"mode\":\"lines\",\"name\":\"Eastern\",\"orientation\":\"v\",\"showlegend\":true,\"type\":\"scatter\",\"x\":[\"Muharram\",\"Safar\",\"Rabi al-awwal\",\"Rabi al-thani\",\"Jumada al-awwal\",\"Jumada al-thani\",\"Rajab\",\"Shaban\",\"Ramadan\",\"Shawwal\",\"Dhul Qadah\",\"Dhul Hijjah\"],\"xaxis\":\"x\",\"y\":[10.778330673176228,9.281156156156156,8.677298311444654,8.697247706422019,8.17658349328215,4.919990446620492,4.68990261404408,4.714828897338403,4.585091420534458,4.218296862641709,4.495311638168781,3.9985326485693324],\"yaxis\":\"y\"}],                        {\"legend\":{\"title\":{\"text\":\"Regions\"},\"tracegroupgap\":0},\"template\":{\"data\":{\"bar\":[{\"error_x\":{\"color\":\"#2a3f5f\"},\"error_y\":{\"color\":\"#2a3f5f\"},\"marker\":{\"line\":{\"color\":\"#E5ECF6\",\"width\":0.5},\"pattern\":{\"fillmode\":\"overlay\",\"size\":10,\"solidity\":0.2}},\"type\":\"bar\"}],\"barpolar\":[{\"marker\":{\"line\":{\"color\":\"#E5ECF6\",\"width\":0.5},\"pattern\":{\"fillmode\":\"overlay\",\"size\":10,\"solidity\":0.2}},\"type\":\"barpolar\"}],\"carpet\":[{\"aaxis\":{\"endlinecolor\":\"#2a3f5f\",\"gridcolor\":\"white\",\"linecolor\":\"white\",\"minorgridcolor\":\"white\",\"startlinecolor\":\"#2a3f5f\"},\"baxis\":{\"endlinecolor\":\"#2a3f5f\",\"gridcolor\":\"white\",\"linecolor\":\"white\",\"minorgridcolor\":\"white\",\"startlinecolor\":\"#2a3f5f\"},\"type\":\"carpet\"}],\"choropleth\":[{\"colorbar\":{\"outlinewidth\":0,\"ticks\":\"\"},\"type\":\"choropleth\"}],\"contour\":[{\"colorbar\":{\"outlinewidth\":0,\"ticks\":\"\"},\"colorscale\":[[0.0,\"#0d0887\"],[0.1111111111111111,\"#46039f\"],[0.2222222222222222,\"#7201a8\"],[0.3333333333333333,\"#9c179e\"],[0.4444444444444444,\"#bd3786\"],[0.5555555555555556,\"#d8576b\"],[0.6666666666666666,\"#ed7953\"],[0.7777777777777778,\"#fb9f3a\"],[0.8888888888888888,\"#fdca26\"],[1.0,\"#f0f921\"]],\"type\":\"contour\"}],\"contourcarpet\":[{\"colorbar\":{\"outlinewidth\":0,\"ticks\":\"\"},\"type\":\"contourcarpet\"}],\"heatmap\":[{\"colorbar\":{\"outlinewidth\":0,\"ticks\":\"\"},\"colorscale\":[[0.0,\"#0d0887\"],[0.1111111111111111,\"#46039f\"],[0.2222222222222222,\"#7201a8\"],[0.3333333333333333,\"#9c179e\"],[0.4444444444444444,\"#bd3786\"],[0.5555555555555556,\"#d8576b\"],[0.6666666666666666,\"#ed7953\"],[0.7777777777777778,\"#fb9f3a\"],[0.8888888888888888,\"#fdca26\"],[1.0,\"#f0f921\"]],\"type\":\"heatmap\"}],\"heatmapgl\":[{\"colorbar\":{\"outlinewidth\":0,\"ticks\":\"\"},\"colorscale\":[[0.0,\"#0d0887\"],[0.1111111111111111,\"#46039f\"],[0.2222222222222222,\"#7201a8\"],[0.3333333333333333,\"#9c179e\"],[0.4444444444444444,\"#bd3786\"],[0.5555555555555556,\"#d8576b\"],[0.6666666666666666,\"#ed7953\"],[0.7777777777777778,\"#fb9f3a\"],[0.8888888888888888,\"#fdca26\"],[1.0,\"#f0f921\"]],\"type\":\"heatmapgl\"}],\"histogram\":[{\"marker\":{\"pattern\":{\"fillmode\":\"overlay\",\"size\":10,\"solidity\":0.2}},\"type\":\"histogram\"}],\"histogram2d\":[{\"colorbar\":{\"outlinewidth\":0,\"ticks\":\"\"},\"colorscale\":[[0.0,\"#0d0887\"],[0.1111111111111111,\"#46039f\"],[0.2222222222222222,\"#7201a8\"],[0.3333333333333333,\"#9c179e\"],[0.4444444444444444,\"#bd3786\"],[0.5555555555555556,\"#d8576b\"],[0.6666666666666666,\"#ed7953\"],[0.7777777777777778,\"#fb9f3a\"],[0.8888888888888888,\"#fdca26\"],[1.0,\"#f0f921\"]],\"type\":\"histogram2d\"}],\"histogram2dcontour\":[{\"colorbar\":{\"outlinewidth\":0,\"ticks\":\"\"},\"colorscale\":[[0.0,\"#0d0887\"],[0.1111111111111111,\"#46039f\"],[0.2222222222222222,\"#7201a8\"],[0.3333333333333333,\"#9c179e\"],[0.4444444444444444,\"#bd3786\"],[0.5555555555555556,\"#d8576b\"],[0.6666666666666666,\"#ed7953\"],[0.7777777777777778,\"#fb9f3a\"],[0.8888888888888888,\"#fdca26\"],[1.0,\"#f0f921\"]],\"type\":\"histogram2dcontour\"}],\"mesh3d\":[{\"colorbar\":{\"outlinewidth\":0,\"ticks\":\"\"},\"type\":\"mesh3d\"}],\"parcoords\":[{\"line\":{\"colorbar\":{\"outlinewidth\":0,\"ticks\":\"\"}},\"type\":\"parcoords\"}],\"pie\":[{\"automargin\":true,\"type\":\"pie\"}],\"scatter\":[{\"marker\":{\"colorbar\":{\"outlinewidth\":0,\"ticks\":\"\"}},\"type\":\"scatter\"}],\"scatter3d\":[{\"line\":{\"colorbar\":{\"outlinewidth\":0,\"ticks\":\"\"}},\"marker\":{\"colorbar\":{\"outlinewidth\":0,\"ticks\":\"\"}},\"type\":\"scatter3d\"}],\"scattercarpet\":[{\"marker\":{\"colorbar\":{\"outlinewidth\":0,\"ticks\":\"\"}},\"type\":\"scattercarpet\"}],\"scattergeo\":[{\"marker\":{\"colorbar\":{\"outlinewidth\":0,\"ticks\":\"\"}},\"type\":\"scattergeo\"}],\"scattergl\":[{\"marker\":{\"colorbar\":{\"outlinewidth\":0,\"ticks\":\"\"}},\"type\":\"scattergl\"}],\"scattermapbox\":[{\"marker\":{\"colorbar\":{\"outlinewidth\":0,\"ticks\":\"\"}},\"type\":\"scattermapbox\"}],\"scatterpolar\":[{\"marker\":{\"colorbar\":{\"outlinewidth\":0,\"ticks\":\"\"}},\"type\":\"scatterpolar\"}],\"scatterpolargl\":[{\"marker\":{\"colorbar\":{\"outlinewidth\":0,\"ticks\":\"\"}},\"type\":\"scatterpolargl\"}],\"scatterternary\":[{\"marker\":{\"colorbar\":{\"outlinewidth\":0,\"ticks\":\"\"}},\"type\":\"scatterternary\"}],\"surface\":[{\"colorbar\":{\"outlinewidth\":0,\"ticks\":\"\"},\"colorscale\":[[0.0,\"#0d0887\"],[0.1111111111111111,\"#46039f\"],[0.2222222222222222,\"#7201a8\"],[0.3333333333333333,\"#9c179e\"],[0.4444444444444444,\"#bd3786\"],[0.5555555555555556,\"#d8576b\"],[0.6666666666666666,\"#ed7953\"],[0.7777777777777778,\"#fb9f3a\"],[0.8888888888888888,\"#fdca26\"],[1.0,\"#f0f921\"]],\"type\":\"surface\"}],\"table\":[{\"cells\":{\"fill\":{\"color\":\"#EBF0F8\"},\"line\":{\"color\":\"white\"}},\"header\":{\"fill\":{\"color\":\"#C8D4E3\"},\"line\":{\"color\":\"white\"}},\"type\":\"table\"}]},\"layout\":{\"annotationdefaults\":{\"arrowcolor\":\"#2a3f5f\",\"arrowhead\":0,\"arrowwidth\":1},\"autotypenumbers\":\"strict\",\"coloraxis\":{\"colorbar\":{\"outlinewidth\":0,\"ticks\":\"\"}},\"colorscale\":{\"diverging\":[[0,\"#8e0152\"],[0.1,\"#c51b7d\"],[0.2,\"#de77ae\"],[0.3,\"#f1b6da\"],[0.4,\"#fde0ef\"],[0.5,\"#f7f7f7\"],[0.6,\"#e6f5d0\"],[0.7,\"#b8e186\"],[0.8,\"#7fbc41\"],[0.9,\"#4d9221\"],[1,\"#276419\"]],\"sequential\":[[0.0,\"#0d0887\"],[0.1111111111111111,\"#46039f\"],[0.2222222222222222,\"#7201a8\"],[0.3333333333333333,\"#9c179e\"],[0.4444444444444444,\"#bd3786\"],[0.5555555555555556,\"#d8576b\"],[0.6666666666666666,\"#ed7953\"],[0.7777777777777778,\"#fb9f3a\"],[0.8888888888888888,\"#fdca26\"],[1.0,\"#f0f921\"]],\"sequentialminus\":[[0.0,\"#0d0887\"],[0.1111111111111111,\"#46039f\"],[0.2222222222222222,\"#7201a8\"],[0.3333333333333333,\"#9c179e\"],[0.4444444444444444,\"#bd3786\"],[0.5555555555555556,\"#d8576b\"],[0.6666666666666666,\"#ed7953\"],[0.7777777777777778,\"#fb9f3a\"],[0.8888888888888888,\"#fdca26\"],[1.0,\"#f0f921\"]]},\"colorway\":[\"#636efa\",\"#EF553B\",\"#00cc96\",\"#ab63fa\",\"#FFA15A\",\"#19d3f3\",\"#FF6692\",\"#B6E880\",\"#FF97FF\",\"#FECB52\"],\"font\":{\"color\":\"#2a3f5f\"},\"geo\":{\"bgcolor\":\"white\",\"lakecolor\":\"white\",\"landcolor\":\"#E5ECF6\",\"showlakes\":true,\"showland\":true,\"subunitcolor\":\"white\"},\"hoverlabel\":{\"align\":\"left\"},\"hovermode\":\"closest\",\"mapbox\":{\"style\":\"light\"},\"paper_bgcolor\":\"white\",\"plot_bgcolor\":\"#E5ECF6\",\"polar\":{\"angularaxis\":{\"gridcolor\":\"white\",\"linecolor\":\"white\",\"ticks\":\"\"},\"bgcolor\":\"#E5ECF6\",\"radialaxis\":{\"gridcolor\":\"white\",\"linecolor\":\"white\",\"ticks\":\"\"}},\"scene\":{\"xaxis\":{\"backgroundcolor\":\"#E5ECF6\",\"gridcolor\":\"white\",\"gridwidth\":2,\"linecolor\":\"white\",\"showbackground\":true,\"ticks\":\"\",\"zerolinecolor\":\"white\"},\"yaxis\":{\"backgroundcolor\":\"#E5ECF6\",\"gridcolor\":\"white\",\"gridwidth\":2,\"linecolor\":\"white\",\"showbackground\":true,\"ticks\":\"\",\"zerolinecolor\":\"white\"},\"zaxis\":{\"backgroundcolor\":\"#E5ECF6\",\"gridcolor\":\"white\",\"gridwidth\":2,\"linecolor\":\"white\",\"showbackground\":true,\"ticks\":\"\",\"zerolinecolor\":\"white\"}},\"shapedefaults\":{\"line\":{\"color\":\"#2a3f5f\"}},\"ternary\":{\"aaxis\":{\"gridcolor\":\"white\",\"linecolor\":\"white\",\"ticks\":\"\"},\"baxis\":{\"gridcolor\":\"white\",\"linecolor\":\"white\",\"ticks\":\"\"},\"bgcolor\":\"#E5ECF6\",\"caxis\":{\"gridcolor\":\"white\",\"linecolor\":\"white\",\"ticks\":\"\"}},\"title\":{\"x\":0.05},\"xaxis\":{\"automargin\":true,\"gridcolor\":\"white\",\"linecolor\":\"white\",\"ticks\":\"\",\"title\":{\"standoff\":15},\"zerolinecolor\":\"white\",\"zerolinewidth\":2},\"yaxis\":{\"automargin\":true,\"gridcolor\":\"white\",\"linecolor\":\"white\",\"ticks\":\"\",\"title\":{\"standoff\":15},\"zerolinecolor\":\"white\",\"zerolinewidth\":2}}},\"title\":{\"text\":\"Kids involvement into traffic accidents in the biggest regions in KSA\"},\"xaxis\":{\"anchor\":\"y\",\"domain\":[0.0,1.0],\"title\":{\"text\":\"Month in Hijri\"}},\"yaxis\":{\"anchor\":\"x\",\"domain\":[0.0,1.0],\"title\":{\"text\":\"Percentage of kids in accidents\"}}},                        {\"responsive\": true}                    ).then(function(){\n",
       "                            \n",
       "var gd = document.getElementById('a9588c9d-585e-4cbe-aee0-cf1338fb56a8');\n",
       "var x = new MutationObserver(function (mutations, observer) {{\n",
       "        var display = window.getComputedStyle(gd).display;\n",
       "        if (!display || display === 'none') {{\n",
       "            console.log([gd, 'removed!']);\n",
       "            Plotly.purge(gd);\n",
       "            observer.disconnect();\n",
       "        }}\n",
       "}});\n",
       "\n",
       "// Listen for the removal of the full notebook cells\n",
       "var notebookContainer = gd.closest('#notebook-container');\n",
       "if (notebookContainer) {{\n",
       "    x.observe(notebookContainer, {childList: true});\n",
       "}}\n",
       "\n",
       "// Listen for the clearing of the current output cell\n",
       "var outputEl = gd.closest('.output');\n",
       "if (outputEl) {{\n",
       "    x.observe(outputEl, {childList: true});\n",
       "}}\n",
       "\n",
       "                        })                };                });            </script>        </div>"
      ]
     },
     "metadata": {},
     "output_type": "display_data"
    }
   ],
   "source": [
    "import plotly.express as px\n",
    "\n",
    "fig = px.line(age_df, x=age_df[\"month\"].unique(), y=[riyadh_underage,jedda_underage, eastern_underage],\n",
    "              title=\"Kids involvement into traffic accidents in the biggest regions in KSA\",\n",
    "              labels={\n",
    "                     \"x\": \"Month in Hijri\",\n",
    "                     \"value\": \"Percentage of kids in accidents\"})\n",
    "fig.update_layout(\n",
    "    legend_title=\"Regions\")\n",
    "\n",
    "newnames = {\n",
    "\n",
    "   'wide_variable_0': 'Riyadh',\n",
    "    'wide_variable_1': 'Jedda',\n",
    "    'wide_variable_2': 'Eastern',\n",
    "}\n",
    "fig.for_each_trace(lambda t: t.update(name = newnames[t.name],\n",
    "   legendgroup = newnames[t.name],\n",
    "   hovertemplate = t.hovertemplate.replace(t.name, newnames[t.name])\n",
    "))\n",
    "\n",
    "fig.show()"
   ]
  },
  {
   "cell_type": "markdown",
   "id": "51e52ab1",
   "metadata": {},
   "source": [
    "# Percentage of accidents where kids are involved per region during 1439 H"
   ]
  },
  {
   "cell_type": "code",
   "execution_count": 421,
   "id": "af1e1547",
   "metadata": {
    "scrolled": true
   },
   "outputs": [
    {
     "data": {
      "text/plain": [
       "Text(0.5, 0, 'Region')"
      ]
     },
     "execution_count": 421,
     "metadata": {},
     "output_type": "execute_result"
    },
    {
     "data": {
      "image/png": "[encoded data removed]",
      "text/plain": [
       "<Figure size 1008x288 with 1 Axes>"
      ]
     },
     "metadata": {
      "needs_background": "light"
     },
     "output_type": "display_data"
    }
   ],
   "source": [
    "fig, axs = plt.subplots(figsize=(14, 4))\n",
    "underage = (age_df.groupby(['region'])[\"18-\"].sum()/age_df.groupby(['region'])[\"Total\"].sum())\n",
    "underage.plot.bar(ax=axs,x=\"region\")\n",
    "axs.set_title(\"Percentage of accidents where kids are involved per region during 1439 H\")\n",
    "axs.set_ylabel(\"Percentage of accidents\")\n",
    "axs.set_xlabel(\"Region\")"
   ]
  },
  {
   "cell_type": "code",
   "execution_count": null,
   "id": "4504eb1e",
   "metadata": {},
   "outputs": [],
   "source": []
  },
  {
   "cell_type": "code",
   "execution_count": 422,
   "id": "bdb630c9",
   "metadata": {},
   "outputs": [
    {
     "data": {
      "text/plain": [
       "Text(0.5, 0, 'Month in Hijri')"
      ]
     },
     "execution_count": 422,
     "metadata": {},
     "output_type": "execute_result"
    },
    {
     "data": {
      "image/png": "[encoded data removed]",
      "text/plain": [
       "<Figure size 1008x288 with 1 Axes>"
      ]
     },
     "metadata": {
      "needs_background": "light"
     },
     "output_type": "display_data"
    }
   ],
   "source": [
    "fig, axs = plt.subplots(figsize=(14, 4))\n",
    "age_df_najran = age_df.drop('Total', axis=1)\n",
    "age_df_najran.groupby(['region']).get_group(\"Najran\").plot.bar(ax=axs,x=\"month\")\n",
    "axs.set_title(\"Total number of accidents in Najran for age groups during 1439 H\")\n",
    "axs.set_ylabel(\"Number of accidents\")\n",
    "axs.set_xlabel(\"Month in Hijri\")"
   ]
  },
  {
   "cell_type": "markdown",
   "id": "1494f49a",
   "metadata": {},
   "source": [
    "# Total accidents in 1439 H"
   ]
  },
  {
   "cell_type": "code",
   "execution_count": 423,
   "id": "b73b7c12",
   "metadata": {
    "scrolled": true
   },
   "outputs": [
    {
     "data": {
      "image/png": "[encoded data removed]",
      "text/plain": [
       "<Figure size 1008x504 with 1 Axes>"
      ]
     },
     "metadata": {
      "needs_background": "light"
     },
     "output_type": "display_data"
    }
   ],
   "source": [
    "\n",
    "fig, ax = plt.subplots(figsize=(14,7))\n",
    "plt.xticks(fontsize=14, rotation=90)\n",
    "plt.yticks(fontsize=14)\n",
    "plt.ylabel('Total Accidents', fontsize=14)\n",
    "plt.xlabel('Hijri Month', fontsize=14)\n",
    "plt.title('Total accidents for all age groups per Hijri month', fontsize=18)\n",
    "ax = sns.barplot(x=age_df[\"month\"].unique(), y=age_df.groupby([\"month\"])['Total'].sum(),\n",
    "                 order=['Muharram', 'Safar', 'Rabi al-awwal', 'Rabi al-thani',\n",
    "       'Jumada al-awwal', 'Jumada al-thani', 'Rajab', 'Shaban', 'Ramadan',\n",
    "       'Shawwal', 'Dhul Qadah', 'Dhul Hijjah'])\n",
    "\n",
    "plt.show()"
   ]
  }
 ],
 "metadata": {
  "kernelspec": {
   "display_name": "Python 3 (ipykernel)",
   "language": "python",
   "name": "python3"
  },
  "language_info": {
   "codemirror_mode": {
    "name": "ipython",
    "version": 3
   },
   "file_extension": ".py",
   "mimetype": "text/x-python",
   "name": "python",
   "nbconvert_exporter": "python",
   "pygments_lexer": "ipython3",
   "version": "3.8.12"
  }
 },
 "nbformat": 4,
 "nbformat_minor": 5
}
